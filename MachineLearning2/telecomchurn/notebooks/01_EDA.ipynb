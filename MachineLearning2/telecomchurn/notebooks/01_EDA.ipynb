{
 "cells": [
  {
   "cell_type": "markdown",
   "metadata": {},
   "source": [
    "# Problem description\n",
    "\n",
    "In the telecom industry, customers are able to choose from multiple service providers and actively switch from one operator to another. In this highly competitive market, the telecommunications industry experiences an average of 15-25% annual churn rate. Given the fact that it costs 5-10 times more to acquire a new customer than to retain an existing one, customer retention has now become even more important than customer acquisition.\n",
    "\n",
    "\n",
    "\n",
    "For many incumbent operators, retaining high profitable customers is the number one business goal. To reduce customer churn, telecom companies need to predict which customers are at high risk of churn.\n",
    "\n",
    "## Definition of churn\n",
    "\n",
    "There are two main models of payment in the telecom industry - postpaid (customers pay a monthly/annual bill after using the services) and prepaid (customers pay/recharge with a certain amount in advance and then use the services).\n",
    "\n",
    "In the Indian and the southeast Asian market, approximately 80% of revenue comes from the top 20% customers (called high-value customers). Thus, if we can reduce churn of the high-value customers, we will be able to reduce significant revenue leakage.\n",
    "\n",
    "## Goal of the analysis\n",
    " \n",
    "\n",
    "Define high-value customers based on a certain metric (mentioned later below) and predict churn only on high-value customers."
   ]
  },
  {
   "cell_type": "markdown",
   "metadata": {},
   "source": [
    "### Import the analysis libraries"
   ]
  },
  {
   "cell_type": "code",
   "execution_count": 1,
   "metadata": {
    "pycharm": {
     "name": "#%%\n"
    }
   },
   "outputs": [],
   "source": [
    "\n",
    "import numpy as np\n",
    "import pandas as pd\n",
    "import matplotlib.pyplot as plt\n",
    "import seaborn as sns\n",
    "import warnings\n",
    "warnings.filterwarnings('ignore')\n",
    "\n",
    "\n",
    "# matplotlib output formatting\n",
    "%matplotlib inline\n",
    "\n",
    "# pandas output formatting\n",
    "pd.options.display.float_format = '{:.2f}'.format\n",
    "\n",
    "\n",
    "# Utility fuction: line seperator\n",
    "def print_ln():\n",
    "    print('-'*80, '\\n')\n",
    "\n"
   ]
  },
  {
   "cell_type": "markdown",
   "metadata": {},
   "source": [
    "### Load the dataset"
   ]
  },
  {
   "cell_type": "code",
   "execution_count": 2,
   "metadata": {
    "pycharm": {
     "name": "#%%\n"
    }
   },
   "outputs": [
    {
     "data": {
      "text/html": [
       "<div>\n",
       "<style scoped>\n",
       "    .dataframe tbody tr th:only-of-type {\n",
       "        vertical-align: middle;\n",
       "    }\n",
       "\n",
       "    .dataframe tbody tr th {\n",
       "        vertical-align: top;\n",
       "    }\n",
       "\n",
       "    .dataframe thead th {\n",
       "        text-align: right;\n",
       "    }\n",
       "</style>\n",
       "<table border=\"1\" class=\"dataframe\">\n",
       "  <thead>\n",
       "    <tr style=\"text-align: right;\">\n",
       "      <th></th>\n",
       "      <th>mobile_number</th>\n",
       "      <th>circle_id</th>\n",
       "      <th>loc_og_t2o_mou</th>\n",
       "      <th>std_og_t2o_mou</th>\n",
       "      <th>loc_ic_t2o_mou</th>\n",
       "      <th>last_date_of_month_6</th>\n",
       "      <th>last_date_of_month_7</th>\n",
       "      <th>last_date_of_month_8</th>\n",
       "      <th>last_date_of_month_9</th>\n",
       "      <th>arpu_6</th>\n",
       "      <th>...</th>\n",
       "      <th>sachet_3g_9</th>\n",
       "      <th>fb_user_6</th>\n",
       "      <th>fb_user_7</th>\n",
       "      <th>fb_user_8</th>\n",
       "      <th>fb_user_9</th>\n",
       "      <th>aon</th>\n",
       "      <th>aug_vbc_3g</th>\n",
       "      <th>jul_vbc_3g</th>\n",
       "      <th>jun_vbc_3g</th>\n",
       "      <th>sep_vbc_3g</th>\n",
       "    </tr>\n",
       "  </thead>\n",
       "  <tbody>\n",
       "    <tr>\n",
       "      <th>0</th>\n",
       "      <td>7000842753</td>\n",
       "      <td>109</td>\n",
       "      <td>0.00</td>\n",
       "      <td>0.00</td>\n",
       "      <td>0.00</td>\n",
       "      <td>6/30/2014</td>\n",
       "      <td>7/31/2014</td>\n",
       "      <td>8/31/2014</td>\n",
       "      <td>9/30/2014</td>\n",
       "      <td>197.38</td>\n",
       "      <td>...</td>\n",
       "      <td>0</td>\n",
       "      <td>1.00</td>\n",
       "      <td>1.00</td>\n",
       "      <td>1.00</td>\n",
       "      <td>nan</td>\n",
       "      <td>968</td>\n",
       "      <td>30.40</td>\n",
       "      <td>0.00</td>\n",
       "      <td>101.20</td>\n",
       "      <td>3.58</td>\n",
       "    </tr>\n",
       "    <tr>\n",
       "      <th>1</th>\n",
       "      <td>7001865778</td>\n",
       "      <td>109</td>\n",
       "      <td>0.00</td>\n",
       "      <td>0.00</td>\n",
       "      <td>0.00</td>\n",
       "      <td>6/30/2014</td>\n",
       "      <td>7/31/2014</td>\n",
       "      <td>8/31/2014</td>\n",
       "      <td>9/30/2014</td>\n",
       "      <td>34.05</td>\n",
       "      <td>...</td>\n",
       "      <td>0</td>\n",
       "      <td>nan</td>\n",
       "      <td>1.00</td>\n",
       "      <td>1.00</td>\n",
       "      <td>nan</td>\n",
       "      <td>1006</td>\n",
       "      <td>0.00</td>\n",
       "      <td>0.00</td>\n",
       "      <td>0.00</td>\n",
       "      <td>0.00</td>\n",
       "    </tr>\n",
       "    <tr>\n",
       "      <th>2</th>\n",
       "      <td>7001625959</td>\n",
       "      <td>109</td>\n",
       "      <td>0.00</td>\n",
       "      <td>0.00</td>\n",
       "      <td>0.00</td>\n",
       "      <td>6/30/2014</td>\n",
       "      <td>7/31/2014</td>\n",
       "      <td>8/31/2014</td>\n",
       "      <td>9/30/2014</td>\n",
       "      <td>167.69</td>\n",
       "      <td>...</td>\n",
       "      <td>0</td>\n",
       "      <td>nan</td>\n",
       "      <td>nan</td>\n",
       "      <td>nan</td>\n",
       "      <td>1.00</td>\n",
       "      <td>1103</td>\n",
       "      <td>0.00</td>\n",
       "      <td>0.00</td>\n",
       "      <td>4.17</td>\n",
       "      <td>0.00</td>\n",
       "    </tr>\n",
       "    <tr>\n",
       "      <th>3</th>\n",
       "      <td>7001204172</td>\n",
       "      <td>109</td>\n",
       "      <td>0.00</td>\n",
       "      <td>0.00</td>\n",
       "      <td>0.00</td>\n",
       "      <td>6/30/2014</td>\n",
       "      <td>7/31/2014</td>\n",
       "      <td>8/31/2014</td>\n",
       "      <td>9/30/2014</td>\n",
       "      <td>221.34</td>\n",
       "      <td>...</td>\n",
       "      <td>0</td>\n",
       "      <td>nan</td>\n",
       "      <td>nan</td>\n",
       "      <td>nan</td>\n",
       "      <td>nan</td>\n",
       "      <td>2491</td>\n",
       "      <td>0.00</td>\n",
       "      <td>0.00</td>\n",
       "      <td>0.00</td>\n",
       "      <td>0.00</td>\n",
       "    </tr>\n",
       "    <tr>\n",
       "      <th>4</th>\n",
       "      <td>7000142493</td>\n",
       "      <td>109</td>\n",
       "      <td>0.00</td>\n",
       "      <td>0.00</td>\n",
       "      <td>0.00</td>\n",
       "      <td>6/30/2014</td>\n",
       "      <td>7/31/2014</td>\n",
       "      <td>8/31/2014</td>\n",
       "      <td>9/30/2014</td>\n",
       "      <td>261.64</td>\n",
       "      <td>...</td>\n",
       "      <td>0</td>\n",
       "      <td>0.00</td>\n",
       "      <td>nan</td>\n",
       "      <td>nan</td>\n",
       "      <td>nan</td>\n",
       "      <td>1526</td>\n",
       "      <td>0.00</td>\n",
       "      <td>0.00</td>\n",
       "      <td>0.00</td>\n",
       "      <td>0.00</td>\n",
       "    </tr>\n",
       "  </tbody>\n",
       "</table>\n",
       "<p>5 rows × 226 columns</p>\n",
       "</div>"
      ],
      "text/plain": [
       "   mobile_number  circle_id  loc_og_t2o_mou  std_og_t2o_mou  loc_ic_t2o_mou  \\\n",
       "0     7000842753        109            0.00            0.00            0.00   \n",
       "1     7001865778        109            0.00            0.00            0.00   \n",
       "2     7001625959        109            0.00            0.00            0.00   \n",
       "3     7001204172        109            0.00            0.00            0.00   \n",
       "4     7000142493        109            0.00            0.00            0.00   \n",
       "\n",
       "  last_date_of_month_6 last_date_of_month_7 last_date_of_month_8  \\\n",
       "0            6/30/2014            7/31/2014            8/31/2014   \n",
       "1            6/30/2014            7/31/2014            8/31/2014   \n",
       "2            6/30/2014            7/31/2014            8/31/2014   \n",
       "3            6/30/2014            7/31/2014            8/31/2014   \n",
       "4            6/30/2014            7/31/2014            8/31/2014   \n",
       "\n",
       "  last_date_of_month_9  arpu_6  ...  sachet_3g_9  fb_user_6  fb_user_7  \\\n",
       "0            9/30/2014  197.38  ...            0       1.00       1.00   \n",
       "1            9/30/2014   34.05  ...            0        nan       1.00   \n",
       "2            9/30/2014  167.69  ...            0        nan        nan   \n",
       "3            9/30/2014  221.34  ...            0        nan        nan   \n",
       "4            9/30/2014  261.64  ...            0       0.00        nan   \n",
       "\n",
       "   fb_user_8  fb_user_9   aon  aug_vbc_3g  jul_vbc_3g  jun_vbc_3g  sep_vbc_3g  \n",
       "0       1.00        nan   968       30.40        0.00      101.20        3.58  \n",
       "1       1.00        nan  1006        0.00        0.00        0.00        0.00  \n",
       "2        nan       1.00  1103        0.00        0.00        4.17        0.00  \n",
       "3        nan        nan  2491        0.00        0.00        0.00        0.00  \n",
       "4        nan        nan  1526        0.00        0.00        0.00        0.00  \n",
       "\n",
       "[5 rows x 226 columns]"
      ]
     },
     "execution_count": 2,
     "metadata": {},
     "output_type": "execute_result"
    }
   ],
   "source": [
    "# Load csv data file\n",
    "telecom_orig = pd.read_csv('../data/raw/telecom_churn_data.csv', low_memory=False)\n",
    "telecom_orig.head(5)"
   ]
  },
  {
   "cell_type": "markdown",
   "metadata": {},
   "source": [
    "### Describe the dataset features"
   ]
  },
  {
   "cell_type": "code",
   "execution_count": 3,
   "metadata": {
    "pycharm": {
     "name": "#%%\n"
    }
   },
   "outputs": [
    {
     "data": {
      "text/html": [
       "<div>\n",
       "<style scoped>\n",
       "    .dataframe tbody tr th:only-of-type {\n",
       "        vertical-align: middle;\n",
       "    }\n",
       "\n",
       "    .dataframe tbody tr th {\n",
       "        vertical-align: top;\n",
       "    }\n",
       "\n",
       "    .dataframe thead th {\n",
       "        text-align: right;\n",
       "    }\n",
       "</style>\n",
       "<table border=\"1\" class=\"dataframe\">\n",
       "  <thead>\n",
       "    <tr style=\"text-align: right;\">\n",
       "      <th></th>\n",
       "      <th>mobile_number</th>\n",
       "      <th>circle_id</th>\n",
       "      <th>loc_og_t2o_mou</th>\n",
       "      <th>std_og_t2o_mou</th>\n",
       "      <th>loc_ic_t2o_mou</th>\n",
       "      <th>arpu_6</th>\n",
       "      <th>arpu_7</th>\n",
       "      <th>arpu_8</th>\n",
       "      <th>arpu_9</th>\n",
       "      <th>onnet_mou_6</th>\n",
       "      <th>...</th>\n",
       "      <th>sachet_3g_9</th>\n",
       "      <th>fb_user_6</th>\n",
       "      <th>fb_user_7</th>\n",
       "      <th>fb_user_8</th>\n",
       "      <th>fb_user_9</th>\n",
       "      <th>aon</th>\n",
       "      <th>aug_vbc_3g</th>\n",
       "      <th>jul_vbc_3g</th>\n",
       "      <th>jun_vbc_3g</th>\n",
       "      <th>sep_vbc_3g</th>\n",
       "    </tr>\n",
       "  </thead>\n",
       "  <tbody>\n",
       "    <tr>\n",
       "      <th>count</th>\n",
       "      <td>99999.00</td>\n",
       "      <td>99999.00</td>\n",
       "      <td>98981.00</td>\n",
       "      <td>98981.00</td>\n",
       "      <td>98981.00</td>\n",
       "      <td>99999.00</td>\n",
       "      <td>99999.00</td>\n",
       "      <td>99999.00</td>\n",
       "      <td>99999.00</td>\n",
       "      <td>96062.00</td>\n",
       "      <td>...</td>\n",
       "      <td>99999.00</td>\n",
       "      <td>25153.00</td>\n",
       "      <td>25571.00</td>\n",
       "      <td>26339.00</td>\n",
       "      <td>25922.00</td>\n",
       "      <td>99999.00</td>\n",
       "      <td>99999.00</td>\n",
       "      <td>99999.00</td>\n",
       "      <td>99999.00</td>\n",
       "      <td>99999.00</td>\n",
       "    </tr>\n",
       "    <tr>\n",
       "      <th>mean</th>\n",
       "      <td>7001207270.39</td>\n",
       "      <td>109.00</td>\n",
       "      <td>0.00</td>\n",
       "      <td>0.00</td>\n",
       "      <td>0.00</td>\n",
       "      <td>282.99</td>\n",
       "      <td>278.54</td>\n",
       "      <td>279.15</td>\n",
       "      <td>261.65</td>\n",
       "      <td>132.40</td>\n",
       "      <td>...</td>\n",
       "      <td>0.08</td>\n",
       "      <td>0.91</td>\n",
       "      <td>0.91</td>\n",
       "      <td>0.89</td>\n",
       "      <td>0.86</td>\n",
       "      <td>1219.85</td>\n",
       "      <td>68.17</td>\n",
       "      <td>66.84</td>\n",
       "      <td>60.02</td>\n",
       "      <td>3.30</td>\n",
       "    </tr>\n",
       "    <tr>\n",
       "      <th>std</th>\n",
       "      <td>695669.39</td>\n",
       "      <td>0.00</td>\n",
       "      <td>0.00</td>\n",
       "      <td>0.00</td>\n",
       "      <td>0.00</td>\n",
       "      <td>328.44</td>\n",
       "      <td>338.16</td>\n",
       "      <td>344.47</td>\n",
       "      <td>342.00</td>\n",
       "      <td>297.21</td>\n",
       "      <td>...</td>\n",
       "      <td>0.65</td>\n",
       "      <td>0.28</td>\n",
       "      <td>0.29</td>\n",
       "      <td>0.31</td>\n",
       "      <td>0.35</td>\n",
       "      <td>954.73</td>\n",
       "      <td>267.58</td>\n",
       "      <td>271.20</td>\n",
       "      <td>253.94</td>\n",
       "      <td>32.41</td>\n",
       "    </tr>\n",
       "    <tr>\n",
       "      <th>min</th>\n",
       "      <td>7000000074.00</td>\n",
       "      <td>109.00</td>\n",
       "      <td>0.00</td>\n",
       "      <td>0.00</td>\n",
       "      <td>0.00</td>\n",
       "      <td>-2258.71</td>\n",
       "      <td>-2014.05</td>\n",
       "      <td>-945.81</td>\n",
       "      <td>-1899.51</td>\n",
       "      <td>0.00</td>\n",
       "      <td>...</td>\n",
       "      <td>0.00</td>\n",
       "      <td>0.00</td>\n",
       "      <td>0.00</td>\n",
       "      <td>0.00</td>\n",
       "      <td>0.00</td>\n",
       "      <td>180.00</td>\n",
       "      <td>0.00</td>\n",
       "      <td>0.00</td>\n",
       "      <td>0.00</td>\n",
       "      <td>0.00</td>\n",
       "    </tr>\n",
       "    <tr>\n",
       "      <th>25%</th>\n",
       "      <td>7000606232.50</td>\n",
       "      <td>109.00</td>\n",
       "      <td>0.00</td>\n",
       "      <td>0.00</td>\n",
       "      <td>0.00</td>\n",
       "      <td>93.41</td>\n",
       "      <td>86.98</td>\n",
       "      <td>84.13</td>\n",
       "      <td>62.69</td>\n",
       "      <td>7.38</td>\n",
       "      <td>...</td>\n",
       "      <td>0.00</td>\n",
       "      <td>1.00</td>\n",
       "      <td>1.00</td>\n",
       "      <td>1.00</td>\n",
       "      <td>1.00</td>\n",
       "      <td>467.00</td>\n",
       "      <td>0.00</td>\n",
       "      <td>0.00</td>\n",
       "      <td>0.00</td>\n",
       "      <td>0.00</td>\n",
       "    </tr>\n",
       "    <tr>\n",
       "      <th>50%</th>\n",
       "      <td>7001204632.00</td>\n",
       "      <td>109.00</td>\n",
       "      <td>0.00</td>\n",
       "      <td>0.00</td>\n",
       "      <td>0.00</td>\n",
       "      <td>197.70</td>\n",
       "      <td>191.64</td>\n",
       "      <td>192.08</td>\n",
       "      <td>176.85</td>\n",
       "      <td>34.31</td>\n",
       "      <td>...</td>\n",
       "      <td>0.00</td>\n",
       "      <td>1.00</td>\n",
       "      <td>1.00</td>\n",
       "      <td>1.00</td>\n",
       "      <td>1.00</td>\n",
       "      <td>863.00</td>\n",
       "      <td>0.00</td>\n",
       "      <td>0.00</td>\n",
       "      <td>0.00</td>\n",
       "      <td>0.00</td>\n",
       "    </tr>\n",
       "    <tr>\n",
       "      <th>75%</th>\n",
       "      <td>7001812030.50</td>\n",
       "      <td>109.00</td>\n",
       "      <td>0.00</td>\n",
       "      <td>0.00</td>\n",
       "      <td>0.00</td>\n",
       "      <td>371.06</td>\n",
       "      <td>365.34</td>\n",
       "      <td>369.37</td>\n",
       "      <td>353.47</td>\n",
       "      <td>118.74</td>\n",
       "      <td>...</td>\n",
       "      <td>0.00</td>\n",
       "      <td>1.00</td>\n",
       "      <td>1.00</td>\n",
       "      <td>1.00</td>\n",
       "      <td>1.00</td>\n",
       "      <td>1807.50</td>\n",
       "      <td>0.00</td>\n",
       "      <td>0.00</td>\n",
       "      <td>0.00</td>\n",
       "      <td>0.00</td>\n",
       "    </tr>\n",
       "    <tr>\n",
       "      <th>max</th>\n",
       "      <td>7002410905.00</td>\n",
       "      <td>109.00</td>\n",
       "      <td>0.00</td>\n",
       "      <td>0.00</td>\n",
       "      <td>0.00</td>\n",
       "      <td>27731.09</td>\n",
       "      <td>35145.83</td>\n",
       "      <td>33543.62</td>\n",
       "      <td>38805.62</td>\n",
       "      <td>7376.71</td>\n",
       "      <td>...</td>\n",
       "      <td>49.00</td>\n",
       "      <td>1.00</td>\n",
       "      <td>1.00</td>\n",
       "      <td>1.00</td>\n",
       "      <td>1.00</td>\n",
       "      <td>4337.00</td>\n",
       "      <td>12916.22</td>\n",
       "      <td>9165.60</td>\n",
       "      <td>11166.21</td>\n",
       "      <td>2618.57</td>\n",
       "    </tr>\n",
       "  </tbody>\n",
       "</table>\n",
       "<p>8 rows × 214 columns</p>\n",
       "</div>"
      ],
      "text/plain": [
       "       mobile_number  circle_id  loc_og_t2o_mou  std_og_t2o_mou  \\\n",
       "count       99999.00   99999.00        98981.00        98981.00   \n",
       "mean   7001207270.39     109.00            0.00            0.00   \n",
       "std        695669.39       0.00            0.00            0.00   \n",
       "min    7000000074.00     109.00            0.00            0.00   \n",
       "25%    7000606232.50     109.00            0.00            0.00   \n",
       "50%    7001204632.00     109.00            0.00            0.00   \n",
       "75%    7001812030.50     109.00            0.00            0.00   \n",
       "max    7002410905.00     109.00            0.00            0.00   \n",
       "\n",
       "       loc_ic_t2o_mou   arpu_6   arpu_7   arpu_8   arpu_9  onnet_mou_6  ...  \\\n",
       "count        98981.00 99999.00 99999.00 99999.00 99999.00     96062.00  ...   \n",
       "mean             0.00   282.99   278.54   279.15   261.65       132.40  ...   \n",
       "std              0.00   328.44   338.16   344.47   342.00       297.21  ...   \n",
       "min              0.00 -2258.71 -2014.05  -945.81 -1899.51         0.00  ...   \n",
       "25%              0.00    93.41    86.98    84.13    62.69         7.38  ...   \n",
       "50%              0.00   197.70   191.64   192.08   176.85        34.31  ...   \n",
       "75%              0.00   371.06   365.34   369.37   353.47       118.74  ...   \n",
       "max              0.00 27731.09 35145.83 33543.62 38805.62      7376.71  ...   \n",
       "\n",
       "       sachet_3g_9  fb_user_6  fb_user_7  fb_user_8  fb_user_9      aon  \\\n",
       "count     99999.00   25153.00   25571.00   26339.00   25922.00 99999.00   \n",
       "mean          0.08       0.91       0.91       0.89       0.86  1219.85   \n",
       "std           0.65       0.28       0.29       0.31       0.35   954.73   \n",
       "min           0.00       0.00       0.00       0.00       0.00   180.00   \n",
       "25%           0.00       1.00       1.00       1.00       1.00   467.00   \n",
       "50%           0.00       1.00       1.00       1.00       1.00   863.00   \n",
       "75%           0.00       1.00       1.00       1.00       1.00  1807.50   \n",
       "max          49.00       1.00       1.00       1.00       1.00  4337.00   \n",
       "\n",
       "       aug_vbc_3g  jul_vbc_3g  jun_vbc_3g  sep_vbc_3g  \n",
       "count    99999.00    99999.00    99999.00    99999.00  \n",
       "mean        68.17       66.84       60.02        3.30  \n",
       "std        267.58      271.20      253.94       32.41  \n",
       "min          0.00        0.00        0.00        0.00  \n",
       "25%          0.00        0.00        0.00        0.00  \n",
       "50%          0.00        0.00        0.00        0.00  \n",
       "75%          0.00        0.00        0.00        0.00  \n",
       "max      12916.22     9165.60    11166.21     2618.57  \n",
       "\n",
       "[8 rows x 214 columns]"
      ]
     },
     "execution_count": 3,
     "metadata": {},
     "output_type": "execute_result"
    }
   ],
   "source": [
    "telecom_orig.describe()"
   ]
  },
  {
   "cell_type": "code",
   "execution_count": 4,
   "metadata": {
    "pycharm": {
     "name": "#%%\n"
    }
   },
   "outputs": [
    {
     "name": "stdout",
     "output_type": "stream",
     "text": [
      "Dataframe Shape:  (99999, 226)\n",
      "-------------------------------------------------------------------------------- \n",
      "\n",
      "Dataframe Info: \n",
      "\n",
      "<class 'pandas.core.frame.DataFrame'>\n",
      "RangeIndex: 99999 entries, 0 to 99998\n",
      "Columns: 226 entries, mobile_number to sep_vbc_3g\n",
      "dtypes: float64(179), int64(35), object(12)\n",
      "memory usage: 172.4+ MB\n",
      "-------------------------------------------------------------------------------- \n",
      "\n"
     ]
    },
    {
     "data": {
      "text/html": [
       "<div>\n",
       "<style scoped>\n",
       "    .dataframe tbody tr th:only-of-type {\n",
       "        vertical-align: middle;\n",
       "    }\n",
       "\n",
       "    .dataframe tbody tr th {\n",
       "        vertical-align: top;\n",
       "    }\n",
       "\n",
       "    .dataframe thead th {\n",
       "        text-align: right;\n",
       "    }\n",
       "</style>\n",
       "<table border=\"1\" class=\"dataframe\">\n",
       "  <thead>\n",
       "    <tr style=\"text-align: right;\">\n",
       "      <th></th>\n",
       "      <th>mobile_number</th>\n",
       "      <th>circle_id</th>\n",
       "      <th>loc_og_t2o_mou</th>\n",
       "      <th>std_og_t2o_mou</th>\n",
       "      <th>loc_ic_t2o_mou</th>\n",
       "      <th>last_date_of_month_6</th>\n",
       "      <th>last_date_of_month_7</th>\n",
       "      <th>last_date_of_month_8</th>\n",
       "      <th>last_date_of_month_9</th>\n",
       "      <th>arpu_6</th>\n",
       "      <th>...</th>\n",
       "      <th>sachet_3g_9</th>\n",
       "      <th>fb_user_6</th>\n",
       "      <th>fb_user_7</th>\n",
       "      <th>fb_user_8</th>\n",
       "      <th>fb_user_9</th>\n",
       "      <th>aon</th>\n",
       "      <th>aug_vbc_3g</th>\n",
       "      <th>jul_vbc_3g</th>\n",
       "      <th>jun_vbc_3g</th>\n",
       "      <th>sep_vbc_3g</th>\n",
       "    </tr>\n",
       "  </thead>\n",
       "  <tbody>\n",
       "    <tr>\n",
       "      <th>0</th>\n",
       "      <td>7000842753</td>\n",
       "      <td>109</td>\n",
       "      <td>0.00</td>\n",
       "      <td>0.00</td>\n",
       "      <td>0.00</td>\n",
       "      <td>6/30/2014</td>\n",
       "      <td>7/31/2014</td>\n",
       "      <td>8/31/2014</td>\n",
       "      <td>9/30/2014</td>\n",
       "      <td>197.38</td>\n",
       "      <td>...</td>\n",
       "      <td>0</td>\n",
       "      <td>1.00</td>\n",
       "      <td>1.00</td>\n",
       "      <td>1.00</td>\n",
       "      <td>nan</td>\n",
       "      <td>968</td>\n",
       "      <td>30.40</td>\n",
       "      <td>0.00</td>\n",
       "      <td>101.20</td>\n",
       "      <td>3.58</td>\n",
       "    </tr>\n",
       "    <tr>\n",
       "      <th>1</th>\n",
       "      <td>7001865778</td>\n",
       "      <td>109</td>\n",
       "      <td>0.00</td>\n",
       "      <td>0.00</td>\n",
       "      <td>0.00</td>\n",
       "      <td>6/30/2014</td>\n",
       "      <td>7/31/2014</td>\n",
       "      <td>8/31/2014</td>\n",
       "      <td>9/30/2014</td>\n",
       "      <td>34.05</td>\n",
       "      <td>...</td>\n",
       "      <td>0</td>\n",
       "      <td>nan</td>\n",
       "      <td>1.00</td>\n",
       "      <td>1.00</td>\n",
       "      <td>nan</td>\n",
       "      <td>1006</td>\n",
       "      <td>0.00</td>\n",
       "      <td>0.00</td>\n",
       "      <td>0.00</td>\n",
       "      <td>0.00</td>\n",
       "    </tr>\n",
       "    <tr>\n",
       "      <th>2</th>\n",
       "      <td>7001625959</td>\n",
       "      <td>109</td>\n",
       "      <td>0.00</td>\n",
       "      <td>0.00</td>\n",
       "      <td>0.00</td>\n",
       "      <td>6/30/2014</td>\n",
       "      <td>7/31/2014</td>\n",
       "      <td>8/31/2014</td>\n",
       "      <td>9/30/2014</td>\n",
       "      <td>167.69</td>\n",
       "      <td>...</td>\n",
       "      <td>0</td>\n",
       "      <td>nan</td>\n",
       "      <td>nan</td>\n",
       "      <td>nan</td>\n",
       "      <td>1.00</td>\n",
       "      <td>1103</td>\n",
       "      <td>0.00</td>\n",
       "      <td>0.00</td>\n",
       "      <td>4.17</td>\n",
       "      <td>0.00</td>\n",
       "    </tr>\n",
       "    <tr>\n",
       "      <th>3</th>\n",
       "      <td>7001204172</td>\n",
       "      <td>109</td>\n",
       "      <td>0.00</td>\n",
       "      <td>0.00</td>\n",
       "      <td>0.00</td>\n",
       "      <td>6/30/2014</td>\n",
       "      <td>7/31/2014</td>\n",
       "      <td>8/31/2014</td>\n",
       "      <td>9/30/2014</td>\n",
       "      <td>221.34</td>\n",
       "      <td>...</td>\n",
       "      <td>0</td>\n",
       "      <td>nan</td>\n",
       "      <td>nan</td>\n",
       "      <td>nan</td>\n",
       "      <td>nan</td>\n",
       "      <td>2491</td>\n",
       "      <td>0.00</td>\n",
       "      <td>0.00</td>\n",
       "      <td>0.00</td>\n",
       "      <td>0.00</td>\n",
       "    </tr>\n",
       "    <tr>\n",
       "      <th>4</th>\n",
       "      <td>7000142493</td>\n",
       "      <td>109</td>\n",
       "      <td>0.00</td>\n",
       "      <td>0.00</td>\n",
       "      <td>0.00</td>\n",
       "      <td>6/30/2014</td>\n",
       "      <td>7/31/2014</td>\n",
       "      <td>8/31/2014</td>\n",
       "      <td>9/30/2014</td>\n",
       "      <td>261.64</td>\n",
       "      <td>...</td>\n",
       "      <td>0</td>\n",
       "      <td>0.00</td>\n",
       "      <td>nan</td>\n",
       "      <td>nan</td>\n",
       "      <td>nan</td>\n",
       "      <td>1526</td>\n",
       "      <td>0.00</td>\n",
       "      <td>0.00</td>\n",
       "      <td>0.00</td>\n",
       "      <td>0.00</td>\n",
       "    </tr>\n",
       "  </tbody>\n",
       "</table>\n",
       "<p>5 rows × 226 columns</p>\n",
       "</div>"
      ],
      "text/plain": [
       "   mobile_number  circle_id  loc_og_t2o_mou  std_og_t2o_mou  loc_ic_t2o_mou  \\\n",
       "0     7000842753        109            0.00            0.00            0.00   \n",
       "1     7001865778        109            0.00            0.00            0.00   \n",
       "2     7001625959        109            0.00            0.00            0.00   \n",
       "3     7001204172        109            0.00            0.00            0.00   \n",
       "4     7000142493        109            0.00            0.00            0.00   \n",
       "\n",
       "  last_date_of_month_6 last_date_of_month_7 last_date_of_month_8  \\\n",
       "0            6/30/2014            7/31/2014            8/31/2014   \n",
       "1            6/30/2014            7/31/2014            8/31/2014   \n",
       "2            6/30/2014            7/31/2014            8/31/2014   \n",
       "3            6/30/2014            7/31/2014            8/31/2014   \n",
       "4            6/30/2014            7/31/2014            8/31/2014   \n",
       "\n",
       "  last_date_of_month_9  arpu_6  ...  sachet_3g_9  fb_user_6  fb_user_7  \\\n",
       "0            9/30/2014  197.38  ...            0       1.00       1.00   \n",
       "1            9/30/2014   34.05  ...            0        nan       1.00   \n",
       "2            9/30/2014  167.69  ...            0        nan        nan   \n",
       "3            9/30/2014  221.34  ...            0        nan        nan   \n",
       "4            9/30/2014  261.64  ...            0       0.00        nan   \n",
       "\n",
       "   fb_user_8  fb_user_9   aon  aug_vbc_3g  jul_vbc_3g  jun_vbc_3g  sep_vbc_3g  \n",
       "0       1.00        nan   968       30.40        0.00      101.20        3.58  \n",
       "1       1.00        nan  1006        0.00        0.00        0.00        0.00  \n",
       "2        nan       1.00  1103        0.00        0.00        4.17        0.00  \n",
       "3        nan        nan  2491        0.00        0.00        0.00        0.00  \n",
       "4        nan        nan  1526        0.00        0.00        0.00        0.00  \n",
       "\n",
       "[5 rows x 226 columns]"
      ]
     },
     "execution_count": 4,
     "metadata": {},
     "output_type": "execute_result"
    }
   ],
   "source": [
    "# Understand the properties of loaded dataframe\n",
    "\n",
    "telecom = telecom_orig.copy()\n",
    "print('Dataframe Shape: ', telecom.shape); print_ln();\n",
    "print(\"Dataframe Info: \\n\"); telecom.info(); print_ln();\n",
    "telecom.head(5)"
   ]
  },
  {
   "cell_type": "code",
   "execution_count": 5,
   "metadata": {
    "pycharm": {
     "name": "#%%\n"
    }
   },
   "outputs": [
    {
     "name": "stdout",
     "output_type": "stream",
     "text": [
      "categorical_features : Index(['last_date_of_month_6', 'last_date_of_month_7', 'last_date_of_month_8',\n",
      "       'last_date_of_month_9', 'date_of_last_rech_6', 'date_of_last_rech_7',\n",
      "       'date_of_last_rech_8', 'date_of_last_rech_9',\n",
      "       'date_of_last_rech_data_6', 'date_of_last_rech_data_7',\n",
      "       'date_of_last_rech_data_8', 'date_of_last_rech_data_9'],\n",
      "      dtype='object')\n",
      "-------------------------------------------------------------------------------- \n",
      "\n",
      "numerical_features: Index(['mobile_number', 'circle_id', 'loc_og_t2o_mou', 'std_og_t2o_mou',\n",
      "       'loc_ic_t2o_mou', 'arpu_6', 'arpu_7', 'arpu_8', 'arpu_9', 'onnet_mou_6',\n",
      "       ...\n",
      "       'sachet_3g_9', 'fb_user_6', 'fb_user_7', 'fb_user_8', 'fb_user_9',\n",
      "       'aon', 'aug_vbc_3g', 'jul_vbc_3g', 'jun_vbc_3g', 'sep_vbc_3g'],\n",
      "      dtype='object', length=214)\n",
      "-------------------------------------------------------------------------------- \n",
      "\n"
     ]
    }
   ],
   "source": [
    "\n",
    "def type_features(data):\n",
    "    categorical_features = data.select_dtypes(include = [\"object\"]).columns\n",
    "    numerical_features = data.select_dtypes(exclude = [\"object\"]).columns\n",
    "    print( \"categorical_features :\",categorical_features)\n",
    "    print_ln()\n",
    "    print(\"numerical_features:\",numerical_features)\n",
    "    print_ln()\n",
    "    return categorical_features, numerical_features\n",
    "\n",
    "telecom_cat_features, telecom_num_features =  type_features(telecom)\n",
    "\n"
   ]
  },
  {
   "cell_type": "markdown",
   "metadata": {},
   "source": [
    "## Missing value analysis and treatment\n",
    "TODO\n",
    "- Delete: Delete the missing values\n",
    "- Imputing by a simple statistic: Replace the missing values by another value, commonly the mean, median, mode etc.\n",
    "- Predictive techniques: Use statistical models such as k-NN, SVM etc. to predict and impute missing values"
   ]
  },
  {
   "cell_type": "markdown",
   "metadata": {},
   "source": [
    "###  Missing Value Analysis (column wise)\n",
    "\n",
    "- summing up the missing values (column-wise)"
   ]
  },
  {
   "cell_type": "code",
   "execution_count": 6,
   "metadata": {
    "pycharm": {
     "name": "#%%\n"
    }
   },
   "outputs": [
    {
     "data": {
      "text/plain": [
       "count_rech_2g_6             74846\n",
       "date_of_last_rech_data_6    74846\n",
       "count_rech_3g_6             74846\n",
       "av_rech_amt_data_6          74846\n",
       "max_rech_data_6             74846\n",
       "                            ...  \n",
       "last_day_rch_amt_6              0\n",
       "last_day_rch_amt_7              0\n",
       "last_day_rch_amt_8              0\n",
       "last_day_rch_amt_9              0\n",
       "mobile_number                   0\n",
       "Length: 226, dtype: int64"
      ]
     },
     "execution_count": 6,
     "metadata": {},
     "output_type": "execute_result"
    }
   ],
   "source": [
    "telecom.isnull().sum().sort_values(ascending = False)"
   ]
  },
  {
   "cell_type": "markdown",
   "metadata": {},
   "source": [
    "### Percentage of missing values (column-wise)"
   ]
  },
  {
   "cell_type": "code",
   "execution_count": 7,
   "metadata": {
    "pycharm": {
     "name": "#%%\n"
    }
   },
   "outputs": [
    {
     "data": {
      "text/plain": [
       "mobile_number    0.00\n",
       "circle_id        0.00\n",
       "loc_og_t2o_mou   1.02\n",
       "std_og_t2o_mou   1.02\n",
       "loc_ic_t2o_mou   1.02\n",
       "                 ... \n",
       "aon              0.00\n",
       "aug_vbc_3g       0.00\n",
       "jul_vbc_3g       0.00\n",
       "jun_vbc_3g       0.00\n",
       "sep_vbc_3g       0.00\n",
       "Length: 226, dtype: float64"
      ]
     },
     "execution_count": 7,
     "metadata": {},
     "output_type": "execute_result"
    }
   ],
   "source": [
    "round(100*(telecom.isnull().sum()/len(telecom.index)), 2)"
   ]
  },
  {
   "cell_type": "markdown",
   "metadata": {},
   "source": [
    "### Columns with more than 70% missing values"
   ]
  },
  {
   "cell_type": "code",
   "execution_count": 8,
   "metadata": {
    "pycharm": {
     "name": "#%%\n"
    }
   },
   "outputs": [
    {
     "data": {
      "text/plain": [
       "date_of_last_rech_data_6   74.85\n",
       "date_of_last_rech_data_7   74.43\n",
       "date_of_last_rech_data_8   73.66\n",
       "date_of_last_rech_data_9   74.08\n",
       "total_rech_data_6          74.85\n",
       "total_rech_data_7          74.43\n",
       "total_rech_data_8          73.66\n",
       "total_rech_data_9          74.08\n",
       "max_rech_data_6            74.85\n",
       "max_rech_data_7            74.43\n",
       "max_rech_data_8            73.66\n",
       "max_rech_data_9            74.08\n",
       "count_rech_2g_6            74.85\n",
       "count_rech_2g_7            74.43\n",
       "count_rech_2g_8            73.66\n",
       "count_rech_2g_9            74.08\n",
       "count_rech_3g_6            74.85\n",
       "count_rech_3g_7            74.43\n",
       "count_rech_3g_8            73.66\n",
       "count_rech_3g_9            74.08\n",
       "av_rech_amt_data_6         74.85\n",
       "av_rech_amt_data_7         74.43\n",
       "av_rech_amt_data_8         73.66\n",
       "av_rech_amt_data_9         74.08\n",
       "arpu_3g_6                  74.85\n",
       "arpu_3g_7                  74.43\n",
       "arpu_3g_8                  73.66\n",
       "arpu_3g_9                  74.08\n",
       "arpu_2g_6                  74.85\n",
       "arpu_2g_7                  74.43\n",
       "arpu_2g_8                  73.66\n",
       "arpu_2g_9                  74.08\n",
       "night_pck_user_6           74.85\n",
       "night_pck_user_7           74.43\n",
       "night_pck_user_8           73.66\n",
       "night_pck_user_9           74.08\n",
       "fb_user_6                  74.85\n",
       "fb_user_7                  74.43\n",
       "fb_user_8                  73.66\n",
       "fb_user_9                  74.08\n",
       "dtype: float64"
      ]
     },
     "execution_count": 8,
     "metadata": {},
     "output_type": "execute_result"
    }
   ],
   "source": [
    "\n",
    "colmns_missing_data = round(100*(telecom.isnull().sum()/len(telecom.index)), 2)\n",
    "colmns_missing_data[colmns_missing_data >= 70]"
   ]
  },
  {
   "cell_type": "markdown",
   "metadata": {},
   "source": [
    "## Filtering high-value customers:\n",
    "\n",
    "In the Indian and the southeast Asian market, approximately 80% of revenue comes from the top 20% customers (called high-value customers).\n",
    "\n",
    "Thus, if we can reduce churn of the high-value customers, we will be able to reduce significant revenue leakage.\n",
    "\n",
    "Below are the columns for that:"
   ]
  },
  {
   "cell_type": "markdown",
   "metadata": {},
   "source": [
    "- total_rech_data_6\n",
    "- total_rech_data_7\n",
    "- av_rech_amt_data_6\n",
    "- av_rech_amt_data_7\n",
    "\n",
    "(All of the above columns has more than 70% missing values) "
   ]
  },
  {
   "cell_type": "code",
   "execution_count": 9,
   "metadata": {
    "pycharm": {
     "name": "#%%\n"
    }
   },
   "outputs": [
    {
     "name": "stdout",
     "output_type": "stream",
     "text": [
      "count   25153.00\n",
      "mean        2.46\n",
      "std         2.79\n",
      "min         1.00\n",
      "25%         1.00\n",
      "50%         1.00\n",
      "75%         3.00\n",
      "max        61.00\n",
      "Name: total_rech_data_6, dtype: float64\n",
      "-------------------------------------------------------------------------------- \n",
      "\n",
      "count   25571.00\n",
      "mean        2.67\n",
      "std         3.03\n",
      "min         1.00\n",
      "25%         1.00\n",
      "50%         1.00\n",
      "75%         3.00\n",
      "max        54.00\n",
      "Name: total_rech_data_7, dtype: float64\n",
      "-------------------------------------------------------------------------------- \n",
      "\n",
      "count   25153.00\n",
      "mean      192.60\n",
      "std       192.65\n",
      "min         1.00\n",
      "25%        82.00\n",
      "50%       154.00\n",
      "75%       252.00\n",
      "max      7546.00\n",
      "Name: av_rech_amt_data_6, dtype: float64\n",
      "-------------------------------------------------------------------------------- \n",
      "\n",
      "count   25571.00\n",
      "mean      200.98\n",
      "std       196.79\n",
      "min         0.50\n",
      "25%        92.00\n",
      "50%       154.00\n",
      "75%       252.00\n",
      "max      4365.00\n",
      "Name: av_rech_amt_data_7, dtype: float64\n",
      "-------------------------------------------------------------------------------- \n",
      "\n"
     ]
    }
   ],
   "source": [
    "print(telecom.total_rech_data_6.describe()); print_ln()\n",
    "print(telecom.total_rech_data_7.describe()); print_ln()\n",
    "print(telecom.av_rech_amt_data_6.describe()); print_ln()\n",
    "print(telecom.av_rech_amt_data_7.describe()); print_ln()"
   ]
  },
  {
   "cell_type": "markdown",
   "metadata": {},
   "source": [
    "### As these columns could lead us to high-valued customer we can't drop them despite having more than 70% missing value. So, we have to look for Imputation and we have to look at the distribution to find out the value."
   ]
  },
  {
   "cell_type": "code",
   "execution_count": 10,
   "metadata": {
    "pycharm": {
     "name": "#%%\n"
    }
   },
   "outputs": [
    {
     "data": {
      "text/plain": [
       "(array([1.4539e+04, 8.0550e+03, 1.8810e+03, 4.6500e+02, 3.0400e+02,\n",
       "        1.4100e+02, 4.4000e+01, 4.4000e+01, 3.8000e+01, 1.3000e+01,\n",
       "        1.3000e+01, 1.0000e+01, 7.0000e+00, 6.0000e+00, 4.0000e+00,\n",
       "        1.0000e+00, 0.0000e+00, 2.0000e+00, 2.0000e+00, 0.0000e+00,\n",
       "        0.0000e+00, 1.0000e+00, 0.0000e+00, 0.0000e+00, 1.0000e+00]),\n",
       " array([5.00000e-01, 1.75080e+02, 3.49660e+02, 5.24240e+02, 6.98820e+02,\n",
       "        8.73400e+02, 1.04798e+03, 1.22256e+03, 1.39714e+03, 1.57172e+03,\n",
       "        1.74630e+03, 1.92088e+03, 2.09546e+03, 2.27004e+03, 2.44462e+03,\n",
       "        2.61920e+03, 2.79378e+03, 2.96836e+03, 3.14294e+03, 3.31752e+03,\n",
       "        3.49210e+03, 3.66668e+03, 3.84126e+03, 4.01584e+03, 4.19042e+03,\n",
       "        4.36500e+03]),\n",
       " <a list of 25 Patch objects>)"
      ]
     },
     "execution_count": 10,
     "metadata": {},
     "output_type": "execute_result"
    },
    {
     "data": {
      "text/plain": [
       "<Figure size 432x288 with 0 Axes>"
      ]
     },
     "metadata": {},
     "output_type": "display_data"
    },
    {
     "data": {
      "image/png": "[encoded data removed]",
      "text/plain": [
       "<Figure size 720x720 with 4 Axes>"
      ]
     },
     "metadata": {
      "needs_background": "light"
     },
     "output_type": "display_data"
    }
   ],
   "source": [
    "# total_rech_data_6\n",
    "\n",
    "plt.figure(1)\n",
    "fig, ax = plt.subplots(figsize=(10,10))\n",
    "plt.subplot(2,2,1)\n",
    "plt.title(\"total_rech_data_6\")\n",
    "plt.hist(telecom.total_rech_data_6.dropna(),bins=25)\n",
    "\n",
    "# total_rech_data_7\n",
    "\n",
    "plt.subplot(2,2,2)\n",
    "plt.title(\"total_rech_data_7\")\n",
    "plt.hist(telecom.total_rech_data_7.dropna(),bins=25)\n",
    "\n",
    "# av_rech_amt_data_6\n",
    "\n",
    "plt.subplot(2,2,3)\n",
    "plt.title(\"av_rech_amt_data_6\")\n",
    "plt.hist(telecom.av_rech_amt_data_6.dropna(),bins=25)\n",
    "\n",
    "# total_rech_data_7\n",
    "\n",
    "plt.subplot(2,2,4)\n",
    "plt.title(\"av_rech_amt_data_7\")\n",
    "plt.hist(telecom.av_rech_amt_data_7.dropna(),bins=25)"
   ]
  },
  {
   "cell_type": "markdown",
   "metadata": {},
   "source": [
    "### Insights from the distribution graphs"
   ]
  },
  {
   "cell_type": "markdown",
   "metadata": {},
   "source": [
    "- Variables are numeric.\n",
    "- The minimum value is 1, and not zero,\n",
    "- Missing ( indicating that no recharge was done in this month.)\n",
    "- Thus, missing values can be imputed with 0."
   ]
  },
  {
   "cell_type": "code",
   "execution_count": 11,
   "metadata": {
    "pycharm": {
     "name": "#%%\n"
    }
   },
   "outputs": [],
   "source": [
    "# imputing the total values\n",
    "telecom.total_rech_data_6.fillna(value=0, inplace=True)\n",
    "telecom.total_rech_data_7.fillna(value=0, inplace=True)\n",
    "telecom.total_rech_data_8.fillna(value=0, inplace=True)\n",
    "telecom.total_rech_data_9.fillna(value=0, inplace=True)\n",
    "\n",
    "# imputing the average values\n",
    "telecom.av_rech_amt_data_6.fillna(value=0, inplace=True)\n",
    "telecom.av_rech_amt_data_7.fillna(value=0, inplace=True)\n",
    "telecom.av_rech_amt_data_8.fillna(value=0, inplace=True)\n",
    "telecom.av_rech_amt_data_9.fillna(value=0, inplace=True)"
   ]
  },
  {
   "cell_type": "markdown",
   "metadata": {},
   "source": [
    "### Further on in the analysis, we can choose to impute missing values of these columns with 0.\n",
    "- av_rech_amt_data\n",
    "- arpu_2g\n",
    "- arpu_3g\n",
    "- count_rech_2g\n",
    "- count_rech_3g\n",
    "- max_rech_data\n",
    "- total_rech_data\n",
    "- fb_user\n",
    "- night_pck_user\n",
    "\n"
   ]
  },
  {
   "cell_type": "code",
   "execution_count": 12,
   "metadata": {
    "pycharm": {
     "name": "#%%\n"
    }
   },
   "outputs": [],
   "source": [
    "# Since av_rech_amt_data_* features are important for getting the high-value customers,\n",
    "#lets impute the missing av_rech_amt_data_* with 0\n",
    "\n",
    "def imputeNan(data,imputeColList=False,missingColList=False):\n",
    "    # Function impute the nan with 0\n",
    "    # argument: colList, list of columns for which nan is to be replaced with 0\n",
    "\n",
    "    if imputeColList:\n",
    "        for col in [y + s for s in ['_6','_7','_8','_9'] for y in imputeColList]:\n",
    "            data[col].fillna(0, inplace=True)\n",
    "    else:\n",
    "        for col in missingColList:\n",
    "            data[col].fillna(0, inplace=True)"
   ]
  },
  {
   "cell_type": "code",
   "execution_count": 13,
   "metadata": {
    "pycharm": {
     "name": "#%%\n"
    }
   },
   "outputs": [],
   "source": [
    "imputeCol = ['av_rech_amt_data', 'arpu_2g', 'arpu_3g', 'count_rech_2g', 'count_rech_3g',\n",
    "             'max_rech_data', 'total_rech_data','fb_user','night_pck_user']\n",
    "imputeNan(telecom,imputeCol)"
   ]
  },
  {
   "cell_type": "markdown",
   "metadata": {},
   "source": [
    "\n",
    "### Columns with more than 50% missing values"
   ]
  },
  {
   "cell_type": "code",
   "execution_count": 14,
   "metadata": {
    "pycharm": {
     "name": "#%%\n"
    }
   },
   "outputs": [
    {
     "data": {
      "text/plain": [
       "date_of_last_rech_data_6   74.85\n",
       "date_of_last_rech_data_7   74.43\n",
       "date_of_last_rech_data_8   73.66\n",
       "date_of_last_rech_data_9   74.08\n",
       "dtype: float64"
      ]
     },
     "execution_count": 14,
     "metadata": {},
     "output_type": "execute_result"
    }
   ],
   "source": [
    "\n",
    "colmns_missing_data = round(100*(telecom.isnull().sum()/len(telecom.index)), 2)\n",
    "colmns_missing_data[colmns_missing_data >= 50]"
   ]
  },
  {
   "cell_type": "code",
   "execution_count": 15,
   "metadata": {
    "pycharm": {
     "name": "#%%\n"
    }
   },
   "outputs": [],
   "source": [
    "drop_data_columns = ['date_of_last_rech_data_6','date_of_last_rech_data_7','date_of_last_rech_data_8','date_of_last_rech_data_9']\n",
    "\n",
    "telecom.drop(drop_data_columns, axis=1, inplace=True)"
   ]
  },
  {
   "cell_type": "markdown",
   "metadata": {},
   "source": [
    "## Checking the shape of the dataset now"
   ]
  },
  {
   "cell_type": "code",
   "execution_count": 16,
   "metadata": {
    "pycharm": {
     "name": "#%%\n"
    }
   },
   "outputs": [
    {
     "data": {
      "text/plain": [
       "(99999, 222)"
      ]
     },
     "execution_count": 16,
     "metadata": {},
     "output_type": "execute_result"
    }
   ],
   "source": [
    "telecom.shape"
   ]
  },
  {
   "cell_type": "code",
   "execution_count": 17,
   "metadata": {
    "pycharm": {
     "name": "#%%\n"
    }
   },
   "outputs": [],
   "source": [
    "def getMissingValues(missingCutoff):\n",
    "    # Function to retun the columns with more than missingCutoff% missing values.\n",
    "    # argument: missingCutoff, % values threshold for missing values\n",
    "    missing = round(100*(telecom.isnull().sum()/telecom.shape[0]))\n",
    "    print(\"There are {} features having more than {}% missing values\".format(len(missing.loc[missing > missingCutoff]),missingCutoff))\n",
    "    return missing.loc[missing > missingCutoff]"
   ]
  },
  {
   "cell_type": "markdown",
   "metadata": {},
   "source": [
    "\n",
    "### Missing values per column expressed as % of total number of values > 5%"
   ]
  },
  {
   "cell_type": "code",
   "execution_count": 18,
   "metadata": {
    "pycharm": {
     "name": "#%%\n"
    }
   },
   "outputs": [
    {
     "name": "stdout",
     "output_type": "stream",
     "text": [
      "There are 29 features having more than 5% missing values\n"
     ]
    },
    {
     "data": {
      "text/plain": [
       "onnet_mou_9        8.00\n",
       "offnet_mou_9       8.00\n",
       "roam_ic_mou_9      8.00\n",
       "roam_og_mou_9      8.00\n",
       "loc_og_t2t_mou_9   8.00\n",
       "loc_og_t2m_mou_9   8.00\n",
       "loc_og_t2f_mou_9   8.00\n",
       "loc_og_t2c_mou_9   8.00\n",
       "loc_og_mou_9       8.00\n",
       "std_og_t2t_mou_9   8.00\n",
       "std_og_t2m_mou_9   8.00\n",
       "std_og_t2f_mou_9   8.00\n",
       "std_og_t2c_mou_9   8.00\n",
       "std_og_mou_9       8.00\n",
       "isd_og_mou_9       8.00\n",
       "spl_og_mou_9       8.00\n",
       "og_others_9        8.00\n",
       "loc_ic_t2t_mou_9   8.00\n",
       "loc_ic_t2m_mou_9   8.00\n",
       "loc_ic_t2f_mou_9   8.00\n",
       "loc_ic_mou_9       8.00\n",
       "std_ic_t2t_mou_9   8.00\n",
       "std_ic_t2m_mou_9   8.00\n",
       "std_ic_t2f_mou_9   8.00\n",
       "std_ic_t2o_mou_9   8.00\n",
       "std_ic_mou_9       8.00\n",
       "spl_ic_mou_9       8.00\n",
       "isd_ic_mou_9       8.00\n",
       "ic_others_9        8.00\n",
       "dtype: float64"
      ]
     },
     "execution_count": 18,
     "metadata": {},
     "output_type": "execute_result"
    }
   ],
   "source": [
    "\n",
    "getMissingValues(5)"
   ]
  },
  {
   "cell_type": "markdown",
   "metadata": {},
   "source": [
    "### The featureset is missing the data for the month of september(9)."
   ]
  },
  {
   "cell_type": "markdown",
   "metadata": {},
   "source": [
    "We can choose to impute these values with 0 as they are large data and dropping them would lead us to lack of data for analysis"
   ]
  },
  {
   "cell_type": "code",
   "execution_count": 19,
   "metadata": {
    "pycharm": {
     "name": "#%%\n"
    }
   },
   "outputs": [],
   "source": [
    "telecom.update(telecom[['onnet_mou_9', 'offnet_mou_9', 'roam_ic_mou_9', 'roam_og_mou_9', 'loc_og_t2t_mou_9', 'loc_og_t2m_mou_9', 'loc_og_t2f_mou_9', 'loc_og_t2c_mou_9', 'loc_og_mou_9', 'std_og_t2t_mou_9', 'std_og_t2m_mou_9', 'std_og_t2f_mou_9', 'std_og_t2c_mou_9', 'std_og_mou_9', 'isd_og_mou_9', 'spl_og_mou_9', 'og_others_9', 'loc_ic_t2t_mou_9', 'loc_ic_t2m_mou_9', 'loc_ic_t2f_mou_9', 'loc_ic_mou_9', 'std_ic_t2t_mou_9', 'std_ic_t2m_mou_9', 'std_ic_t2f_mou_9', 'std_ic_t2o_mou_9', 'std_ic_mou_9', 'spl_ic_mou_9', 'isd_ic_mou_9', 'ic_others_9']].fillna(0))"
   ]
  },
  {
   "cell_type": "code",
   "execution_count": 20,
   "metadata": {
    "pycharm": {
     "name": "#%%\n"
    }
   },
   "outputs": [
    {
     "data": {
      "text/plain": [
       "(99999, 222)"
      ]
     },
     "execution_count": 20,
     "metadata": {},
     "output_type": "execute_result"
    }
   ],
   "source": [
    "telecom.shape"
   ]
  },
  {
   "cell_type": "code",
   "execution_count": 21,
   "metadata": {
    "pycharm": {
     "name": "#%%\n"
    }
   },
   "outputs": [
    {
     "name": "stdout",
     "output_type": "stream",
     "text": [
      "There are 89 features having more than 2% missing values\n"
     ]
    },
    {
     "data": {
      "text/plain": [
       "onnet_mou_6           4.00\n",
       "onnet_mou_7           4.00\n",
       "onnet_mou_8           5.00\n",
       "offnet_mou_6          4.00\n",
       "offnet_mou_7          4.00\n",
       "                      ... \n",
       "ic_others_6           4.00\n",
       "ic_others_7           4.00\n",
       "ic_others_8           5.00\n",
       "date_of_last_rech_8   4.00\n",
       "date_of_last_rech_9   5.00\n",
       "Length: 89, dtype: float64"
      ]
     },
     "execution_count": 21,
     "metadata": {},
     "output_type": "execute_result"
    }
   ],
   "source": [
    "# Missing values per column expressed as % of total number of values\n",
    "getMissingValues(2)"
   ]
  },
  {
   "cell_type": "markdown",
   "metadata": {},
   "source": [
    "### Let's drop these customers from the data."
   ]
  },
  {
   "cell_type": "code",
   "execution_count": 22,
   "metadata": {
    "pycharm": {
     "name": "#%%\n"
    }
   },
   "outputs": [
    {
     "name": "stdout",
     "output_type": "stream",
     "text": [
      "There are 89 features having more than 2% missing values\n"
     ]
    },
    {
     "data": {
      "text/plain": [
       "(99618, 222)"
      ]
     },
     "execution_count": 22,
     "metadata": {},
     "output_type": "execute_result"
    }
   ],
   "source": [
    "missingcol = list(getMissingValues(2).index)\n",
    "telecom=telecom[~telecom[missingcol].isnull().all(axis=1)]\n",
    "telecom.shape"
   ]
  },
  {
   "cell_type": "markdown",
   "metadata": {},
   "source": [
    "\n",
    "### For other customers where these missing values are spread out, let's impute them with 0. "
   ]
  },
  {
   "cell_type": "code",
   "execution_count": 23,
   "metadata": {
    "pycharm": {
     "name": "#%%\n"
    }
   },
   "outputs": [],
   "source": [
    "\n",
    "\n",
    "missingcol.remove('date_of_last_rech_8')\n",
    "missingcol.remove('date_of_last_rech_9')\n",
    "\n",
    "imputeNan(telecom,missingColList=missingcol)"
   ]
  },
  {
   "cell_type": "code",
   "execution_count": 24,
   "metadata": {
    "pycharm": {
     "name": "#%%\n"
    }
   },
   "outputs": [
    {
     "name": "stdout",
     "output_type": "stream",
     "text": [
      "There are 9 features having more than 0% missing values\n"
     ]
    },
    {
     "data": {
      "text/plain": [
       "loc_og_t2o_mou         1.00\n",
       "std_og_t2o_mou         1.00\n",
       "loc_ic_t2o_mou         1.00\n",
       "last_date_of_month_8   1.00\n",
       "last_date_of_month_9   1.00\n",
       "date_of_last_rech_6    1.00\n",
       "date_of_last_rech_7    1.00\n",
       "date_of_last_rech_8    3.00\n",
       "date_of_last_rech_9    4.00\n",
       "dtype: float64"
      ]
     },
     "execution_count": 24,
     "metadata": {},
     "output_type": "execute_result"
    }
   ],
   "source": [
    "getMissingValues(0)"
   ]
  },
  {
   "cell_type": "markdown",
   "metadata": {},
   "source": [
    "\n",
    "### Some of these features take only one value. Lets impute their missing values in these features with the `mode` of the distribution"
   ]
  },
  {
   "cell_type": "code",
   "execution_count": 25,
   "metadata": {
    "pycharm": {
     "name": "#%%\n"
    }
   },
   "outputs": [],
   "source": [
    "\n",
    "col = ['loc_og_t2o_mou','std_og_t2o_mou','loc_ic_t2o_mou','last_date_of_month_7','last_date_of_month_8','last_date_of_month_9']\n",
    "for c in col:\n",
    "    telecom[c].fillna(telecom[c].mode()[0], inplace=True)"
   ]
  },
  {
   "cell_type": "markdown",
   "metadata": {},
   "source": [
    "\n",
    "### Missing values per column expressed as % of total number of values\n"
   ]
  },
  {
   "cell_type": "code",
   "execution_count": 26,
   "metadata": {
    "pycharm": {
     "name": "#%%\n"
    }
   },
   "outputs": [
    {
     "name": "stdout",
     "output_type": "stream",
     "text": [
      "There are 4 features having more than 0% missing values\n"
     ]
    },
    {
     "data": {
      "text/plain": [
       "date_of_last_rech_6   1.00\n",
       "date_of_last_rech_7   1.00\n",
       "date_of_last_rech_8   3.00\n",
       "date_of_last_rech_9   4.00\n",
       "dtype: float64"
      ]
     },
     "execution_count": 26,
     "metadata": {},
     "output_type": "execute_result"
    }
   ],
   "source": [
    "getMissingValues(0)"
   ]
  },
  {
   "cell_type": "markdown",
   "metadata": {},
   "source": [
    "### All the 4 columns have dates of `june, july, aug, sep` respectively. So we can easily impute them."
   ]
  },
  {
   "cell_type": "code",
   "execution_count": 27,
   "metadata": {
    "pycharm": {
     "name": "#%%\n"
    }
   },
   "outputs": [],
   "source": [
    "telecom[telecom['date_of_last_rech_6'].isnull()]['date_of_last_rech_6'] = '6/30/2014'\n",
    "telecom[telecom['date_of_last_rech_7'].isnull()]['date_of_last_rech_7'] = '7/31/2014'\n",
    "telecom[telecom['date_of_last_rech_8'].isnull()]['date_of_last_rech_8'] = '8/31/2014'\n",
    "telecom[telecom['date_of_last_rech_9'].isnull()]['date_of_last_rech_9'] = '9/30/2014'"
   ]
  },
  {
   "cell_type": "markdown",
   "metadata": {},
   "source": [
    "### There are some columns whose only value is 0. Lets look at them."
   ]
  },
  {
   "cell_type": "code",
   "execution_count": 28,
   "metadata": {
    "pycharm": {
     "name": "#%%\n"
    }
   },
   "outputs": [
    {
     "data": {
      "text/plain": [
       "Index(['loc_og_t2o_mou', 'std_og_t2o_mou', 'loc_ic_t2o_mou',\n",
       "       'std_og_t2c_mou_6', 'std_og_t2c_mou_7', 'std_og_t2c_mou_8',\n",
       "       'std_og_t2c_mou_9', 'std_ic_t2o_mou_6', 'std_ic_t2o_mou_7',\n",
       "       'std_ic_t2o_mou_8', 'std_ic_t2o_mou_9'],\n",
       "      dtype='object')"
      ]
     },
     "execution_count": 28,
     "metadata": {},
     "output_type": "execute_result"
    }
   ],
   "source": [
    "zero_columns=telecom.columns[(telecom == 0).all()]\n",
    "zero_columns\n"
   ]
  },
  {
   "cell_type": "markdown",
   "metadata": {},
   "source": [
    "### We can remove these columns as they are of no use."
   ]
  },
  {
   "cell_type": "code",
   "execution_count": 29,
   "metadata": {
    "pycharm": {
     "name": "#%%\n"
    }
   },
   "outputs": [],
   "source": [
    "telecom.drop(zero_columns,axis=1,inplace=True)"
   ]
  },
  {
   "cell_type": "code",
   "execution_count": 30,
   "metadata": {
    "pycharm": {
     "name": "#%%\n"
    }
   },
   "outputs": [
    {
     "name": "stdout",
     "output_type": "stream",
     "text": [
      "Percentage of data remaining after treating missing values: 99.62%\n",
      "Number of customers: 99618\n",
      "Number of features: 211\n"
     ]
    }
   ],
   "source": [
    "# Percentage of data left after removing the missing values.\n",
    "\n",
    "print(\"Percentage of data remaining after treating missing values: {}%\".format(round(telecom.shape[0]/99999 *100,2)))\n",
    "print (\"Number of customers: {}\".format(telecom.shape[0]))\n",
    "print (\"Number of features: {}\".format(telecom.shape[1]))"
   ]
  },
  {
   "cell_type": "markdown",
   "metadata": {},
   "source": [
    "##### Fixing the data-type and column names"
   ]
  },
  {
   "cell_type": "code",
   "execution_count": 31,
   "metadata": {
    "pycharm": {
     "name": "#%%\n"
    }
   },
   "outputs": [
    {
     "data": {
      "text/plain": [
       "['last_date_of_month_6',\n",
       " 'last_date_of_month_7',\n",
       " 'last_date_of_month_8',\n",
       " 'last_date_of_month_9',\n",
       " 'date_of_last_rech_6',\n",
       " 'date_of_last_rech_7',\n",
       " 'date_of_last_rech_8',\n",
       " 'date_of_last_rech_9']"
      ]
     },
     "execution_count": 31,
     "metadata": {},
     "output_type": "execute_result"
    }
   ],
   "source": [
    "telecom.reset_index(inplace=True,drop=True)\n",
    "\n",
    "# list of all columns which have date\n",
    "\n",
    "date_columns = list(telecom.filter(regex='date').columns)\n",
    "date_columns"
   ]
  },
  {
   "cell_type": "code",
   "execution_count": 32,
   "metadata": {
    "pycharm": {
     "name": "#%%\n"
    }
   },
   "outputs": [],
   "source": [
    "# Converting dtype of date columns to datetime\n",
    "\n",
    "for col in date_columns:\n",
    "    telecom[col] = pd.to_datetime(telecom[col], format='%m/%d/%Y')"
   ]
  },
  {
   "cell_type": "markdown",
   "metadata": {},
   "source": [
    "#####  Some monthly features which are not in the standard naming (_6,_7,_8,_9) :\n",
    "\n",
    "- 'jun_vbc_3g' : 'vbc_3g_6'\n",
    "- 'jul_vbc_3g' : 'vbc_3g_7'\n",
    "- 'aug_vbc_3g' : 'vbc_3g_8'\n",
    "- 'sep_vbc_3g' : 'vbc_3g_9'"
   ]
  },
  {
   "cell_type": "code",
   "execution_count": 33,
   "metadata": {
    "pycharm": {
     "name": "#%%\n"
    }
   },
   "outputs": [],
   "source": [
    "telecom.rename(columns={'jun_vbc_3g' : 'vbc_3g_6', 'jul_vbc_3g' : 'vbc_3g_7', 'aug_vbc_3g' : 'vbc_3g_8',\n",
    "                      'sep_vbc_3g' : 'vbc_3g_9'}, inplace=True)"
   ]
  },
  {
   "cell_type": "markdown",
   "metadata": {},
   "source": [
    "#### Filter high-value customers\n",
    "Defining high-value customers as follows:\n",
    "\n",
    "Those who have recharged with an amount more than or equal to X, where X is the 70th percentile of the average recharge amount in the first two months (the good phase)."
   ]
  },
  {
   "cell_type": "markdown",
   "metadata": {},
   "source": [
    "##### Creating New Features"
   ]
  },
  {
   "cell_type": "markdown",
   "metadata": {},
   "source": [
    "vol_data_mb_6', 'vol_data_mb_7', 'vol_data_mb_8', 'vol_data_mb_9'\n",
    "\n",
    "These will store the total data volume (= vol_2gmb + vol_3gmb) used by user."
   ]
  },
  {
   "cell_type": "code",
   "execution_count": 34,
   "metadata": {
    "pycharm": {
     "name": "#%%\n"
    }
   },
   "outputs": [],
   "source": [
    "#Creating new feature: 'vol_data_mb_6', 'vol_data_mb_7', 'vol_data_mb_8', 'vol_data_mb_9',\n",
    "\n",
    "for i in range(6,10):\n",
    "    telecom['vol_data_mb_'+str(i)] = (telecom['vol_2g_mb_'+str(i)]+telecom['vol_3g_mb_'+str(i)]).astype(int)"
   ]
  },
  {
   "cell_type": "markdown",
   "metadata": {},
   "source": [
    "### These will store the average recharge value for each customer for every month\n",
    "avg_rech_amt_6,avg_rech_amt_7,avg_rech_amt_8,avg_rech_amt_9\n",
    "\n"
   ]
  },
  {
   "cell_type": "code",
   "execution_count": 35,
   "metadata": {
    "pycharm": {
     "name": "#%%\n"
    }
   },
   "outputs": [],
   "source": [
    "# Creating new feature: avg_rech_amt_6,avg_rech_amt_7,avg_rech_amt_8,avg_rech_amt_9\n",
    "for i in range(6,10):\n",
    "    telecom['avg_rech_amt_'+str(i)] = round(telecom['total_rech_amt_'+str(i)]/telecom['total_rech_num_'+str(i)]+1,2)"
   ]
  },
  {
   "cell_type": "code",
   "execution_count": 36,
   "metadata": {
    "pycharm": {
     "name": "#%%\n"
    }
   },
   "outputs": [],
   "source": [
    "imputeNan(telecom,missingColList=['avg_rech_amt_6','avg_rech_amt_7','avg_rech_amt_8','avg_rech_amt_9'])"
   ]
  },
  {
   "cell_type": "markdown",
   "metadata": {},
   "source": [
    "### These will store the total number of data recharge (=count_rech_2g + count_rech_3g ) for each month.\n",
    "\n",
    "total_rech_num_data_6,total_rech_num_data_7,total_rech_num_data_8,total_rech_num_data_9\n",
    "\n"
   ]
  },
  {
   "cell_type": "code",
   "execution_count": 37,
   "metadata": {
    "pycharm": {
     "name": "#%%\n"
    }
   },
   "outputs": [],
   "source": [
    "#Creating new feature: total_rech_num_data_6,total_rech_num_data_7,total_rech_num_data_8,total_rech_num_data_9\n",
    "\n",
    "for i in range(6,10):\n",
    "    telecom['total_rech_num_data_'+str(i)] = (telecom['count_rech_2g_'+str(i)]+telecom['count_rech_3g_'+str(i)]).astype(int)"
   ]
  },
  {
   "cell_type": "markdown",
   "metadata": {},
   "source": [
    "### These will store the total amount of data recharge (=total_rech_num_data * av_rech_amt_data ) for each month.\n",
    "total_rech_amt_data_6,total_rech_amt_data_7,total_rech_amt_data_8,total_rech_amt_data_9\n",
    "\n"
   ]
  },
  {
   "cell_type": "code",
   "execution_count": 38,
   "metadata": {
    "pycharm": {
     "name": "#%%\n"
    }
   },
   "outputs": [],
   "source": [
    "#Creating new feature: total_rech_amt_data_6,total_rech_amt_data_7,total_rech_amt_data_8,total_rech_amt_data_9\n",
    "\n",
    "for i in range(6,10):\n",
    "    telecom['total_rech_amt_data_'+str(i)] = telecom['total_rech_num_data_'+str(i)]*telecom['av_rech_amt_data_'+str(i)]"
   ]
  },
  {
   "cell_type": "markdown",
   "metadata": {},
   "source": [
    "### These will store the total recharge amount (= total_rech_amt + total_rech_amt_data ) for each customer, for each month.\n",
    "\n",
    "total_month_rech_6,total_month_rech_7,total_month_rech_8,total_month_rech_9\n",
    "\n"
   ]
  },
  {
   "cell_type": "code",
   "execution_count": 39,
   "metadata": {
    "pycharm": {
     "name": "#%%\n"
    }
   },
   "outputs": [],
   "source": [
    "#Creating new feature: total_mon_rech_6,total_mon_rech_7,total_mon_rech_8,total_mon_rech_9\n",
    "for i in range(6,10):\n",
    "    telecom['total_month_rech_'+str(i)] = telecom['total_rech_amt_'+str(i)]+telecom['total_rech_amt_data_'+str(i)]"
   ]
  },
  {
   "cell_type": "code",
   "execution_count": 40,
   "metadata": {
    "pycharm": {
     "name": "#%%\n"
    }
   },
   "outputs": [
    {
     "name": "stdout",
     "output_type": "stream",
     "text": [
      "Number of High-Value Customers in the Dataset: 29906\n",
      "\n",
      "Percentage High-value users in data : 30%\n"
     ]
    }
   ],
   "source": [
    "# calculating the average of first two months (good phase) total monthly recharge amount\n",
    "\n",
    "avg_goodPhase =(telecom.total_month_rech_6 + telecom.total_month_rech_7)/2\n",
    "\n",
    "# finding the cutoff which is the 70th percentile of the good phase average recharge amounts\n",
    "\n",
    "hv_cutoff= np.percentile(avg_goodPhase,70)\n",
    "\n",
    "# Filtering the users whose good phase avg. recharge amount >= to the cutoff of 70th percentile.\n",
    "\n",
    "hv_users = telecom[avg_goodPhase >=  hv_cutoff]\n",
    "hv_users.reset_index(inplace=True,drop=True)\n",
    "\n",
    "print(\"Number of High-Value Customers in the Dataset: %d\\n\"% len(hv_users))\n",
    "print(\"Percentage High-value users in data : {}%\".format(round(len(hv_users)/telecom.shape[0]*100),2))"
   ]
  },
  {
   "cell_type": "markdown",
   "metadata": {},
   "source": [
    "\n",
    "##### Tagging Churners\n",
    "churned customers (churn=1, else 0) based on the fourth month as follows:\n",
    "\n",
    "Those who have not made any calls (either incoming or outgoing) AND have not used mobile internet even once in the churn phase. The attributes we need to use to tag churners are:\n",
    "\n",
    "- total_ic_mou_9\n",
    "- total_og_mou_9\n",
    "- vol_2g_mb_9\n",
    "- vol_3g_mb_9\n",
    "\n",
    "- Function to tag customers as churners (churn=1, else 0) based on 'vol_2g_mb_','vol_3g_mb_','total_ic_mou_','total_og_mou_'\n",
    "- Argument: churnPhaseMonth, indicating the month number to be used to define churn (default= 9)"
   ]
  },
  {
   "cell_type": "code",
   "execution_count": 41,
   "metadata": {
    "pycharm": {
     "name": "#%%\n"
    }
   },
   "outputs": [],
   "source": [
    "def getChurnStatus(data,churnPhaseMonth=9):\n",
    "    \n",
    "    churn_features= ['vol_2g_mb_','vol_3g_mb_','total_ic_mou_','total_og_mou_']\n",
    "    flag = ~data[[s + str(churnPhaseMonth) for s in churn_features ]].any(axis=1)\n",
    "    flag = flag.map({True:1, False:0})\n",
    "    return flag"
   ]
  },
  {
   "cell_type": "code",
   "execution_count": 42,
   "metadata": {
    "pycharm": {
     "name": "#%%\n"
    }
   },
   "outputs": [
    {
     "name": "stdout",
     "output_type": "stream",
     "text": [
      "There are 2418 users tagged as churners out of 29906 High-Value Customers.\n",
      "-------------------------------------------------------------------------------- \n",
      "\n",
      "High-value Churn Percentage : 8.09%\n"
     ]
    }
   ],
   "source": [
    "hv_users['churn'] = getChurnStatus(hv_users,9)\n",
    "print(\"There are {} users tagged as churners out of {} High-Value Customers.\".format(len(hv_users[hv_users.churn == 1]),hv_users.shape[0]))\n",
    "print_ln()\n",
    "print(\"High-value Churn Percentage : {}%\".format(round(len(hv_users[hv_users.churn == 1])/hv_users.shape[0] *100,2)))"
   ]
  },
  {
   "cell_type": "markdown",
   "metadata": {},
   "source": [
    "### There are just 8.09% churn cases.\n",
    "This indicated an highly imbalanced data set where the churn cases are the minority(8.14%) as opposed to the non-churners who are the majority(91.91)"
   ]
  },
  {
   "cell_type": "markdown",
   "metadata": {},
   "source": [
    "##### Identify columns that have no varience & Drop"
   ]
  },
  {
   "cell_type": "code",
   "execution_count": 43,
   "metadata": {
    "pycharm": {
     "name": "#%%\n"
    }
   },
   "outputs": [
    {
     "data": {
      "text/plain": [
       "mobile_number           29906\n",
       "arpu_7                  29006\n",
       "arpu_6                  28986\n",
       "arpu_8                  28001\n",
       "arpu_9                  26949\n",
       "                        ...  \n",
       "last_date_of_month_9        1\n",
       "last_date_of_month_8        1\n",
       "last_date_of_month_7        1\n",
       "last_date_of_month_6        1\n",
       "circle_id                   1\n",
       "Length: 232, dtype: int64"
      ]
     },
     "execution_count": 43,
     "metadata": {},
     "output_type": "execute_result"
    }
   ],
   "source": [
    "# Identify columns that have no varience\n",
    "hv_users_unique_count = hv_users.nunique().sort_values(ascending=False)\n",
    "hv_users_unique_count"
   ]
  },
  {
   "cell_type": "code",
   "execution_count": 44,
   "metadata": {
    "pycharm": {
     "name": "#%%\n"
    }
   },
   "outputs": [
    {
     "name": "stdout",
     "output_type": "stream",
     "text": [
      "Dataframe Unique Value Count is ZERO (all null values): \n",
      " Series([], dtype: int64)\n",
      "-------------------------------------------------------------------------------- \n",
      "\n"
     ]
    },
    {
     "data": {
      "text/plain": [
       "[]"
      ]
     },
     "execution_count": 44,
     "metadata": {},
     "output_type": "execute_result"
    }
   ],
   "source": [
    "# Identify bad colums that has no information (all entries are NA or same)\n",
    "# Find columns with all NULL entries and add to drop_columns list\n",
    "hv_users_unique_count_is_zero = hv_users_unique_count[hv_users_unique_count == 0]\n",
    "print(\"Dataframe Unique Value Count is ZERO (all null values): \\n\", hv_users_unique_count_is_zero); print_ln();\n",
    "\n",
    "drop_no_varience_columns = list(hv_users_unique_count_is_zero.index)\n",
    "drop_no_varience_columns"
   ]
  },
  {
   "cell_type": "code",
   "execution_count": 45,
   "metadata": {
    "pycharm": {
     "name": "#%%\n"
    }
   },
   "outputs": [
    {
     "name": "stdout",
     "output_type": "stream",
     "text": [
      "Dataframe Unique Value Count is ONE (all same values): \n",
      " last_date_of_month_9    1\n",
      "last_date_of_month_8    1\n",
      "last_date_of_month_7    1\n",
      "last_date_of_month_6    1\n",
      "circle_id               1\n",
      "dtype: int64\n",
      "-------------------------------------------------------------------------------- \n",
      "\n"
     ]
    }
   ],
   "source": [
    "# Find columns with all same entries and add to drop_columns list\n",
    "\n",
    "hv_users_unique_count_is_one = hv_users_unique_count[hv_users_unique_count == 1]\n",
    "print(\"Dataframe Unique Value Count is ONE (all same values): \\n\", hv_users_unique_count_is_one); print_ln();\n",
    "\n",
    "drop_no_varience_columns += list(hv_users_unique_count_is_one.index)"
   ]
  },
  {
   "cell_type": "code",
   "execution_count": 46,
   "metadata": {
    "pycharm": {
     "name": "#%%\n"
    }
   },
   "outputs": [
    {
     "name": "stdout",
     "output_type": "stream",
     "text": [
      "Dataframe Shape:  (29906, 227)\n",
      "-------------------------------------------------------------------------------- \n",
      "\n",
      "Number of columns dropped here  =  5\n",
      "Dataframe Shape:  (29906, 227)\n",
      "-------------------------------------------------------------------------------- \n",
      "\n"
     ]
    }
   ],
   "source": [
    "hv_users.drop(drop_no_varience_columns, axis=1, inplace=True)\n",
    "\n",
    "print('Dataframe Shape: ', hv_users.shape); print_ln();\n",
    "print('Number of columns dropped here  = ', len(drop_no_varience_columns))\n",
    "print('Dataframe Shape: ', hv_users.shape); print_ln();"
   ]
  },
  {
   "cell_type": "code",
   "execution_count": 47,
   "metadata": {
    "pycharm": {
     "name": "#%%\n"
    }
   },
   "outputs": [
    {
     "data": {
      "text/html": [
       "<div>\n",
       "<style scoped>\n",
       "    .dataframe tbody tr th:only-of-type {\n",
       "        vertical-align: middle;\n",
       "    }\n",
       "\n",
       "    .dataframe tbody tr th {\n",
       "        vertical-align: top;\n",
       "    }\n",
       "\n",
       "    .dataframe thead th {\n",
       "        text-align: right;\n",
       "    }\n",
       "</style>\n",
       "<table border=\"1\" class=\"dataframe\">\n",
       "  <thead>\n",
       "    <tr style=\"text-align: right;\">\n",
       "      <th></th>\n",
       "      <th>mobile_number</th>\n",
       "      <th>arpu_6</th>\n",
       "      <th>arpu_7</th>\n",
       "      <th>arpu_8</th>\n",
       "      <th>arpu_9</th>\n",
       "      <th>onnet_mou_6</th>\n",
       "      <th>onnet_mou_7</th>\n",
       "      <th>onnet_mou_8</th>\n",
       "      <th>onnet_mou_9</th>\n",
       "      <th>offnet_mou_6</th>\n",
       "      <th>...</th>\n",
       "      <th>total_rech_num_data_9</th>\n",
       "      <th>total_rech_amt_data_6</th>\n",
       "      <th>total_rech_amt_data_7</th>\n",
       "      <th>total_rech_amt_data_8</th>\n",
       "      <th>total_rech_amt_data_9</th>\n",
       "      <th>total_month_rech_6</th>\n",
       "      <th>total_month_rech_7</th>\n",
       "      <th>total_month_rech_8</th>\n",
       "      <th>total_month_rech_9</th>\n",
       "      <th>churn</th>\n",
       "    </tr>\n",
       "  </thead>\n",
       "  <tbody>\n",
       "    <tr>\n",
       "      <th>0</th>\n",
       "      <td>7000842753</td>\n",
       "      <td>197.38</td>\n",
       "      <td>214.82</td>\n",
       "      <td>213.80</td>\n",
       "      <td>21.10</td>\n",
       "      <td>0.00</td>\n",
       "      <td>0.00</td>\n",
       "      <td>0.00</td>\n",
       "      <td>0.00</td>\n",
       "      <td>0.00</td>\n",
       "      <td>...</td>\n",
       "      <td>0</td>\n",
       "      <td>252.00</td>\n",
       "      <td>252.00</td>\n",
       "      <td>252.00</td>\n",
       "      <td>0.00</td>\n",
       "      <td>614.00</td>\n",
       "      <td>504.00</td>\n",
       "      <td>504.00</td>\n",
       "      <td>0.00</td>\n",
       "      <td>1</td>\n",
       "    </tr>\n",
       "    <tr>\n",
       "      <th>1</th>\n",
       "      <td>7000701601</td>\n",
       "      <td>1069.18</td>\n",
       "      <td>1349.85</td>\n",
       "      <td>3171.48</td>\n",
       "      <td>500.00</td>\n",
       "      <td>57.84</td>\n",
       "      <td>54.68</td>\n",
       "      <td>52.29</td>\n",
       "      <td>0.00</td>\n",
       "      <td>453.43</td>\n",
       "      <td>...</td>\n",
       "      <td>0</td>\n",
       "      <td>0.00</td>\n",
       "      <td>0.00</td>\n",
       "      <td>0.00</td>\n",
       "      <td>0.00</td>\n",
       "      <td>1580.00</td>\n",
       "      <td>790.00</td>\n",
       "      <td>3638.00</td>\n",
       "      <td>0.00</td>\n",
       "      <td>1</td>\n",
       "    </tr>\n",
       "    <tr>\n",
       "      <th>2</th>\n",
       "      <td>7001524846</td>\n",
       "      <td>378.72</td>\n",
       "      <td>492.22</td>\n",
       "      <td>137.36</td>\n",
       "      <td>166.79</td>\n",
       "      <td>413.69</td>\n",
       "      <td>351.03</td>\n",
       "      <td>35.08</td>\n",
       "      <td>33.46</td>\n",
       "      <td>94.66</td>\n",
       "      <td>...</td>\n",
       "      <td>0</td>\n",
       "      <td>0.00</td>\n",
       "      <td>354.00</td>\n",
       "      <td>207.00</td>\n",
       "      <td>0.00</td>\n",
       "      <td>437.00</td>\n",
       "      <td>955.00</td>\n",
       "      <td>327.00</td>\n",
       "      <td>186.00</td>\n",
       "      <td>0</td>\n",
       "    </tr>\n",
       "    <tr>\n",
       "      <th>3</th>\n",
       "      <td>7002124215</td>\n",
       "      <td>514.45</td>\n",
       "      <td>597.75</td>\n",
       "      <td>637.76</td>\n",
       "      <td>578.60</td>\n",
       "      <td>102.41</td>\n",
       "      <td>132.11</td>\n",
       "      <td>85.14</td>\n",
       "      <td>161.63</td>\n",
       "      <td>757.93</td>\n",
       "      <td>...</td>\n",
       "      <td>0</td>\n",
       "      <td>0.00</td>\n",
       "      <td>0.00</td>\n",
       "      <td>0.00</td>\n",
       "      <td>0.00</td>\n",
       "      <td>600.00</td>\n",
       "      <td>680.00</td>\n",
       "      <td>718.00</td>\n",
       "      <td>680.00</td>\n",
       "      <td>0</td>\n",
       "    </tr>\n",
       "    <tr>\n",
       "      <th>4</th>\n",
       "      <td>7000887461</td>\n",
       "      <td>74.35</td>\n",
       "      <td>193.90</td>\n",
       "      <td>366.97</td>\n",
       "      <td>811.48</td>\n",
       "      <td>48.96</td>\n",
       "      <td>50.66</td>\n",
       "      <td>33.58</td>\n",
       "      <td>15.74</td>\n",
       "      <td>85.41</td>\n",
       "      <td>...</td>\n",
       "      <td>1</td>\n",
       "      <td>0.00</td>\n",
       "      <td>712.00</td>\n",
       "      <td>540.00</td>\n",
       "      <td>252.00</td>\n",
       "      <td>0.00</td>\n",
       "      <td>1166.00</td>\n",
       "      <td>979.00</td>\n",
       "      <td>504.00</td>\n",
       "      <td>0</td>\n",
       "    </tr>\n",
       "  </tbody>\n",
       "</table>\n",
       "<p>5 rows × 227 columns</p>\n",
       "</div>"
      ],
      "text/plain": [
       "   mobile_number  arpu_6  arpu_7  arpu_8  arpu_9  onnet_mou_6  onnet_mou_7  \\\n",
       "0     7000842753  197.38  214.82  213.80   21.10         0.00         0.00   \n",
       "1     7000701601 1069.18 1349.85 3171.48  500.00        57.84        54.68   \n",
       "2     7001524846  378.72  492.22  137.36  166.79       413.69       351.03   \n",
       "3     7002124215  514.45  597.75  637.76  578.60       102.41       132.11   \n",
       "4     7000887461   74.35  193.90  366.97  811.48        48.96        50.66   \n",
       "\n",
       "   onnet_mou_8  onnet_mou_9  offnet_mou_6  ...  total_rech_num_data_9  \\\n",
       "0         0.00         0.00          0.00  ...                      0   \n",
       "1        52.29         0.00        453.43  ...                      0   \n",
       "2        35.08        33.46         94.66  ...                      0   \n",
       "3        85.14       161.63        757.93  ...                      0   \n",
       "4        33.58        15.74         85.41  ...                      1   \n",
       "\n",
       "   total_rech_amt_data_6  total_rech_amt_data_7  total_rech_amt_data_8  \\\n",
       "0                 252.00                 252.00                 252.00   \n",
       "1                   0.00                   0.00                   0.00   \n",
       "2                   0.00                 354.00                 207.00   \n",
       "3                   0.00                   0.00                   0.00   \n",
       "4                   0.00                 712.00                 540.00   \n",
       "\n",
       "   total_rech_amt_data_9  total_month_rech_6  total_month_rech_7  \\\n",
       "0                   0.00              614.00              504.00   \n",
       "1                   0.00             1580.00              790.00   \n",
       "2                   0.00              437.00              955.00   \n",
       "3                   0.00              600.00              680.00   \n",
       "4                 252.00                0.00             1166.00   \n",
       "\n",
       "   total_month_rech_8  total_month_rech_9  churn  \n",
       "0              504.00                0.00      1  \n",
       "1             3638.00                0.00      1  \n",
       "2              327.00              186.00      0  \n",
       "3              718.00              680.00      0  \n",
       "4              979.00              504.00      0  \n",
       "\n",
       "[5 rows x 227 columns]"
      ]
     },
     "execution_count": 47,
     "metadata": {},
     "output_type": "execute_result"
    }
   ],
   "source": [
    "hv_users.head()"
   ]
  },
  {
   "cell_type": "markdown",
   "metadata": {},
   "source": [
    "##### ROW-WISE: MISSING VALUES"
   ]
  },
  {
   "cell_type": "code",
   "execution_count": 48,
   "metadata": {
    "pycharm": {
     "name": "#%%\n"
    }
   },
   "outputs": [
    {
     "name": "stdout",
     "output_type": "stream",
     "text": [
      "Rows with all NULL values = 0\n"
     ]
    },
    {
     "data": {
      "text/plain": [
       "3"
      ]
     },
     "execution_count": 48,
     "metadata": {},
     "output_type": "execute_result"
    }
   ],
   "source": [
    "# sum it up to check how many rows have all missing values\n",
    "print(\"Rows with all NULL values =\",  hv_users.isnull().all(axis=1).sum())\n",
    "\n",
    "# sum of misisng values in each row\n",
    "rows_missing_data = hv_users.isnull().sum(axis=1)\n",
    "rows_missing_data[rows_missing_data > 0].max()"
   ]
  },
  {
   "cell_type": "markdown",
   "metadata": {},
   "source": [
    "### Therefore there is no need to drop the values."
   ]
  },
  {
   "cell_type": "code",
   "execution_count": 49,
   "metadata": {
    "pycharm": {
     "name": "#%%\n"
    }
   },
   "outputs": [
    {
     "data": {
      "text/plain": [
       "date_of_last_rech_6   0.24\n",
       "date_of_last_rech_7   0.30\n",
       "date_of_last_rech_8   1.90\n",
       "date_of_last_rech_9   2.68\n",
       "dtype: float64"
      ]
     },
     "execution_count": 49,
     "metadata": {},
     "output_type": "execute_result"
    }
   ],
   "source": [
    "# Missing Values Treatment: continue\n",
    "# look at the COLUMN summary again\n",
    "df = round(100*(hv_users.isnull().sum()/len(hv_users.index)), 2)\n",
    "df[df > 0]"
   ]
  },
  {
   "cell_type": "markdown",
   "metadata": {},
   "source": [
    "### Note: The remaining missing values are in date columns, before imputing convert them into appropreate values for analysis."
   ]
  },
  {
   "cell_type": "code",
   "execution_count": 50,
   "metadata": {
    "pycharm": {
     "name": "#%%\n"
    }
   },
   "outputs": [
    {
     "data": {
      "text/html": [
       "<div>\n",
       "<style scoped>\n",
       "    .dataframe tbody tr th:only-of-type {\n",
       "        vertical-align: middle;\n",
       "    }\n",
       "\n",
       "    .dataframe tbody tr th {\n",
       "        vertical-align: top;\n",
       "    }\n",
       "\n",
       "    .dataframe thead th {\n",
       "        text-align: right;\n",
       "    }\n",
       "</style>\n",
       "<table border=\"1\" class=\"dataframe\">\n",
       "  <thead>\n",
       "    <tr style=\"text-align: right;\">\n",
       "      <th></th>\n",
       "      <th>date_of_last_rech_6</th>\n",
       "      <th>date_of_last_rech_7</th>\n",
       "      <th>date_of_last_rech_8</th>\n",
       "    </tr>\n",
       "  </thead>\n",
       "  <tbody>\n",
       "    <tr>\n",
       "      <th>0</th>\n",
       "      <td>2014-06-21</td>\n",
       "      <td>2014-07-16</td>\n",
       "      <td>2014-08-08</td>\n",
       "    </tr>\n",
       "    <tr>\n",
       "      <th>1</th>\n",
       "      <td>2014-06-27</td>\n",
       "      <td>2014-07-25</td>\n",
       "      <td>2014-08-26</td>\n",
       "    </tr>\n",
       "    <tr>\n",
       "      <th>2</th>\n",
       "      <td>2014-06-25</td>\n",
       "      <td>2014-07-31</td>\n",
       "      <td>2014-08-30</td>\n",
       "    </tr>\n",
       "    <tr>\n",
       "      <th>3</th>\n",
       "      <td>2014-06-30</td>\n",
       "      <td>2014-07-31</td>\n",
       "      <td>2014-08-31</td>\n",
       "    </tr>\n",
       "    <tr>\n",
       "      <th>4</th>\n",
       "      <td>2014-06-18</td>\n",
       "      <td>2014-07-07</td>\n",
       "      <td>2014-08-24</td>\n",
       "    </tr>\n",
       "  </tbody>\n",
       "</table>\n",
       "</div>"
      ],
      "text/plain": [
       "  date_of_last_rech_6 date_of_last_rech_7 date_of_last_rech_8\n",
       "0          2014-06-21          2014-07-16          2014-08-08\n",
       "1          2014-06-27          2014-07-25          2014-08-26\n",
       "2          2014-06-25          2014-07-31          2014-08-30\n",
       "3          2014-06-30          2014-07-31          2014-08-31\n",
       "4          2014-06-18          2014-07-07          2014-08-24"
      ]
     },
     "execution_count": 50,
     "metadata": {},
     "output_type": "execute_result"
    }
   ],
   "source": [
    "# covert date columns to python datetime format\n",
    "date_vars = [\"date_of_last_rech_6\",  \"date_of_last_rech_7\", \"date_of_last_rech_8\"]\n",
    "hv_users[date_vars].head()"
   ]
  },
  {
   "cell_type": "code",
   "execution_count": 51,
   "metadata": {
    "pycharm": {
     "name": "#%%\n"
    }
   },
   "outputs": [
    {
     "name": "stdout",
     "output_type": "stream",
     "text": [
      "<class 'pandas.core.frame.DataFrame'>\n",
      "RangeIndex: 29906 entries, 0 to 29905\n",
      "Data columns (total 3 columns):\n",
      "date_of_last_rech_6    29833 non-null datetime64[ns]\n",
      "date_of_last_rech_7    29815 non-null datetime64[ns]\n",
      "date_of_last_rech_8    29338 non-null datetime64[ns]\n",
      "dtypes: datetime64[ns](3)\n",
      "memory usage: 701.0 KB\n",
      "None\n"
     ]
    },
    {
     "data": {
      "text/html": [
       "<div>\n",
       "<style scoped>\n",
       "    .dataframe tbody tr th:only-of-type {\n",
       "        vertical-align: middle;\n",
       "    }\n",
       "\n",
       "    .dataframe tbody tr th {\n",
       "        vertical-align: top;\n",
       "    }\n",
       "\n",
       "    .dataframe thead th {\n",
       "        text-align: right;\n",
       "    }\n",
       "</style>\n",
       "<table border=\"1\" class=\"dataframe\">\n",
       "  <thead>\n",
       "    <tr style=\"text-align: right;\">\n",
       "      <th></th>\n",
       "      <th>date_of_last_rech_6</th>\n",
       "      <th>date_of_last_rech_7</th>\n",
       "      <th>date_of_last_rech_8</th>\n",
       "    </tr>\n",
       "  </thead>\n",
       "  <tbody>\n",
       "    <tr>\n",
       "      <th>0</th>\n",
       "      <td>2014-06-21</td>\n",
       "      <td>2014-07-16</td>\n",
       "      <td>2014-08-08</td>\n",
       "    </tr>\n",
       "    <tr>\n",
       "      <th>1</th>\n",
       "      <td>2014-06-27</td>\n",
       "      <td>2014-07-25</td>\n",
       "      <td>2014-08-26</td>\n",
       "    </tr>\n",
       "    <tr>\n",
       "      <th>2</th>\n",
       "      <td>2014-06-25</td>\n",
       "      <td>2014-07-31</td>\n",
       "      <td>2014-08-30</td>\n",
       "    </tr>\n",
       "    <tr>\n",
       "      <th>3</th>\n",
       "      <td>2014-06-30</td>\n",
       "      <td>2014-07-31</td>\n",
       "      <td>2014-08-31</td>\n",
       "    </tr>\n",
       "    <tr>\n",
       "      <th>4</th>\n",
       "      <td>2014-06-18</td>\n",
       "      <td>2014-07-07</td>\n",
       "      <td>2014-08-24</td>\n",
       "    </tr>\n",
       "  </tbody>\n",
       "</table>\n",
       "</div>"
      ],
      "text/plain": [
       "  date_of_last_rech_6 date_of_last_rech_7 date_of_last_rech_8\n",
       "0          2014-06-21          2014-07-16          2014-08-08\n",
       "1          2014-06-27          2014-07-25          2014-08-26\n",
       "2          2014-06-25          2014-07-31          2014-08-30\n",
       "3          2014-06-30          2014-07-31          2014-08-31\n",
       "4          2014-06-18          2014-07-07          2014-08-24"
      ]
     },
     "execution_count": 51,
     "metadata": {},
     "output_type": "execute_result"
    }
   ],
   "source": [
    "# convert to datetime\n",
    "for col in date_vars:\n",
    "    hv_users[col] = pd.to_datetime(hv_users[col])\n",
    "\n",
    "print(hv_users[date_vars].info())\n",
    "hv_users[date_vars].head()"
   ]
  },
  {
   "cell_type": "code",
   "execution_count": 52,
   "metadata": {
    "pycharm": {
     "name": "#%%\n"
    }
   },
   "outputs": [
    {
     "name": "stdout",
     "output_type": "stream",
     "text": [
      "<class 'pandas.core.frame.DataFrame'>\n",
      "RangeIndex: 29906 entries, 0 to 29905\n",
      "Data columns (total 3 columns):\n",
      "rech_days_left_6    29833 non-null float64\n",
      "rech_days_left_7    29815 non-null float64\n",
      "rech_days_left_8    29338 non-null float64\n",
      "dtypes: float64(3)\n",
      "memory usage: 701.0 KB\n",
      "None\n"
     ]
    }
   ],
   "source": [
    "# Create new days columns, instead of date\n",
    "import datetime\n",
    "last_date_of_month_6 = datetime.datetime.strptime(\"30-06-2014\", \"%d-%m-%Y\")\n",
    "last_date_of_month_7 = datetime.datetime.strptime(\"31-07-2014\", \"%d-%m-%Y\")\n",
    "last_date_of_month_8 = datetime.datetime.strptime(\"31-08-2014\", \"%d-%m-%Y\")\n",
    "\n",
    "hv_users[\"rech_days_left_6\"]      = (last_date_of_month_6 - hv_users.date_of_last_rech_6).astype('timedelta64[D]')\n",
    "hv_users[\"rech_days_left_7\"]      = (last_date_of_month_7 - hv_users.date_of_last_rech_7).astype('timedelta64[D]')\n",
    "hv_users[\"rech_days_left_8\"]      = (last_date_of_month_8 - hv_users.date_of_last_rech_8).astype('timedelta64[D]')\n",
    "\n",
    "day_columns = [\"rech_days_left_6\", \"rech_days_left_7\", \"rech_days_left_8\"]\n",
    "\n",
    "print(hv_users[day_columns].info())"
   ]
  },
  {
   "cell_type": "code",
   "execution_count": 53,
   "metadata": {
    "pycharm": {
     "name": "#%%\n"
    }
   },
   "outputs": [
    {
     "name": "stdout",
     "output_type": "stream",
     "text": [
      "Number of columns droped here  =  3\n",
      "Dataframe Shape:  (29906, 227)\n"
     ]
    }
   ],
   "source": [
    "# Drop all old date columns: add dates columns to drop_column list\n",
    "hv_users.drop(date_vars, axis=1, inplace=True)\n",
    "telecom1 = hv_users.copy()\n",
    "\n",
    "print('Number of columns droped here  = ', len(date_vars))\n",
    "print('Dataframe Shape: ', hv_users.shape)"
   ]
  },
  {
   "cell_type": "code",
   "execution_count": 54,
   "metadata": {
    "pycharm": {
     "name": "#%%\n"
    }
   },
   "outputs": [
    {
     "data": {
      "text/plain": [
       "date_of_last_rech_9   2.68\n",
       "rech_days_left_6      0.24\n",
       "rech_days_left_7      0.30\n",
       "rech_days_left_8      1.90\n",
       "dtype: float64"
      ]
     },
     "execution_count": 54,
     "metadata": {},
     "output_type": "execute_result"
    }
   ],
   "source": [
    "# Missing Values Treatment: continue\n",
    "# look at the COLUMN summary again\n",
    "df = round(100*(hv_users.isnull().sum()/len(hv_users.index)), 2)\n",
    "df[df > 0]"
   ]
  },
  {
   "cell_type": "code",
   "execution_count": 55,
   "metadata": {
    "pycharm": {
     "name": "#%%\n"
    }
   },
   "outputs": [
    {
     "data": {
      "text/html": [
       "<div>\n",
       "<style scoped>\n",
       "    .dataframe tbody tr th:only-of-type {\n",
       "        vertical-align: middle;\n",
       "    }\n",
       "\n",
       "    .dataframe tbody tr th {\n",
       "        vertical-align: top;\n",
       "    }\n",
       "\n",
       "    .dataframe thead th {\n",
       "        text-align: right;\n",
       "    }\n",
       "</style>\n",
       "<table border=\"1\" class=\"dataframe\">\n",
       "  <thead>\n",
       "    <tr style=\"text-align: right;\">\n",
       "      <th></th>\n",
       "      <th>rech_days_left_6</th>\n",
       "      <th>rech_days_left_7</th>\n",
       "      <th>rech_days_left_8</th>\n",
       "    </tr>\n",
       "  </thead>\n",
       "  <tbody>\n",
       "    <tr>\n",
       "      <th>count</th>\n",
       "      <td>29833.00</td>\n",
       "      <td>29815.00</td>\n",
       "      <td>29338.00</td>\n",
       "    </tr>\n",
       "    <tr>\n",
       "      <th>mean</th>\n",
       "      <td>3.53</td>\n",
       "      <td>3.72</td>\n",
       "      <td>4.31</td>\n",
       "    </tr>\n",
       "    <tr>\n",
       "      <th>std</th>\n",
       "      <td>4.67</td>\n",
       "      <td>4.58</td>\n",
       "      <td>5.27</td>\n",
       "    </tr>\n",
       "    <tr>\n",
       "      <th>min</th>\n",
       "      <td>0.00</td>\n",
       "      <td>0.00</td>\n",
       "      <td>0.00</td>\n",
       "    </tr>\n",
       "    <tr>\n",
       "      <th>25%</th>\n",
       "      <td>0.00</td>\n",
       "      <td>0.00</td>\n",
       "      <td>1.00</td>\n",
       "    </tr>\n",
       "    <tr>\n",
       "      <th>50%</th>\n",
       "      <td>2.00</td>\n",
       "      <td>2.00</td>\n",
       "      <td>3.00</td>\n",
       "    </tr>\n",
       "    <tr>\n",
       "      <th>75%</th>\n",
       "      <td>5.00</td>\n",
       "      <td>5.00</td>\n",
       "      <td>6.00</td>\n",
       "    </tr>\n",
       "    <tr>\n",
       "      <th>max</th>\n",
       "      <td>29.00</td>\n",
       "      <td>30.00</td>\n",
       "      <td>30.00</td>\n",
       "    </tr>\n",
       "  </tbody>\n",
       "</table>\n",
       "</div>"
      ],
      "text/plain": [
       "       rech_days_left_6  rech_days_left_7  rech_days_left_8\n",
       "count          29833.00          29815.00          29338.00\n",
       "mean               3.53              3.72              4.31\n",
       "std                4.67              4.58              5.27\n",
       "min                0.00              0.00              0.00\n",
       "25%                0.00              0.00              1.00\n",
       "50%                2.00              2.00              3.00\n",
       "75%                5.00              5.00              6.00\n",
       "max               29.00             30.00             30.00"
      ]
     },
     "execution_count": 55,
     "metadata": {},
     "output_type": "execute_result"
    }
   ],
   "source": [
    "hv_users[['rech_days_left_6', 'rech_days_left_7', 'rech_days_left_8']].describe()\n"
   ]
  },
  {
   "cell_type": "code",
   "execution_count": 56,
   "metadata": {
    "pycharm": {
     "name": "#%%\n"
    }
   },
   "outputs": [],
   "source": [
    "# Mean & Median are different: imputing with median value for recharge days left \n",
    "hv_users.loc[np.isnan(hv_users['rech_days_left_6']), ['rech_days_left_6']] = hv_users['rech_days_left_6'].median()\n",
    "hv_users.loc[np.isnan(hv_users['rech_days_left_7']), ['rech_days_left_7']] = hv_users['rech_days_left_7'].median()\n",
    "hv_users.loc[np.isnan(hv_users['rech_days_left_8']), ['rech_days_left_8']] = hv_users['rech_days_left_8'].median()\n"
   ]
  },
  {
   "cell_type": "code",
   "execution_count": 57,
   "metadata": {
    "pycharm": {
     "name": "#%%\n"
    }
   },
   "outputs": [
    {
     "name": "stdout",
     "output_type": "stream",
     "text": [
      "\n",
      "Total Number of missing values in the data frame = 802\n"
     ]
    }
   ],
   "source": [
    "\n",
    "print(\"\\nTotal Number of missing values in the data frame = {}\".format(hv_users.isnull().sum().sum()))\n"
   ]
  },
  {
   "cell_type": "markdown",
   "metadata": {},
   "source": [
    "### There are 802 missing values so we can drop them directly as it will not have much effect on the dataset"
   ]
  },
  {
   "cell_type": "code",
   "execution_count": 58,
   "metadata": {
    "pycharm": {
     "name": "#%%\n"
    }
   },
   "outputs": [
    {
     "data": {
      "text/plain": [
       "(29104, 227)"
      ]
     },
     "execution_count": 58,
     "metadata": {},
     "output_type": "execute_result"
    }
   ],
   "source": [
    "hv_users=hv_users.dropna(axis=0, how='any', thresh=None, subset=None, inplace=False)\n",
    "hv_users.shape"
   ]
  },
  {
   "cell_type": "markdown",
   "metadata": {},
   "source": [
    "### Outlier treatment"
   ]
  },
  {
   "cell_type": "code",
   "execution_count": 59,
   "metadata": {
    "pycharm": {
     "name": "#%%\n"
    }
   },
   "outputs": [
    {
     "data": {
      "text/html": [
       "<div>\n",
       "<style scoped>\n",
       "    .dataframe tbody tr th:only-of-type {\n",
       "        vertical-align: middle;\n",
       "    }\n",
       "\n",
       "    .dataframe tbody tr th {\n",
       "        vertical-align: top;\n",
       "    }\n",
       "\n",
       "    .dataframe thead th {\n",
       "        text-align: right;\n",
       "    }\n",
       "</style>\n",
       "<table border=\"1\" class=\"dataframe\">\n",
       "  <thead>\n",
       "    <tr style=\"text-align: right;\">\n",
       "      <th></th>\n",
       "      <th>mobile_number</th>\n",
       "      <th>arpu_6</th>\n",
       "      <th>arpu_7</th>\n",
       "      <th>arpu_8</th>\n",
       "      <th>arpu_9</th>\n",
       "      <th>onnet_mou_6</th>\n",
       "      <th>onnet_mou_7</th>\n",
       "      <th>onnet_mou_8</th>\n",
       "      <th>onnet_mou_9</th>\n",
       "      <th>offnet_mou_6</th>\n",
       "      <th>...</th>\n",
       "      <th>total_rech_amt_data_8</th>\n",
       "      <th>total_rech_amt_data_9</th>\n",
       "      <th>total_month_rech_6</th>\n",
       "      <th>total_month_rech_7</th>\n",
       "      <th>total_month_rech_8</th>\n",
       "      <th>total_month_rech_9</th>\n",
       "      <th>churn</th>\n",
       "      <th>rech_days_left_6</th>\n",
       "      <th>rech_days_left_7</th>\n",
       "      <th>rech_days_left_8</th>\n",
       "    </tr>\n",
       "  </thead>\n",
       "  <tbody>\n",
       "    <tr>\n",
       "      <th>count</th>\n",
       "      <td>29104.00</td>\n",
       "      <td>29104.00</td>\n",
       "      <td>29104.00</td>\n",
       "      <td>29104.00</td>\n",
       "      <td>29104.00</td>\n",
       "      <td>29104.00</td>\n",
       "      <td>29104.00</td>\n",
       "      <td>29104.00</td>\n",
       "      <td>29104.00</td>\n",
       "      <td>29104.00</td>\n",
       "      <td>...</td>\n",
       "      <td>29104.00</td>\n",
       "      <td>29104.00</td>\n",
       "      <td>29104.00</td>\n",
       "      <td>29104.00</td>\n",
       "      <td>29104.00</td>\n",
       "      <td>29104.00</td>\n",
       "      <td>29104.00</td>\n",
       "      <td>29104.00</td>\n",
       "      <td>29104.00</td>\n",
       "      <td>29104.00</td>\n",
       "    </tr>\n",
       "    <tr>\n",
       "      <th>mean</th>\n",
       "      <td>7001207709.85</td>\n",
       "      <td>556.87</td>\n",
       "      <td>564.52</td>\n",
       "      <td>517.49</td>\n",
       "      <td>479.02</td>\n",
       "      <td>260.27</td>\n",
       "      <td>269.28</td>\n",
       "      <td>238.46</td>\n",
       "      <td>216.98</td>\n",
       "      <td>372.96</td>\n",
       "      <td>...</td>\n",
       "      <td>474.89</td>\n",
       "      <td>390.45</td>\n",
       "      <td>1116.11</td>\n",
       "      <td>1201.60</td>\n",
       "      <td>1070.19</td>\n",
       "      <td>948.93</td>\n",
       "      <td>0.06</td>\n",
       "      <td>3.51</td>\n",
       "      <td>3.61</td>\n",
       "      <td>4.15</td>\n",
       "    </tr>\n",
       "    <tr>\n",
       "      <th>std</th>\n",
       "      <td>689987.77</td>\n",
       "      <td>456.36</td>\n",
       "      <td>481.35</td>\n",
       "      <td>503.53</td>\n",
       "      <td>502.07</td>\n",
       "      <td>457.95</td>\n",
       "      <td>480.32</td>\n",
       "      <td>462.14</td>\n",
       "      <td>439.54</td>\n",
       "      <td>480.08</td>\n",
       "      <td>...</td>\n",
       "      <td>1645.14</td>\n",
       "      <td>1591.58</td>\n",
       "      <td>1579.25</td>\n",
       "      <td>1648.57</td>\n",
       "      <td>1824.58</td>\n",
       "      <td>1769.48</td>\n",
       "      <td>0.24</td>\n",
       "      <td>4.63</td>\n",
       "      <td>4.41</td>\n",
       "      <td>5.05</td>\n",
       "    </tr>\n",
       "    <tr>\n",
       "      <th>min</th>\n",
       "      <td>7000000074.00</td>\n",
       "      <td>-2258.71</td>\n",
       "      <td>-1289.71</td>\n",
       "      <td>-345.13</td>\n",
       "      <td>-1899.51</td>\n",
       "      <td>0.00</td>\n",
       "      <td>0.00</td>\n",
       "      <td>0.00</td>\n",
       "      <td>0.00</td>\n",
       "      <td>0.00</td>\n",
       "      <td>...</td>\n",
       "      <td>0.00</td>\n",
       "      <td>0.00</td>\n",
       "      <td>0.00</td>\n",
       "      <td>0.00</td>\n",
       "      <td>0.00</td>\n",
       "      <td>0.00</td>\n",
       "      <td>0.00</td>\n",
       "      <td>0.00</td>\n",
       "      <td>0.00</td>\n",
       "      <td>0.00</td>\n",
       "    </tr>\n",
       "    <tr>\n",
       "      <th>25%</th>\n",
       "      <td>7000610475.00</td>\n",
       "      <td>309.87</td>\n",
       "      <td>313.68</td>\n",
       "      <td>241.35</td>\n",
       "      <td>207.30</td>\n",
       "      <td>17.31</td>\n",
       "      <td>16.54</td>\n",
       "      <td>11.73</td>\n",
       "      <td>8.03</td>\n",
       "      <td>71.75</td>\n",
       "      <td>...</td>\n",
       "      <td>0.00</td>\n",
       "      <td>0.00</td>\n",
       "      <td>546.00</td>\n",
       "      <td>558.00</td>\n",
       "      <td>414.00</td>\n",
       "      <td>350.00</td>\n",
       "      <td>0.00</td>\n",
       "      <td>0.00</td>\n",
       "      <td>0.00</td>\n",
       "      <td>1.00</td>\n",
       "    </tr>\n",
       "    <tr>\n",
       "      <th>50%</th>\n",
       "      <td>7001205551.00</td>\n",
       "      <td>480.65</td>\n",
       "      <td>483.70</td>\n",
       "      <td>435.08</td>\n",
       "      <td>397.38</td>\n",
       "      <td>85.10</td>\n",
       "      <td>84.14</td>\n",
       "      <td>68.63</td>\n",
       "      <td>58.19</td>\n",
       "      <td>222.55</td>\n",
       "      <td>...</td>\n",
       "      <td>25.00</td>\n",
       "      <td>23.00</td>\n",
       "      <td>785.00</td>\n",
       "      <td>820.00</td>\n",
       "      <td>704.00</td>\n",
       "      <td>645.00</td>\n",
       "      <td>0.00</td>\n",
       "      <td>2.00</td>\n",
       "      <td>2.00</td>\n",
       "      <td>3.00</td>\n",
       "    </tr>\n",
       "    <tr>\n",
       "      <th>75%</th>\n",
       "      <td>7001804306.25</td>\n",
       "      <td>697.13</td>\n",
       "      <td>701.27</td>\n",
       "      <td>668.34</td>\n",
       "      <td>634.87</td>\n",
       "      <td>290.45</td>\n",
       "      <td>293.23</td>\n",
       "      <td>247.09</td>\n",
       "      <td>217.69</td>\n",
       "      <td>487.44</td>\n",
       "      <td>...</td>\n",
       "      <td>358.00</td>\n",
       "      <td>252.00</td>\n",
       "      <td>1207.00</td>\n",
       "      <td>1280.00</td>\n",
       "      <td>1170.00</td>\n",
       "      <td>1097.00</td>\n",
       "      <td>0.00</td>\n",
       "      <td>5.00</td>\n",
       "      <td>5.00</td>\n",
       "      <td>6.00</td>\n",
       "    </tr>\n",
       "    <tr>\n",
       "      <th>90%</th>\n",
       "      <td>7002165307.50</td>\n",
       "      <td>987.99</td>\n",
       "      <td>998.03</td>\n",
       "      <td>986.83</td>\n",
       "      <td>944.12</td>\n",
       "      <td>750.52</td>\n",
       "      <td>786.72</td>\n",
       "      <td>677.65</td>\n",
       "      <td>615.16</td>\n",
       "      <td>892.93</td>\n",
       "      <td>...</td>\n",
       "      <td>1148.70</td>\n",
       "      <td>1008.00</td>\n",
       "      <td>2010.00</td>\n",
       "      <td>2200.00</td>\n",
       "      <td>2066.70</td>\n",
       "      <td>1893.70</td>\n",
       "      <td>0.00</td>\n",
       "      <td>10.00</td>\n",
       "      <td>10.00</td>\n",
       "      <td>10.00</td>\n",
       "    </tr>\n",
       "    <tr>\n",
       "      <th>95%</th>\n",
       "      <td>7002284548.10</td>\n",
       "      <td>1237.37</td>\n",
       "      <td>1263.91</td>\n",
       "      <td>1265.26</td>\n",
       "      <td>1213.88</td>\n",
       "      <td>1128.27</td>\n",
       "      <td>1188.95</td>\n",
       "      <td>1085.76</td>\n",
       "      <td>1002.70</td>\n",
       "      <td>1252.36</td>\n",
       "      <td>...</td>\n",
       "      <td>2268.00</td>\n",
       "      <td>1734.00</td>\n",
       "      <td>2903.85</td>\n",
       "      <td>3179.00</td>\n",
       "      <td>3074.00</td>\n",
       "      <td>2678.00</td>\n",
       "      <td>1.00</td>\n",
       "      <td>14.00</td>\n",
       "      <td>14.00</td>\n",
       "      <td>15.00</td>\n",
       "    </tr>\n",
       "    <tr>\n",
       "      <th>99%</th>\n",
       "      <td>7002385519.37</td>\n",
       "      <td>1980.59</td>\n",
       "      <td>2003.40</td>\n",
       "      <td>1989.92</td>\n",
       "      <td>1970.62</td>\n",
       "      <td>2146.08</td>\n",
       "      <td>2194.69</td>\n",
       "      <td>2165.53</td>\n",
       "      <td>2112.84</td>\n",
       "      <td>2314.62</td>\n",
       "      <td>...</td>\n",
       "      <td>5813.88</td>\n",
       "      <td>4437.58</td>\n",
       "      <td>6313.88</td>\n",
       "      <td>7207.73</td>\n",
       "      <td>6912.91</td>\n",
       "      <td>5833.76</td>\n",
       "      <td>1.00</td>\n",
       "      <td>19.00</td>\n",
       "      <td>18.00</td>\n",
       "      <td>25.00</td>\n",
       "    </tr>\n",
       "    <tr>\n",
       "      <th>max</th>\n",
       "      <td>7002410905.00</td>\n",
       "      <td>27731.09</td>\n",
       "      <td>35145.83</td>\n",
       "      <td>33543.62</td>\n",
       "      <td>38805.62</td>\n",
       "      <td>7376.71</td>\n",
       "      <td>8157.78</td>\n",
       "      <td>10752.56</td>\n",
       "      <td>10427.46</td>\n",
       "      <td>8362.36</td>\n",
       "      <td>...</td>\n",
       "      <td>89106.50</td>\n",
       "      <td>132510.00</td>\n",
       "      <td>113458.00</td>\n",
       "      <td>56075.00</td>\n",
       "      <td>95884.50</td>\n",
       "      <td>135142.00</td>\n",
       "      <td>1.00</td>\n",
       "      <td>29.00</td>\n",
       "      <td>30.00</td>\n",
       "      <td>30.00</td>\n",
       "    </tr>\n",
       "  </tbody>\n",
       "</table>\n",
       "<p>11 rows × 226 columns</p>\n",
       "</div>"
      ],
      "text/plain": [
       "       mobile_number   arpu_6   arpu_7   arpu_8   arpu_9  onnet_mou_6  \\\n",
       "count       29104.00 29104.00 29104.00 29104.00 29104.00     29104.00   \n",
       "mean   7001207709.85   556.87   564.52   517.49   479.02       260.27   \n",
       "std        689987.77   456.36   481.35   503.53   502.07       457.95   \n",
       "min    7000000074.00 -2258.71 -1289.71  -345.13 -1899.51         0.00   \n",
       "25%    7000610475.00   309.87   313.68   241.35   207.30        17.31   \n",
       "50%    7001205551.00   480.65   483.70   435.08   397.38        85.10   \n",
       "75%    7001804306.25   697.13   701.27   668.34   634.87       290.45   \n",
       "90%    7002165307.50   987.99   998.03   986.83   944.12       750.52   \n",
       "95%    7002284548.10  1237.37  1263.91  1265.26  1213.88      1128.27   \n",
       "99%    7002385519.37  1980.59  2003.40  1989.92  1970.62      2146.08   \n",
       "max    7002410905.00 27731.09 35145.83 33543.62 38805.62      7376.71   \n",
       "\n",
       "       onnet_mou_7  onnet_mou_8  onnet_mou_9  offnet_mou_6  ...  \\\n",
       "count     29104.00     29104.00     29104.00      29104.00  ...   \n",
       "mean        269.28       238.46       216.98        372.96  ...   \n",
       "std         480.32       462.14       439.54        480.08  ...   \n",
       "min           0.00         0.00         0.00          0.00  ...   \n",
       "25%          16.54        11.73         8.03         71.75  ...   \n",
       "50%          84.14        68.63        58.19        222.55  ...   \n",
       "75%         293.23       247.09       217.69        487.44  ...   \n",
       "90%         786.72       677.65       615.16        892.93  ...   \n",
       "95%        1188.95      1085.76      1002.70       1252.36  ...   \n",
       "99%        2194.69      2165.53      2112.84       2314.62  ...   \n",
       "max        8157.78     10752.56     10427.46       8362.36  ...   \n",
       "\n",
       "       total_rech_amt_data_8  total_rech_amt_data_9  total_month_rech_6  \\\n",
       "count               29104.00               29104.00            29104.00   \n",
       "mean                  474.89                 390.45             1116.11   \n",
       "std                  1645.14                1591.58             1579.25   \n",
       "min                     0.00                   0.00                0.00   \n",
       "25%                     0.00                   0.00              546.00   \n",
       "50%                    25.00                  23.00              785.00   \n",
       "75%                   358.00                 252.00             1207.00   \n",
       "90%                  1148.70                1008.00             2010.00   \n",
       "95%                  2268.00                1734.00             2903.85   \n",
       "99%                  5813.88                4437.58             6313.88   \n",
       "max                 89106.50              132510.00           113458.00   \n",
       "\n",
       "       total_month_rech_7  total_month_rech_8  total_month_rech_9    churn  \\\n",
       "count            29104.00            29104.00            29104.00 29104.00   \n",
       "mean              1201.60             1070.19              948.93     0.06   \n",
       "std               1648.57             1824.58             1769.48     0.24   \n",
       "min                  0.00                0.00                0.00     0.00   \n",
       "25%                558.00              414.00              350.00     0.00   \n",
       "50%                820.00              704.00              645.00     0.00   \n",
       "75%               1280.00             1170.00             1097.00     0.00   \n",
       "90%               2200.00             2066.70             1893.70     0.00   \n",
       "95%               3179.00             3074.00             2678.00     1.00   \n",
       "99%               7207.73             6912.91             5833.76     1.00   \n",
       "max              56075.00            95884.50           135142.00     1.00   \n",
       "\n",
       "       rech_days_left_6  rech_days_left_7  rech_days_left_8  \n",
       "count          29104.00          29104.00          29104.00  \n",
       "mean               3.51              3.61              4.15  \n",
       "std                4.63              4.41              5.05  \n",
       "min                0.00              0.00              0.00  \n",
       "25%                0.00              0.00              1.00  \n",
       "50%                2.00              2.00              3.00  \n",
       "75%                5.00              5.00              6.00  \n",
       "90%               10.00             10.00             10.00  \n",
       "95%               14.00             14.00             15.00  \n",
       "99%               19.00             18.00             25.00  \n",
       "max               29.00             30.00             30.00  \n",
       "\n",
       "[11 rows x 226 columns]"
      ]
     },
     "execution_count": 59,
     "metadata": {},
     "output_type": "execute_result"
    }
   ],
   "source": [
    "# Checking outliers at 25%,50%,75%,90%,95% and 99%\n",
    "hv_users.describe(percentiles=[.25,.5,.75,.90,.95,.99])"
   ]
  },
  {
   "cell_type": "markdown",
   "metadata": {},
   "source": [
    "- Most of the outliers are on the revenue data and the model being built is on usage of voice and data.\n",
    "- Hence there is no need to treat these outliers"
   ]
  },
  {
   "cell_type": "markdown",
   "metadata": {},
   "source": [
    "##### Save the cleaned data in new file"
   ]
  },
  {
   "cell_type": "code",
   "execution_count": 60,
   "metadata": {
    "pycharm": {
     "name": "#%%\n"
    }
   },
   "outputs": [],
   "source": [
    "# write treated telecom file\n",
    "hv_users.to_csv(\"../data/processed/01_EDA.csv\", sep=',', index=False)\n",
    "\n"
   ]
  }
 ],
 "metadata": {
  "kernelspec": {
   "display_name": "Python 3",
   "language": "python",
   "name": "python3"
  },
  "language_info": {
   "codemirror_mode": {
    "name": "ipython",
    "version": 3
   },
   "file_extension": ".py",
   "mimetype": "text/x-python",
   "name": "python",
   "nbconvert_exporter": "python",
   "pygments_lexer": "ipython3",
   "version": "3.7.3"
  },
  "name": "Telecom_Churn_case_Study_Data_Analysis.ipynb",
  "pycharm": {
   "stem_cell": {
    "cell_type": "raw",
    "metadata": {
     "collapsed": false
    },
    "source": []
   }
  }
 },
 "nbformat": 4,
 "nbformat_minor": 2
}
