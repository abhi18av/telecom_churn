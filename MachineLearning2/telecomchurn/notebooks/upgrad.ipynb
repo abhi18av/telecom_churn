{
 "cells": [
  {
   "cell_type": "code",
   "execution_count": 1,
   "metadata": {},
   "outputs": [],
   "source": [
    "# Import required libraries\n",
    "import numpy as np\n",
    "import pandas as pd\n",
    "import matplotlib.pyplot as plt\n",
    "import seaborn as sns\n",
    "%matplotlib inline\n",
    "\n",
    "# Until fuction: line seperator\n",
    "def print_ln():\n",
    "    print('-'*80, '\\n')\n",
    "    \n",
    "pd.options.display.float_format = '{:.2f}'.format\n",
    "\n",
    "# Load csv data file\n",
    "telecom_orig = pd.read_csv('telecom_churn_data.csv', low_memory=False)"
   ]
  },
  {
   "cell_type": "markdown",
   "metadata": {},
   "source": [
    "#### Checking the shape"
   ]
  },
  {
   "cell_type": "code",
   "execution_count": 2,
   "metadata": {},
   "outputs": [
    {
     "name": "stdout",
     "output_type": "stream",
     "text": [
      "Dataframe Shape:  (99999, 226)\n",
      "-------------------------------------------------------------------------------- \n",
      "\n",
      "Dataframe Info: \n",
      "\n",
      "<class 'pandas.core.frame.DataFrame'>\n",
      "RangeIndex: 99999 entries, 0 to 99998\n",
      "Columns: 226 entries, mobile_number to sep_vbc_3g\n",
      "dtypes: float64(179), int64(35), object(12)\n",
      "memory usage: 172.4+ MB\n",
      "-------------------------------------------------------------------------------- \n",
      "\n"
     ]
    },
    {
     "data": {
      "text/html": [
       "<div>\n",
       "<style scoped>\n",
       "    .dataframe tbody tr th:only-of-type {\n",
       "        vertical-align: middle;\n",
       "    }\n",
       "\n",
       "    .dataframe tbody tr th {\n",
       "        vertical-align: top;\n",
       "    }\n",
       "\n",
       "    .dataframe thead th {\n",
       "        text-align: right;\n",
       "    }\n",
       "</style>\n",
       "<table border=\"1\" class=\"dataframe\">\n",
       "  <thead>\n",
       "    <tr style=\"text-align: right;\">\n",
       "      <th></th>\n",
       "      <th>mobile_number</th>\n",
       "      <th>circle_id</th>\n",
       "      <th>loc_og_t2o_mou</th>\n",
       "      <th>std_og_t2o_mou</th>\n",
       "      <th>loc_ic_t2o_mou</th>\n",
       "      <th>last_date_of_month_6</th>\n",
       "      <th>last_date_of_month_7</th>\n",
       "      <th>last_date_of_month_8</th>\n",
       "      <th>last_date_of_month_9</th>\n",
       "      <th>arpu_6</th>\n",
       "      <th>...</th>\n",
       "      <th>sachet_3g_9</th>\n",
       "      <th>fb_user_6</th>\n",
       "      <th>fb_user_7</th>\n",
       "      <th>fb_user_8</th>\n",
       "      <th>fb_user_9</th>\n",
       "      <th>aon</th>\n",
       "      <th>aug_vbc_3g</th>\n",
       "      <th>jul_vbc_3g</th>\n",
       "      <th>jun_vbc_3g</th>\n",
       "      <th>sep_vbc_3g</th>\n",
       "    </tr>\n",
       "  </thead>\n",
       "  <tbody>\n",
       "    <tr>\n",
       "      <th>0</th>\n",
       "      <td>7000842753</td>\n",
       "      <td>109</td>\n",
       "      <td>0.00</td>\n",
       "      <td>0.00</td>\n",
       "      <td>0.00</td>\n",
       "      <td>6/30/2014</td>\n",
       "      <td>7/31/2014</td>\n",
       "      <td>8/31/2014</td>\n",
       "      <td>9/30/2014</td>\n",
       "      <td>197.38</td>\n",
       "      <td>...</td>\n",
       "      <td>0</td>\n",
       "      <td>1.00</td>\n",
       "      <td>1.00</td>\n",
       "      <td>1.00</td>\n",
       "      <td>nan</td>\n",
       "      <td>968</td>\n",
       "      <td>30.40</td>\n",
       "      <td>0.00</td>\n",
       "      <td>101.20</td>\n",
       "      <td>3.58</td>\n",
       "    </tr>\n",
       "    <tr>\n",
       "      <th>1</th>\n",
       "      <td>7001865778</td>\n",
       "      <td>109</td>\n",
       "      <td>0.00</td>\n",
       "      <td>0.00</td>\n",
       "      <td>0.00</td>\n",
       "      <td>6/30/2014</td>\n",
       "      <td>7/31/2014</td>\n",
       "      <td>8/31/2014</td>\n",
       "      <td>9/30/2014</td>\n",
       "      <td>34.05</td>\n",
       "      <td>...</td>\n",
       "      <td>0</td>\n",
       "      <td>nan</td>\n",
       "      <td>1.00</td>\n",
       "      <td>1.00</td>\n",
       "      <td>nan</td>\n",
       "      <td>1006</td>\n",
       "      <td>0.00</td>\n",
       "      <td>0.00</td>\n",
       "      <td>0.00</td>\n",
       "      <td>0.00</td>\n",
       "    </tr>\n",
       "    <tr>\n",
       "      <th>2</th>\n",
       "      <td>7001625959</td>\n",
       "      <td>109</td>\n",
       "      <td>0.00</td>\n",
       "      <td>0.00</td>\n",
       "      <td>0.00</td>\n",
       "      <td>6/30/2014</td>\n",
       "      <td>7/31/2014</td>\n",
       "      <td>8/31/2014</td>\n",
       "      <td>9/30/2014</td>\n",
       "      <td>167.69</td>\n",
       "      <td>...</td>\n",
       "      <td>0</td>\n",
       "      <td>nan</td>\n",
       "      <td>nan</td>\n",
       "      <td>nan</td>\n",
       "      <td>1.00</td>\n",
       "      <td>1103</td>\n",
       "      <td>0.00</td>\n",
       "      <td>0.00</td>\n",
       "      <td>4.17</td>\n",
       "      <td>0.00</td>\n",
       "    </tr>\n",
       "    <tr>\n",
       "      <th>3</th>\n",
       "      <td>7001204172</td>\n",
       "      <td>109</td>\n",
       "      <td>0.00</td>\n",
       "      <td>0.00</td>\n",
       "      <td>0.00</td>\n",
       "      <td>6/30/2014</td>\n",
       "      <td>7/31/2014</td>\n",
       "      <td>8/31/2014</td>\n",
       "      <td>9/30/2014</td>\n",
       "      <td>221.34</td>\n",
       "      <td>...</td>\n",
       "      <td>0</td>\n",
       "      <td>nan</td>\n",
       "      <td>nan</td>\n",
       "      <td>nan</td>\n",
       "      <td>nan</td>\n",
       "      <td>2491</td>\n",
       "      <td>0.00</td>\n",
       "      <td>0.00</td>\n",
       "      <td>0.00</td>\n",
       "      <td>0.00</td>\n",
       "    </tr>\n",
       "    <tr>\n",
       "      <th>4</th>\n",
       "      <td>7000142493</td>\n",
       "      <td>109</td>\n",
       "      <td>0.00</td>\n",
       "      <td>0.00</td>\n",
       "      <td>0.00</td>\n",
       "      <td>6/30/2014</td>\n",
       "      <td>7/31/2014</td>\n",
       "      <td>8/31/2014</td>\n",
       "      <td>9/30/2014</td>\n",
       "      <td>261.64</td>\n",
       "      <td>...</td>\n",
       "      <td>0</td>\n",
       "      <td>0.00</td>\n",
       "      <td>nan</td>\n",
       "      <td>nan</td>\n",
       "      <td>nan</td>\n",
       "      <td>1526</td>\n",
       "      <td>0.00</td>\n",
       "      <td>0.00</td>\n",
       "      <td>0.00</td>\n",
       "      <td>0.00</td>\n",
       "    </tr>\n",
       "  </tbody>\n",
       "</table>\n",
       "<p>5 rows × 226 columns</p>\n",
       "</div>"
      ],
      "text/plain": [
       "   mobile_number  circle_id  loc_og_t2o_mou  std_og_t2o_mou  loc_ic_t2o_mou  \\\n",
       "0     7000842753        109            0.00            0.00            0.00   \n",
       "1     7001865778        109            0.00            0.00            0.00   \n",
       "2     7001625959        109            0.00            0.00            0.00   \n",
       "3     7001204172        109            0.00            0.00            0.00   \n",
       "4     7000142493        109            0.00            0.00            0.00   \n",
       "\n",
       "  last_date_of_month_6 last_date_of_month_7 last_date_of_month_8  \\\n",
       "0            6/30/2014            7/31/2014            8/31/2014   \n",
       "1            6/30/2014            7/31/2014            8/31/2014   \n",
       "2            6/30/2014            7/31/2014            8/31/2014   \n",
       "3            6/30/2014            7/31/2014            8/31/2014   \n",
       "4            6/30/2014            7/31/2014            8/31/2014   \n",
       "\n",
       "  last_date_of_month_9  arpu_6  ...  sachet_3g_9  fb_user_6  fb_user_7  \\\n",
       "0            9/30/2014  197.38  ...            0       1.00       1.00   \n",
       "1            9/30/2014   34.05  ...            0        nan       1.00   \n",
       "2            9/30/2014  167.69  ...            0        nan        nan   \n",
       "3            9/30/2014  221.34  ...            0        nan        nan   \n",
       "4            9/30/2014  261.64  ...            0       0.00        nan   \n",
       "\n",
       "   fb_user_8  fb_user_9   aon  aug_vbc_3g  jul_vbc_3g  jun_vbc_3g  sep_vbc_3g  \n",
       "0       1.00        nan   968       30.40        0.00      101.20        3.58  \n",
       "1       1.00        nan  1006        0.00        0.00        0.00        0.00  \n",
       "2        nan       1.00  1103        0.00        0.00        4.17        0.00  \n",
       "3        nan        nan  2491        0.00        0.00        0.00        0.00  \n",
       "4        nan        nan  1526        0.00        0.00        0.00        0.00  \n",
       "\n",
       "[5 rows x 226 columns]"
      ]
     },
     "execution_count": 2,
     "metadata": {},
     "output_type": "execute_result"
    }
   ],
   "source": [
    "# Understand the properties of loaded dataframe\n",
    "telecom = telecom_orig.copy()\n",
    "print('Dataframe Shape: ', telecom.shape); print_ln();\n",
    "print(\"Dataframe Info: \\n\"); telecom.info(); print_ln();\n",
    "telecom.head(5)"
   ]
  },
  {
   "cell_type": "markdown",
   "metadata": {},
   "source": [
    "#### Checking Categorical and Numerical Columns"
   ]
  },
  {
   "cell_type": "code",
   "execution_count": 3,
   "metadata": {},
   "outputs": [
    {
     "name": "stdout",
     "output_type": "stream",
     "text": [
      "categorical_features : Index(['last_date_of_month_6', 'last_date_of_month_7', 'last_date_of_month_8',\n",
      "       'last_date_of_month_9', 'date_of_last_rech_6', 'date_of_last_rech_7',\n",
      "       'date_of_last_rech_8', 'date_of_last_rech_9',\n",
      "       'date_of_last_rech_data_6', 'date_of_last_rech_data_7',\n",
      "       'date_of_last_rech_data_8', 'date_of_last_rech_data_9'],\n",
      "      dtype='object')\n",
      "-------------------------------------------------------------------------------- \n",
      "\n",
      "numerical_features: Index(['mobile_number', 'circle_id', 'loc_og_t2o_mou', 'std_og_t2o_mou',\n",
      "       'loc_ic_t2o_mou', 'arpu_6', 'arpu_7', 'arpu_8', 'arpu_9', 'onnet_mou_6',\n",
      "       ...\n",
      "       'sachet_3g_9', 'fb_user_6', 'fb_user_7', 'fb_user_8', 'fb_user_9',\n",
      "       'aon', 'aug_vbc_3g', 'jul_vbc_3g', 'jun_vbc_3g', 'sep_vbc_3g'],\n",
      "      dtype='object', length=214)\n",
      "-------------------------------------------------------------------------------- \n",
      "\n"
     ]
    }
   ],
   "source": [
    "def type_features(data):\n",
    "    categorical_features = data.select_dtypes(include = [\"object\"]).columns\n",
    "    numerical_features = data.select_dtypes(exclude = [\"object\"]).columns\n",
    "    print( \"categorical_features :\",categorical_features)\n",
    "    print_ln()\n",
    "    print(\"numerical_features:\",numerical_features)\n",
    "    print_ln()\n",
    "    return categorical_features, numerical_features\n",
    "\n",
    "telecom_cat_features, telecom_num_features =  type_features(telecom)\n"
   ]
  },
  {
   "cell_type": "markdown",
   "metadata": {},
   "source": [
    "#### Missing Vlaue Analysis"
   ]
  },
  {
   "cell_type": "code",
   "execution_count": 4,
   "metadata": {},
   "outputs": [],
   "source": [
    "# Missing values can be imputed with '-1' \n",
    "# where -1 can be treated as a new category.\n",
    "\n",
    "categorical_vars = [\"night_pck_user_6\", \"night_pck_user_7\", \"night_pck_user_8\", \n",
    "\"night_pck_user_9\", \"fb_user_6\", \"fb_user_7\", \"fb_user_8\", \"fb_user_9\"]\n",
    "\n",
    "for var in categorical_vars:\n",
    "    telecom[var].fillna(value=-1, inplace=True)"
   ]
  },
  {
   "cell_type": "code",
   "execution_count": 5,
   "metadata": {},
   "outputs": [],
   "source": [
    "# Create dummy variables for all the six categorial variables\n",
    "night_pck_user_6_s = pd.get_dummies(telecom['night_pck_user_6'],prefix=\"night6\",drop_first=True)\n",
    "night_pck_user_7_s = pd.get_dummies(telecom['night_pck_user_7'],prefix=\"night7\",drop_first=True)\n",
    "night_pck_user_8_s = pd.get_dummies(telecom['night_pck_user_8'],prefix=\"night8\",drop_first=True)\n",
    "\n",
    "fb_user_6_s = pd.get_dummies(telecom['fb_user_6'],prefix=\"fb6\", drop_first=True)\n",
    "fb_user_7_s = pd.get_dummies(telecom['fb_user_7'],prefix=\"fb7\",drop_first=True)\n",
    "fb_user_8_s = pd.get_dummies(telecom['fb_user_8'],prefix=\"fb8\",drop_first=True)\n",
    "\n",
    "telecom = pd.concat([telecom,night_pck_user_6_s],axis=1)\n",
    "telecom = pd.concat([telecom,night_pck_user_7_s],axis=1)\n",
    "telecom = pd.concat([telecom,night_pck_user_8_s],axis=1)\n",
    "\n",
    "telecom = pd.concat([telecom,fb_user_6_s],axis=1)\n",
    "telecom = pd.concat([telecom,fb_user_7_s],axis=1)\n",
    "telecom = pd.concat([telecom,fb_user_8_s],axis=1)\n",
    "\n",
    "# drop all categorial columns\n",
    "telecom = telecom.drop(['fb_user_6', 'fb_user_7', 'fb_user_8', 'night_pck_user_6', 'night_pck_user_7', 'night_pck_user_8'], 1)"
   ]
  },
  {
   "cell_type": "code",
   "execution_count": 6,
   "metadata": {},
   "outputs": [
    {
     "data": {
      "text/plain": [
       "mobile_number              0\n",
       "circle_id                  0\n",
       "loc_og_t2o_mou          1018\n",
       "std_og_t2o_mou          1018\n",
       "loc_ic_t2o_mou          1018\n",
       "last_date_of_month_6       0\n",
       "last_date_of_month_7     601\n",
       "last_date_of_month_8    1100\n",
       "last_date_of_month_9    1659\n",
       "arpu_6                     0\n",
       "arpu_7                     0\n",
       "arpu_8                     0\n",
       "arpu_9                     0\n",
       "onnet_mou_6             3937\n",
       "onnet_mou_7             3859\n",
       "onnet_mou_8             5378\n",
       "onnet_mou_9             7745\n",
       "offnet_mou_6            3937\n",
       "offnet_mou_7            3859\n",
       "offnet_mou_8            5378\n",
       "offnet_mou_9            7745\n",
       "roam_ic_mou_6           3937\n",
       "roam_ic_mou_7           3859\n",
       "roam_ic_mou_8           5378\n",
       "roam_ic_mou_9           7745\n",
       "roam_og_mou_6           3937\n",
       "roam_og_mou_7           3859\n",
       "roam_og_mou_8           5378\n",
       "roam_og_mou_9           7745\n",
       "loc_og_t2t_mou_6        3937\n",
       "                        ... \n",
       "sachet_2g_6                0\n",
       "sachet_2g_7                0\n",
       "sachet_2g_8                0\n",
       "sachet_2g_9                0\n",
       "monthly_3g_6               0\n",
       "monthly_3g_7               0\n",
       "monthly_3g_8               0\n",
       "monthly_3g_9               0\n",
       "sachet_3g_6                0\n",
       "sachet_3g_7                0\n",
       "sachet_3g_8                0\n",
       "sachet_3g_9                0\n",
       "fb_user_9                  0\n",
       "aon                        0\n",
       "aug_vbc_3g                 0\n",
       "jul_vbc_3g                 0\n",
       "jun_vbc_3g                 0\n",
       "sep_vbc_3g                 0\n",
       "night6_0.0                 0\n",
       "night6_1.0                 0\n",
       "night7_0.0                 0\n",
       "night7_1.0                 0\n",
       "night8_0.0                 0\n",
       "night8_1.0                 0\n",
       "fb6_0.0                    0\n",
       "fb6_1.0                    0\n",
       "fb7_0.0                    0\n",
       "fb7_1.0                    0\n",
       "fb8_0.0                    0\n",
       "fb8_1.0                    0\n",
       "Length: 232, dtype: int64"
      ]
     },
     "execution_count": 6,
     "metadata": {},
     "output_type": "execute_result"
    }
   ],
   "source": [
    "\n",
    "# summing up the missing values (column-wise)\n",
    "telecom.isnull().sum()"
   ]
  },
  {
   "cell_type": "markdown",
   "metadata": {},
   "source": [
    "#### Percentage of missing values (column-wise)"
   ]
  },
  {
   "cell_type": "code",
   "execution_count": 7,
   "metadata": {},
   "outputs": [
    {
     "data": {
      "text/plain": [
       "mobile_number          0.00\n",
       "circle_id              0.00\n",
       "loc_og_t2o_mou         1.02\n",
       "std_og_t2o_mou         1.02\n",
       "loc_ic_t2o_mou         1.02\n",
       "last_date_of_month_6   0.00\n",
       "last_date_of_month_7   0.60\n",
       "last_date_of_month_8   1.10\n",
       "last_date_of_month_9   1.66\n",
       "arpu_6                 0.00\n",
       "arpu_7                 0.00\n",
       "arpu_8                 0.00\n",
       "arpu_9                 0.00\n",
       "onnet_mou_6            3.94\n",
       "onnet_mou_7            3.86\n",
       "onnet_mou_8            5.38\n",
       "onnet_mou_9            7.75\n",
       "offnet_mou_6           3.94\n",
       "offnet_mou_7           3.86\n",
       "offnet_mou_8           5.38\n",
       "offnet_mou_9           7.75\n",
       "roam_ic_mou_6          3.94\n",
       "roam_ic_mou_7          3.86\n",
       "roam_ic_mou_8          5.38\n",
       "roam_ic_mou_9          7.75\n",
       "roam_og_mou_6          3.94\n",
       "roam_og_mou_7          3.86\n",
       "roam_og_mou_8          5.38\n",
       "roam_og_mou_9          7.75\n",
       "loc_og_t2t_mou_6       3.94\n",
       "                       ... \n",
       "sachet_2g_6            0.00\n",
       "sachet_2g_7            0.00\n",
       "sachet_2g_8            0.00\n",
       "sachet_2g_9            0.00\n",
       "monthly_3g_6           0.00\n",
       "monthly_3g_7           0.00\n",
       "monthly_3g_8           0.00\n",
       "monthly_3g_9           0.00\n",
       "sachet_3g_6            0.00\n",
       "sachet_3g_7            0.00\n",
       "sachet_3g_8            0.00\n",
       "sachet_3g_9            0.00\n",
       "fb_user_9              0.00\n",
       "aon                    0.00\n",
       "aug_vbc_3g             0.00\n",
       "jul_vbc_3g             0.00\n",
       "jun_vbc_3g             0.00\n",
       "sep_vbc_3g             0.00\n",
       "night6_0.0             0.00\n",
       "night6_1.0             0.00\n",
       "night7_0.0             0.00\n",
       "night7_1.0             0.00\n",
       "night8_0.0             0.00\n",
       "night8_1.0             0.00\n",
       "fb6_0.0                0.00\n",
       "fb6_1.0                0.00\n",
       "fb7_0.0                0.00\n",
       "fb7_1.0                0.00\n",
       "fb8_0.0                0.00\n",
       "fb8_1.0                0.00\n",
       "Length: 232, dtype: float64"
      ]
     },
     "execution_count": 7,
     "metadata": {},
     "output_type": "execute_result"
    }
   ],
   "source": [
    "\n",
    "round(100*(telecom.isnull().sum()/len(telecom.index)), 2)"
   ]
  },
  {
   "cell_type": "code",
   "execution_count": 8,
   "metadata": {},
   "outputs": [
    {
     "data": {
      "text/plain": [
       "date_of_last_rech_data_6   74.85\n",
       "date_of_last_rech_data_7   74.43\n",
       "date_of_last_rech_data_8   73.66\n",
       "date_of_last_rech_data_9   74.08\n",
       "total_rech_data_6          74.85\n",
       "total_rech_data_7          74.43\n",
       "total_rech_data_8          73.66\n",
       "total_rech_data_9          74.08\n",
       "max_rech_data_6            74.85\n",
       "max_rech_data_7            74.43\n",
       "max_rech_data_8            73.66\n",
       "max_rech_data_9            74.08\n",
       "count_rech_2g_6            74.85\n",
       "count_rech_2g_7            74.43\n",
       "count_rech_2g_8            73.66\n",
       "count_rech_2g_9            74.08\n",
       "count_rech_3g_6            74.85\n",
       "count_rech_3g_7            74.43\n",
       "count_rech_3g_8            73.66\n",
       "count_rech_3g_9            74.08\n",
       "av_rech_amt_data_6         74.85\n",
       "av_rech_amt_data_7         74.43\n",
       "av_rech_amt_data_8         73.66\n",
       "av_rech_amt_data_9         74.08\n",
       "arpu_3g_6                  74.85\n",
       "arpu_3g_7                  74.43\n",
       "arpu_3g_8                  73.66\n",
       "arpu_3g_9                  74.08\n",
       "arpu_2g_6                  74.85\n",
       "arpu_2g_7                  74.43\n",
       "arpu_2g_8                  73.66\n",
       "arpu_2g_9                  74.08\n",
       "dtype: float64"
      ]
     },
     "execution_count": 8,
     "metadata": {},
     "output_type": "execute_result"
    }
   ],
   "source": [
    "# Columns with more than 70% missing values\n",
    "colmns_missing_data = round(100*(telecom.isnull().sum()/len(telecom.index)), 2)\n",
    "colmns_missing_data[colmns_missing_data >= 70]"
   ]
  },
  {
   "cell_type": "markdown",
   "metadata": {},
   "source": [
    "#### Data Preparation"
   ]
  },
  {
   "cell_type": "code",
   "execution_count": 9,
   "metadata": {},
   "outputs": [
    {
     "name": "stdout",
     "output_type": "stream",
     "text": [
      "count   25153.00\n",
      "mean        2.46\n",
      "std         2.79\n",
      "min         1.00\n",
      "25%         1.00\n",
      "50%         1.00\n",
      "75%         3.00\n",
      "max        61.00\n",
      "Name: total_rech_data_6, dtype: float64\n",
      "-------------------------------------------------------------------------------- \n",
      "\n",
      "count   25571.00\n",
      "mean        2.67\n",
      "std         3.03\n",
      "min         1.00\n",
      "25%         1.00\n",
      "50%         1.00\n",
      "75%         3.00\n",
      "max        54.00\n",
      "Name: total_rech_data_7, dtype: float64\n",
      "-------------------------------------------------------------------------------- \n",
      "\n",
      "count   25153.00\n",
      "mean      192.60\n",
      "std       192.65\n",
      "min         1.00\n",
      "25%        82.00\n",
      "50%       154.00\n",
      "75%       252.00\n",
      "max      7546.00\n",
      "Name: av_rech_amt_data_6, dtype: float64\n",
      "-------------------------------------------------------------------------------- \n",
      "\n",
      "count   25571.00\n",
      "mean      200.98\n",
      "std       196.79\n",
      "min         0.50\n",
      "25%        92.00\n",
      "50%       154.00\n",
      "75%       252.00\n",
      "max      4365.00\n",
      "Name: av_rech_amt_data_7, dtype: float64\n",
      "-------------------------------------------------------------------------------- \n",
      "\n"
     ]
    }
   ],
   "source": [
    "\n",
    "\n",
    "print(telecom.total_rech_data_6.describe()); print_ln()\n",
    "print(telecom.total_rech_data_7.describe()); print_ln()\n",
    "print(telecom.av_rech_amt_data_6.describe()); print_ln()\n",
    "print(telecom.av_rech_amt_data_7.describe()); print_ln()"
   ]
  },
  {
   "cell_type": "code",
   "execution_count": 10,
   "metadata": {},
   "outputs": [
    {
     "data": {
      "text/plain": [
       "(array([1.4539e+04, 8.0550e+03, 1.8810e+03, 4.6500e+02, 3.0400e+02,\n",
       "        1.4100e+02, 4.4000e+01, 4.4000e+01, 3.8000e+01, 1.3000e+01,\n",
       "        1.3000e+01, 1.0000e+01, 7.0000e+00, 6.0000e+00, 4.0000e+00,\n",
       "        1.0000e+00, 0.0000e+00, 2.0000e+00, 2.0000e+00, 0.0000e+00,\n",
       "        0.0000e+00, 1.0000e+00, 0.0000e+00, 0.0000e+00, 1.0000e+00]),\n",
       " array([5.00000e-01, 1.75080e+02, 3.49660e+02, 5.24240e+02, 6.98820e+02,\n",
       "        8.73400e+02, 1.04798e+03, 1.22256e+03, 1.39714e+03, 1.57172e+03,\n",
       "        1.74630e+03, 1.92088e+03, 2.09546e+03, 2.27004e+03, 2.44462e+03,\n",
       "        2.61920e+03, 2.79378e+03, 2.96836e+03, 3.14294e+03, 3.31752e+03,\n",
       "        3.49210e+03, 3.66668e+03, 3.84126e+03, 4.01584e+03, 4.19042e+03,\n",
       "        4.36500e+03]),\n",
       " <a list of 25 Patch objects>)"
      ]
     },
     "execution_count": 10,
     "metadata": {},
     "output_type": "execute_result"
    },
    {
     "data": {
      "text/plain": [
       "<Figure size 432x288 with 0 Axes>"
      ]
     },
     "metadata": {},
     "output_type": "display_data"
    },
    {
     "data": {
      "image/png": "[encoded data removed]",
      "text/plain": [
       "<Figure size 720x720 with 4 Axes>"
      ]
     },
     "metadata": {
      "needs_background": "light"
     },
     "output_type": "display_data"
    }
   ],
   "source": [
    "# Let us look at the distribution to find out the value to fill\n",
    "# total_rech_data_6\n",
    "plt.figure(1)\n",
    "fig, ax = plt.subplots(figsize=(10,10))\n",
    "plt.subplot(2,2,1)\n",
    "plt.title(\"total_rech_data_6\")\n",
    "plt.hist(telecom.total_rech_data_6.dropna(),bins=25)\n",
    "\n",
    "# total_rech_data_7\n",
    "plt.subplot(2,2,2)\n",
    "plt.title(\"total_rech_data_7\")\n",
    "plt.hist(telecom.total_rech_data_7.dropna(),bins=25)\n",
    "\n",
    "# av_rech_amt_data_6\n",
    "plt.subplot(2,2,3)\n",
    "plt.title(\"av_rech_amt_data_6\")\n",
    "plt.hist(telecom.av_rech_amt_data_6.dropna(),bins=25)\n",
    "\n",
    "# total_rech_data_7\n",
    "plt.subplot(2,2,4)\n",
    "plt.title(\"av_rech_amt_data_7\")\n",
    "plt.hist(telecom.av_rech_amt_data_7.dropna(),bins=25)"
   ]
  },
  {
   "cell_type": "markdown",
   "metadata": {},
   "source": [
    "### Insights from the distribution graphs\n",
    "- Variables are numeric.\n",
    "- The minimum value is 1, and not zero,\n"
   ]
  },
  {
   "cell_type": "code",
   "execution_count": 11,
   "metadata": {},
   "outputs": [],
   "source": [
    "# missing -- indicating that no recharge was done in this month. \n",
    "# Thus, missing values can be imputed with 0.\n",
    "\n",
    "telecom.total_rech_data_6.fillna(value=0, inplace=True)\n",
    "telecom.total_rech_data_7.fillna(value=0, inplace=True)\n",
    "telecom.total_rech_data_8.fillna(value=0, inplace=True)\n",
    "telecom.total_rech_data_9.fillna(value=0, inplace=True)\n",
    "\n",
    "telecom.av_rech_amt_data_6.fillna(value=0, inplace=True)\n",
    "telecom.av_rech_amt_data_7.fillna(value=0, inplace=True)\n",
    "telecom.av_rech_amt_data_8.fillna(value=0, inplace=True)\n",
    "telecom.av_rech_amt_data_9.fillna(value=0, inplace=True)"
   ]
  },
  {
   "cell_type": "code",
   "execution_count": 12,
   "metadata": {},
   "outputs": [
    {
     "name": "stdout",
     "output_type": "stream",
     "text": [
      "mobile_number          0.00\n",
      "circle_id              0.00\n",
      "loc_og_t2o_mou         1.02\n",
      "std_og_t2o_mou         1.02\n",
      "loc_ic_t2o_mou         1.02\n",
      "last_date_of_month_6   0.00\n",
      "last_date_of_month_7   0.60\n",
      "last_date_of_month_8   1.10\n",
      "last_date_of_month_9   1.66\n",
      "arpu_6                 0.00\n",
      "arpu_7                 0.00\n",
      "arpu_8                 0.00\n",
      "arpu_9                 0.00\n",
      "onnet_mou_6            3.94\n",
      "onnet_mou_7            3.86\n",
      "onnet_mou_8            5.38\n",
      "onnet_mou_9            7.75\n",
      "offnet_mou_6           3.94\n",
      "offnet_mou_7           3.86\n",
      "offnet_mou_8           5.38\n",
      "offnet_mou_9           7.75\n",
      "roam_ic_mou_6          3.94\n",
      "roam_ic_mou_7          3.86\n",
      "roam_ic_mou_8          5.38\n",
      "roam_ic_mou_9          7.75\n",
      "roam_og_mou_6          3.94\n",
      "roam_og_mou_7          3.86\n",
      "roam_og_mou_8          5.38\n",
      "roam_og_mou_9          7.75\n",
      "loc_og_t2t_mou_6       3.94\n",
      "                       ... \n",
      "sachet_2g_6            0.00\n",
      "sachet_2g_7            0.00\n",
      "sachet_2g_8            0.00\n",
      "sachet_2g_9            0.00\n",
      "monthly_3g_6           0.00\n",
      "monthly_3g_7           0.00\n",
      "monthly_3g_8           0.00\n",
      "monthly_3g_9           0.00\n",
      "sachet_3g_6            0.00\n",
      "sachet_3g_7            0.00\n",
      "sachet_3g_8            0.00\n",
      "sachet_3g_9            0.00\n",
      "fb_user_9              0.00\n",
      "aon                    0.00\n",
      "aug_vbc_3g             0.00\n",
      "jul_vbc_3g             0.00\n",
      "jun_vbc_3g             0.00\n",
      "sep_vbc_3g             0.00\n",
      "night6_0.0             0.00\n",
      "night6_1.0             0.00\n",
      "night7_0.0             0.00\n",
      "night7_1.0             0.00\n",
      "night8_0.0             0.00\n",
      "night8_1.0             0.00\n",
      "fb6_0.0                0.00\n",
      "fb6_1.0                0.00\n",
      "fb7_0.0                0.00\n",
      "fb7_1.0                0.00\n",
      "fb8_0.0                0.00\n",
      "fb8_1.0                0.00\n",
      "Length: 232, dtype: float64\n",
      "-------------------------------------------------------------------------------- \n",
      "\n",
      "date_of_last_rech_data_6   74.85\n",
      "date_of_last_rech_data_7   74.43\n",
      "date_of_last_rech_data_8   73.66\n",
      "date_of_last_rech_data_9   74.08\n",
      "max_rech_data_6            74.85\n",
      "max_rech_data_7            74.43\n",
      "max_rech_data_8            73.66\n",
      "max_rech_data_9            74.08\n",
      "count_rech_2g_6            74.85\n",
      "count_rech_2g_7            74.43\n",
      "count_rech_2g_8            73.66\n",
      "count_rech_2g_9            74.08\n",
      "count_rech_3g_6            74.85\n",
      "count_rech_3g_7            74.43\n",
      "count_rech_3g_8            73.66\n",
      "count_rech_3g_9            74.08\n",
      "arpu_3g_6                  74.85\n",
      "arpu_3g_7                  74.43\n",
      "arpu_3g_8                  73.66\n",
      "arpu_3g_9                  74.08\n",
      "arpu_2g_6                  74.85\n",
      "arpu_2g_7                  74.43\n",
      "arpu_2g_8                  73.66\n",
      "arpu_2g_9                  74.08\n",
      "dtype: float64\n"
     ]
    }
   ],
   "source": [
    "#Column analysis % of missing values\n",
    "print(round(100*(telecom.isnull().sum()/len(telecom.index)), 2)); print_ln()\n",
    "\n",
    "# Columns with more than 70% missing values\n",
    "colmns_missing_data = round(100*(telecom.isnull().sum()/len(telecom.index)), 2)\n",
    "print(colmns_missing_data[colmns_missing_data >= 70])"
   ]
  },
  {
   "cell_type": "code",
   "execution_count": 13,
   "metadata": {},
   "outputs": [
    {
     "name": "stdout",
     "output_type": "stream",
     "text": [
      "Number of columns droped here  =  24\n",
      "Dataframe Shape:  (99999, 208)\n"
     ]
    }
   ],
   "source": [
    "drop_missing_values_columns = colmns_missing_data[colmns_missing_data > 70].index\n",
    "telecom.drop(drop_missing_values_columns, axis=1, inplace=True)\n",
    "\n",
    "print('Number of columns droped here  = ', len(drop_missing_values_columns))\n",
    "print('Dataframe Shape: ', telecom.shape)"
   ]
  },
  {
   "cell_type": "markdown",
   "metadata": {},
   "source": [
    "##### Filter High-Value Customers"
   ]
  },
  {
   "cell_type": "code",
   "execution_count": 14,
   "metadata": {},
   "outputs": [],
   "source": [
    "# New DERIVED Columns for Total Data Recharge Amount\n",
    "\n",
    "telecom[\"total_rech_data_amt_6\"] = telecom[\"total_rech_data_6\"]*telecom['av_rech_amt_data_6']\n",
    "telecom[\"total_rech_data_amt_7\"] = telecom[\"total_rech_data_7\"]*telecom['av_rech_amt_data_7']\n",
    "telecom[\"total_rech_data_amt_8\"] = telecom[\"total_rech_data_8\"]*telecom['av_rech_amt_data_8']\n",
    "telecom[\"total_rech_data_amt_9\"] = telecom[\"total_rech_data_9\"]*telecom['av_rech_amt_data_9']\n",
    "\n",
    "# We can drop total_rech_data_* and av_rech_amt_data_*\n",
    "drop_data_columns = [\"total_rech_data_6\", \"total_rech_data_7\", \"total_rech_data_8\", \"total_rech_data_9\", \n",
    "                'av_rech_amt_data_6', 'av_rech_amt_data_7', 'av_rech_amt_data_8', 'av_rech_amt_data_9']\n",
    "telecom.drop(drop_data_columns, axis=1, inplace=True)"
   ]
  },
  {
   "cell_type": "code",
   "execution_count": 15,
   "metadata": {},
   "outputs": [
    {
     "name": "stdout",
     "output_type": "stream",
     "text": [
      "70 percentile of first two months avg recharge amount:  478.0\n",
      "Dataframe Shape:  (30001, 204)\n"
     ]
    }
   ],
   "source": [
    "# Filter high-value customers\n",
    "avg_rech_amt_6_7 = (telecom[\"total_rech_amt_6\"] + telecom[\"total_rech_data_amt_6\"] + \n",
    "                      telecom[\"total_rech_amt_7\"] + telecom[\"total_rech_data_amt_7\"]) / 2.0\n",
    "amont_70_pc = np.percentile(avg_rech_amt_6_7, 70.0)\n",
    "print('70 percentile of first two months avg recharge amount: ', amont_70_pc)\n",
    "\n",
    "telecom = telecom[avg_rech_amt_6_7 >= amont_70_pc]\n",
    "print('Dataframe Shape: ', telecom.shape)"
   ]
  },
  {
   "cell_type": "code",
   "execution_count": 16,
   "metadata": {},
   "outputs": [
    {
     "name": "stdout",
     "output_type": "stream",
     "text": [
      "Number of columns droped here  =  48\n",
      "Dataframe Shape:  (30001, 157)\n",
      "-------------------------------------------------------------------------------- \n",
      "\n"
     ]
    }
   ],
   "source": [
    "# Identify Churn\n",
    "X = telecom[\"total_ic_mou_9\"] + telecom[\"total_og_mou_9\"] + telecom[\"vol_2g_mb_9\"] + telecom[\"vol_3g_mb_9\"]\n",
    "telecom[\"churn\"] = np.where(X, 0, 1)\n",
    "#telecom[\"churn\"].head(10)\n",
    "\n",
    "# Columns to be dropped: all columns ending with \"_9\"\n",
    "drop_fourth_month_columns = [hdr for hdr in list(telecom) if hdr.endswith(\"_9\")]\n",
    "drop_fourth_month_columns += [\"sep_vbc_3g\"]\n",
    "telecom.drop(drop_fourth_month_columns, axis=1, inplace=True)\n",
    "\n",
    "print('Number of columns droped here  = ', len(drop_fourth_month_columns))\n",
    "print('Dataframe Shape: ', telecom.shape); print_ln();"
   ]
  },
  {
   "cell_type": "code",
   "execution_count": 17,
   "metadata": {},
   "outputs": [
    {
     "name": "stdout",
     "output_type": "stream",
     "text": [
      "Dataframe Unique Value Count is ZERO (all null values): \n",
      " Series([], dtype: int64)\n",
      "-------------------------------------------------------------------------------- \n",
      "\n",
      "Dataframe Unique Value Count is ONE (all same values): \n",
      " last_date_of_month_7    1\n",
      "circle_id               1\n",
      "loc_og_t2o_mou          1\n",
      "std_og_t2o_mou          1\n",
      "loc_ic_t2o_mou          1\n",
      "last_date_of_month_6    1\n",
      "std_ic_t2o_mou_6        1\n",
      "last_date_of_month_8    1\n",
      "std_ic_t2o_mou_7        1\n",
      "std_og_t2c_mou_6        1\n",
      "std_og_t2c_mou_7        1\n",
      "std_og_t2c_mou_8        1\n",
      "std_ic_t2o_mou_8        1\n",
      "dtype: int64\n",
      "-------------------------------------------------------------------------------- \n",
      "\n",
      "Dataframe Shape:  (30001, 144)\n",
      "-------------------------------------------------------------------------------- \n",
      "\n",
      "Number of columns dropped here  =  13\n",
      "Dataframe Shape:  (30001, 144)\n",
      "-------------------------------------------------------------------------------- \n",
      "\n"
     ]
    }
   ],
   "source": [
    "#Identify columns that have no varience\n",
    "telecom_unique_count = telecom.nunique().sort_values(ascending=False)\n",
    "#print(\"Dataframe Unique Values: \\n\", telecom_unique_count); print_ln()\n",
    "\n",
    "# Identify bad colums that has no infromation (all entries are NA or same)\n",
    "# Find columns with all NULL entries and add to drop_columns list\n",
    "telecom_unique_count_is_zero = telecom_unique_count[telecom_unique_count == 0]\n",
    "print(\"Dataframe Unique Value Count is ZERO (all null values): \\n\", telecom_unique_count_is_zero); print_ln();\n",
    "drop_no_varience_columns = list(telecom_unique_count_is_zero.index)\n",
    "\n",
    "# Find columns with all same entries and add to drop_columns list\n",
    "telecom_unique_count_is_one = telecom_unique_count[telecom_unique_count == 1]\n",
    "print(\"Dataframe Unique Value Count is ONE (all same values): \\n\", telecom_unique_count_is_one); print_ln();\n",
    "drop_no_varience_columns += list(telecom_unique_count_is_one.index)\n",
    "\n",
    "telecom.drop(drop_no_varience_columns, axis=1, inplace=True)\n",
    "\n",
    "print('Dataframe Shape: ', telecom.shape); print_ln();\n",
    "print('Number of columns dropped here  = ', len(drop_no_varience_columns))\n",
    "print('Dataframe Shape: ', telecom.shape); print_ln();"
   ]
  },
  {
   "cell_type": "code",
   "execution_count": 18,
   "metadata": {},
   "outputs": [
    {
     "name": "stdout",
     "output_type": "stream",
     "text": [
      "Rows with all NULL values = 0\n"
     ]
    },
    {
     "data": {
      "text/plain": [
       "0        54\n",
       "77       27\n",
       "91        1\n",
       "111      27\n",
       "188      28\n",
       "191       1\n",
       "358      27\n",
       "364      27\n",
       "414      28\n",
       "423      27\n",
       "527      27\n",
       "539      54\n",
       "588       1\n",
       "603       2\n",
       "679       1\n",
       "687      82\n",
       "690      28\n",
       "723      28\n",
       "788      27\n",
       "845      28\n",
       "895      27\n",
       "933      27\n",
       "934      27\n",
       "1138     54\n",
       "1255     27\n",
       "1374      1\n",
       "1489     54\n",
       "1500     55\n",
       "1524     28\n",
       "1555     56\n",
       "         ..\n",
       "98790    55\n",
       "98823    28\n",
       "98838     1\n",
       "98872    28\n",
       "98943    81\n",
       "98962    27\n",
       "98971     1\n",
       "99000    27\n",
       "99034    27\n",
       "99070    27\n",
       "99135    81\n",
       "99142    81\n",
       "99195    27\n",
       "99224     2\n",
       "99246    27\n",
       "99296    27\n",
       "99313     1\n",
       "99323    27\n",
       "99338    81\n",
       "99391    27\n",
       "99398    28\n",
       "99436    28\n",
       "99515     1\n",
       "99611    27\n",
       "99625    27\n",
       "99672     1\n",
       "99700    27\n",
       "99790    55\n",
       "99827    27\n",
       "99851    56\n",
       "Length: 1838, dtype: int64"
      ]
     },
     "execution_count": 18,
     "metadata": {},
     "output_type": "execute_result"
    }
   ],
   "source": [
    "# sum it up to check how many rows have all missing values\n",
    "print(\"Rows with all NULL values =\",  telecom.isnull().all(axis=1).sum())\n",
    "\n",
    "# sum of misisng values in each row\n",
    "rows_missing_data = telecom.isnull().sum(axis=1)\n",
    "rows_missing_data[rows_missing_data > 0]"
   ]
  },
  {
   "cell_type": "code",
   "execution_count": 19,
   "metadata": {},
   "outputs": [
    {
     "name": "stdout",
     "output_type": "stream",
     "text": [
      "Number of rows with >= 27 missing values = 1497\n",
      "     % of rows with >= 27 missing values = 4.989833672210926 %\n",
      "Dataframe Shape after dropping rows:  (28504, 144)\n",
      "-------------------------------------------------------------------------------- \n",
      "\n"
     ]
    }
   ],
   "source": [
    "#small percentage of rows has more than or equal to 27 missing values\n",
    "drop_rows = telecom.isnull().sum(axis=1) >= 27\n",
    "print(\"Number of rows with >= 27 missing values = {}\".format(drop_rows.sum()))\n",
    "print(\"     % of rows with >= 27 missing values = {} %\".format(drop_rows.sum()/telecom.shape[0]*100))\n",
    "\n",
    "# drop rows with missing values greater >= 27\n",
    "telecom = telecom[telecom.isnull().sum(axis=1) < 27]\n",
    "print('Dataframe Shape after dropping rows: ', telecom.shape); print_ln();"
   ]
  },
  {
   "cell_type": "code",
   "execution_count": 20,
   "metadata": {},
   "outputs": [
    {
     "name": "stdout",
     "output_type": "stream",
     "text": [
      "91       1\n",
      "191      1\n",
      "588      1\n",
      "603      2\n",
      "679      1\n",
      "1374     1\n",
      "1913     1\n",
      "2777     1\n",
      "3757     1\n",
      "4284     1\n",
      "4814     1\n",
      "4934     1\n",
      "5187     1\n",
      "5449     1\n",
      "5798     1\n",
      "5926     1\n",
      "7304     1\n",
      "7399     1\n",
      "7567     1\n",
      "7662     1\n",
      "7914     1\n",
      "8118     1\n",
      "8159     1\n",
      "8281     1\n",
      "8454     1\n",
      "8680     1\n",
      "8979     1\n",
      "9012     1\n",
      "9027     1\n",
      "9068     1\n",
      "        ..\n",
      "93165    1\n",
      "93483    1\n",
      "93755    1\n",
      "93769    1\n",
      "94057    1\n",
      "94089    1\n",
      "94241    1\n",
      "94719    1\n",
      "94970    1\n",
      "95531    1\n",
      "95638    1\n",
      "95709    1\n",
      "96053    1\n",
      "96387    1\n",
      "96403    1\n",
      "96480    1\n",
      "96522    1\n",
      "96524    1\n",
      "96715    2\n",
      "97077    1\n",
      "97158    1\n",
      "97926    1\n",
      "98753    1\n",
      "98789    1\n",
      "98838    1\n",
      "98971    1\n",
      "99224    2\n",
      "99313    1\n",
      "99515    1\n",
      "99672    1\n",
      "Length: 341, dtype: int64\n"
     ]
    }
   ],
   "source": [
    "rows_missing_data = telecom.isnull().sum(axis=1)\n",
    "#print(rows_missing_data)\n",
    "print(rows_missing_data[rows_missing_data > 0])"
   ]
  },
  {
   "cell_type": "code",
   "execution_count": 21,
   "metadata": {},
   "outputs": [
    {
     "data": {
      "text/plain": [
       "date_of_last_rech_6   0.12\n",
       "date_of_last_rech_7   0.18\n",
       "date_of_last_rech_8   0.97\n",
       "dtype: float64"
      ]
     },
     "execution_count": 21,
     "metadata": {},
     "output_type": "execute_result"
    }
   ],
   "source": [
    "# Missing Values Treatment: continue\n",
    "# look at the COLUMN summary again\n",
    "df = round(100*(telecom.isnull().sum()/len(telecom.index)), 2)\n",
    "df[df > 0]"
   ]
  },
  {
   "cell_type": "code",
   "execution_count": 22,
   "metadata": {},
   "outputs": [
    {
     "data": {
      "text/html": [
       "<div>\n",
       "<style scoped>\n",
       "    .dataframe tbody tr th:only-of-type {\n",
       "        vertical-align: middle;\n",
       "    }\n",
       "\n",
       "    .dataframe tbody tr th {\n",
       "        vertical-align: top;\n",
       "    }\n",
       "\n",
       "    .dataframe thead th {\n",
       "        text-align: right;\n",
       "    }\n",
       "</style>\n",
       "<table border=\"1\" class=\"dataframe\">\n",
       "  <thead>\n",
       "    <tr style=\"text-align: right;\">\n",
       "      <th></th>\n",
       "      <th>date_of_last_rech_6</th>\n",
       "      <th>date_of_last_rech_7</th>\n",
       "      <th>date_of_last_rech_8</th>\n",
       "    </tr>\n",
       "  </thead>\n",
       "  <tbody>\n",
       "    <tr>\n",
       "      <th>7</th>\n",
       "      <td>6/27/2014</td>\n",
       "      <td>7/25/2014</td>\n",
       "      <td>8/26/2014</td>\n",
       "    </tr>\n",
       "    <tr>\n",
       "      <th>8</th>\n",
       "      <td>6/25/2014</td>\n",
       "      <td>7/31/2014</td>\n",
       "      <td>8/30/2014</td>\n",
       "    </tr>\n",
       "    <tr>\n",
       "      <th>21</th>\n",
       "      <td>6/30/2014</td>\n",
       "      <td>7/31/2014</td>\n",
       "      <td>8/31/2014</td>\n",
       "    </tr>\n",
       "    <tr>\n",
       "      <th>23</th>\n",
       "      <td>6/18/2014</td>\n",
       "      <td>7/7/2014</td>\n",
       "      <td>8/24/2014</td>\n",
       "    </tr>\n",
       "    <tr>\n",
       "      <th>33</th>\n",
       "      <td>6/30/2014</td>\n",
       "      <td>7/30/2014</td>\n",
       "      <td>8/26/2014</td>\n",
       "    </tr>\n",
       "  </tbody>\n",
       "</table>\n",
       "</div>"
      ],
      "text/plain": [
       "   date_of_last_rech_6 date_of_last_rech_7 date_of_last_rech_8\n",
       "7            6/27/2014           7/25/2014           8/26/2014\n",
       "8            6/25/2014           7/31/2014           8/30/2014\n",
       "21           6/30/2014           7/31/2014           8/31/2014\n",
       "23           6/18/2014            7/7/2014           8/24/2014\n",
       "33           6/30/2014           7/30/2014           8/26/2014"
      ]
     },
     "execution_count": 22,
     "metadata": {},
     "output_type": "execute_result"
    }
   ],
   "source": [
    "# covert date columns to python datetime format\n",
    "date_vars = [\"date_of_last_rech_6\",  \"date_of_last_rech_7\", \"date_of_last_rech_8\"]\n",
    "telecom[date_vars].head()"
   ]
  },
  {
   "cell_type": "code",
   "execution_count": 23,
   "metadata": {},
   "outputs": [
    {
     "name": "stdout",
     "output_type": "stream",
     "text": [
      "<class 'pandas.core.frame.DataFrame'>\n",
      "Int64Index: 28504 entries, 7 to 99997\n",
      "Data columns (total 3 columns):\n",
      "date_of_last_rech_6    28471 non-null datetime64[ns]\n",
      "date_of_last_rech_7    28452 non-null datetime64[ns]\n",
      "date_of_last_rech_8    28228 non-null datetime64[ns]\n",
      "dtypes: datetime64[ns](3)\n",
      "memory usage: 890.8 KB\n",
      "None\n"
     ]
    },
    {
     "data": {
      "text/html": [
       "<div>\n",
       "<style scoped>\n",
       "    .dataframe tbody tr th:only-of-type {\n",
       "        vertical-align: middle;\n",
       "    }\n",
       "\n",
       "    .dataframe tbody tr th {\n",
       "        vertical-align: top;\n",
       "    }\n",
       "\n",
       "    .dataframe thead th {\n",
       "        text-align: right;\n",
       "    }\n",
       "</style>\n",
       "<table border=\"1\" class=\"dataframe\">\n",
       "  <thead>\n",
       "    <tr style=\"text-align: right;\">\n",
       "      <th></th>\n",
       "      <th>date_of_last_rech_6</th>\n",
       "      <th>date_of_last_rech_7</th>\n",
       "      <th>date_of_last_rech_8</th>\n",
       "    </tr>\n",
       "  </thead>\n",
       "  <tbody>\n",
       "    <tr>\n",
       "      <th>7</th>\n",
       "      <td>2014-06-27</td>\n",
       "      <td>2014-07-25</td>\n",
       "      <td>2014-08-26</td>\n",
       "    </tr>\n",
       "    <tr>\n",
       "      <th>8</th>\n",
       "      <td>2014-06-25</td>\n",
       "      <td>2014-07-31</td>\n",
       "      <td>2014-08-30</td>\n",
       "    </tr>\n",
       "    <tr>\n",
       "      <th>21</th>\n",
       "      <td>2014-06-30</td>\n",
       "      <td>2014-07-31</td>\n",
       "      <td>2014-08-31</td>\n",
       "    </tr>\n",
       "    <tr>\n",
       "      <th>23</th>\n",
       "      <td>2014-06-18</td>\n",
       "      <td>2014-07-07</td>\n",
       "      <td>2014-08-24</td>\n",
       "    </tr>\n",
       "    <tr>\n",
       "      <th>33</th>\n",
       "      <td>2014-06-30</td>\n",
       "      <td>2014-07-30</td>\n",
       "      <td>2014-08-26</td>\n",
       "    </tr>\n",
       "  </tbody>\n",
       "</table>\n",
       "</div>"
      ],
      "text/plain": [
       "   date_of_last_rech_6 date_of_last_rech_7 date_of_last_rech_8\n",
       "7           2014-06-27          2014-07-25          2014-08-26\n",
       "8           2014-06-25          2014-07-31          2014-08-30\n",
       "21          2014-06-30          2014-07-31          2014-08-31\n",
       "23          2014-06-18          2014-07-07          2014-08-24\n",
       "33          2014-06-30          2014-07-30          2014-08-26"
      ]
     },
     "execution_count": 23,
     "metadata": {},
     "output_type": "execute_result"
    }
   ],
   "source": [
    "# convert to datetime\n",
    "for col in date_vars:\n",
    "    telecom[col] = pd.to_datetime(telecom[col])\n",
    "\n",
    "print(telecom[date_vars].info())\n",
    "telecom[date_vars].head()"
   ]
  },
  {
   "cell_type": "code",
   "execution_count": 24,
   "metadata": {},
   "outputs": [
    {
     "name": "stdout",
     "output_type": "stream",
     "text": [
      "<class 'pandas.core.frame.DataFrame'>\n",
      "Int64Index: 28504 entries, 7 to 99997\n",
      "Data columns (total 3 columns):\n",
      "rech_days_left_6    28471 non-null float64\n",
      "rech_days_left_7    28452 non-null float64\n",
      "rech_days_left_8    28228 non-null float64\n",
      "dtypes: float64(3)\n",
      "memory usage: 890.8 KB\n",
      "None\n"
     ]
    }
   ],
   "source": [
    "# Create new days columns, instead of date\n",
    "import datetime\n",
    "last_date_of_month_6 = datetime.datetime.strptime(\"30-06-2014\", \"%d-%m-%Y\")\n",
    "last_date_of_month_7 = datetime.datetime.strptime(\"31-07-2014\", \"%d-%m-%Y\")\n",
    "last_date_of_month_8 = datetime.datetime.strptime(\"31-08-2014\", \"%d-%m-%Y\")\n",
    "\n",
    "telecom[\"rech_days_left_6\"]      = (last_date_of_month_6 - telecom.date_of_last_rech_6).astype('timedelta64[D]')\n",
    "telecom[\"rech_days_left_7\"]      = (last_date_of_month_7 - telecom.date_of_last_rech_7).astype('timedelta64[D]')\n",
    "telecom[\"rech_days_left_8\"]      = (last_date_of_month_8 - telecom.date_of_last_rech_8).astype('timedelta64[D]')\n",
    "\n",
    "day_columns = [\"rech_days_left_6\", \"rech_days_left_7\", \"rech_days_left_8\"]\n",
    "#print(telecom[day_columns].head(10))\n",
    "print(telecom[day_columns].info())"
   ]
  },
  {
   "cell_type": "code",
   "execution_count": 25,
   "metadata": {},
   "outputs": [
    {
     "name": "stdout",
     "output_type": "stream",
     "text": [
      "Number of columns droped here  =  3\n",
      "Dataframe Shape:  (28504, 144)\n"
     ]
    }
   ],
   "source": [
    "# Drop all old date columns: add dates columns to drop_column list\n",
    "telecom.drop(date_vars, axis=1, inplace=True)\n",
    "telecom1 = telecom.copy()\n",
    "\n",
    "print('Number of columns droped here  = ', len(date_vars))\n",
    "print('Dataframe Shape: ', telecom.shape)"
   ]
  },
  {
   "cell_type": "code",
   "execution_count": 26,
   "metadata": {},
   "outputs": [
    {
     "data": {
      "text/plain": [
       "rech_days_left_6   0.12\n",
       "rech_days_left_7   0.18\n",
       "rech_days_left_8   0.97\n",
       "dtype: float64"
      ]
     },
     "execution_count": 26,
     "metadata": {},
     "output_type": "execute_result"
    }
   ],
   "source": [
    "# Missing Values Treatment: continue\n",
    "# look at the COLUMN summary again\n",
    "df = round(100*(telecom.isnull().sum()/len(telecom.index)), 2)\n",
    "df[df > 0]"
   ]
  },
  {
   "cell_type": "code",
   "execution_count": 27,
   "metadata": {},
   "outputs": [
    {
     "data": {
      "text/html": [
       "<div>\n",
       "<style scoped>\n",
       "    .dataframe tbody tr th:only-of-type {\n",
       "        vertical-align: middle;\n",
       "    }\n",
       "\n",
       "    .dataframe tbody tr th {\n",
       "        vertical-align: top;\n",
       "    }\n",
       "\n",
       "    .dataframe thead th {\n",
       "        text-align: right;\n",
       "    }\n",
       "</style>\n",
       "<table border=\"1\" class=\"dataframe\">\n",
       "  <thead>\n",
       "    <tr style=\"text-align: right;\">\n",
       "      <th></th>\n",
       "      <th>rech_days_left_6</th>\n",
       "      <th>rech_days_left_7</th>\n",
       "      <th>rech_days_left_8</th>\n",
       "    </tr>\n",
       "  </thead>\n",
       "  <tbody>\n",
       "    <tr>\n",
       "      <th>count</th>\n",
       "      <td>28471.00</td>\n",
       "      <td>28452.00</td>\n",
       "      <td>28228.00</td>\n",
       "    </tr>\n",
       "    <tr>\n",
       "      <th>mean</th>\n",
       "      <td>3.39</td>\n",
       "      <td>3.49</td>\n",
       "      <td>4.15</td>\n",
       "    </tr>\n",
       "    <tr>\n",
       "      <th>std</th>\n",
       "      <td>4.49</td>\n",
       "      <td>4.29</td>\n",
       "      <td>5.10</td>\n",
       "    </tr>\n",
       "    <tr>\n",
       "      <th>min</th>\n",
       "      <td>0.00</td>\n",
       "      <td>0.00</td>\n",
       "      <td>0.00</td>\n",
       "    </tr>\n",
       "    <tr>\n",
       "      <th>25%</th>\n",
       "      <td>0.00</td>\n",
       "      <td>0.00</td>\n",
       "      <td>1.00</td>\n",
       "    </tr>\n",
       "    <tr>\n",
       "      <th>50%</th>\n",
       "      <td>2.00</td>\n",
       "      <td>2.00</td>\n",
       "      <td>3.00</td>\n",
       "    </tr>\n",
       "    <tr>\n",
       "      <th>75%</th>\n",
       "      <td>4.00</td>\n",
       "      <td>5.00</td>\n",
       "      <td>6.00</td>\n",
       "    </tr>\n",
       "    <tr>\n",
       "      <th>max</th>\n",
       "      <td>29.00</td>\n",
       "      <td>30.00</td>\n",
       "      <td>30.00</td>\n",
       "    </tr>\n",
       "  </tbody>\n",
       "</table>\n",
       "</div>"
      ],
      "text/plain": [
       "       rech_days_left_6  rech_days_left_7  rech_days_left_8\n",
       "count          28471.00          28452.00          28228.00\n",
       "mean               3.39              3.49              4.15\n",
       "std                4.49              4.29              5.10\n",
       "min                0.00              0.00              0.00\n",
       "25%                0.00              0.00              1.00\n",
       "50%                2.00              2.00              3.00\n",
       "75%                4.00              5.00              6.00\n",
       "max               29.00             30.00             30.00"
      ]
     },
     "execution_count": 27,
     "metadata": {},
     "output_type": "execute_result"
    }
   ],
   "source": [
    "telecom[['rech_days_left_6', 'rech_days_left_7', 'rech_days_left_8']].describe()"
   ]
  },
  {
   "cell_type": "code",
   "execution_count": 28,
   "metadata": {},
   "outputs": [
    {
     "name": "stdout",
     "output_type": "stream",
     "text": [
      "\n",
      "Total Number of missing values in the data frame = 0\n",
      "Dataframe Shape:  (28504, 144)\n",
      "-------------------------------------------------------------------------------- \n",
      "\n"
     ]
    }
   ],
   "source": [
    "# Mean & Median are different: imputing with median value for recharge days left \n",
    "telecom.loc[np.isnan(telecom['rech_days_left_6']), ['rech_days_left_6']] = telecom['rech_days_left_6'].median()\n",
    "telecom.loc[np.isnan(telecom['rech_days_left_7']), ['rech_days_left_7']] = telecom['rech_days_left_7'].median()\n",
    "telecom.loc[np.isnan(telecom['rech_days_left_8']), ['rech_days_left_8']] = telecom['rech_days_left_8'].median()\n",
    "\n",
    "#round(100*(telecom.isnull().sum()/len(telecom.index)), 2)\n",
    "print(\"\\nTotal Number of missing values in the data frame = {}\".format(telecom.isnull().sum().sum()))\n",
    "print('Dataframe Shape: ', telecom.shape); print_ln();"
   ]
  },
  {
   "cell_type": "code",
   "execution_count": 29,
   "metadata": {},
   "outputs": [
    {
     "data": {
      "text/html": [
       "<div>\n",
       "<style scoped>\n",
       "    .dataframe tbody tr th:only-of-type {\n",
       "        vertical-align: middle;\n",
       "    }\n",
       "\n",
       "    .dataframe tbody tr th {\n",
       "        vertical-align: top;\n",
       "    }\n",
       "\n",
       "    .dataframe thead th {\n",
       "        text-align: right;\n",
       "    }\n",
       "</style>\n",
       "<table border=\"1\" class=\"dataframe\">\n",
       "  <thead>\n",
       "    <tr style=\"text-align: right;\">\n",
       "      <th></th>\n",
       "      <th>mobile_number</th>\n",
       "      <th>arpu_6</th>\n",
       "      <th>arpu_7</th>\n",
       "      <th>arpu_8</th>\n",
       "      <th>onnet_mou_6</th>\n",
       "      <th>onnet_mou_7</th>\n",
       "      <th>onnet_mou_8</th>\n",
       "      <th>offnet_mou_6</th>\n",
       "      <th>offnet_mou_7</th>\n",
       "      <th>offnet_mou_8</th>\n",
       "      <th>...</th>\n",
       "      <th>fb7_1.0</th>\n",
       "      <th>fb8_0.0</th>\n",
       "      <th>fb8_1.0</th>\n",
       "      <th>total_rech_data_amt_6</th>\n",
       "      <th>total_rech_data_amt_7</th>\n",
       "      <th>total_rech_data_amt_8</th>\n",
       "      <th>churn</th>\n",
       "      <th>rech_days_left_6</th>\n",
       "      <th>rech_days_left_7</th>\n",
       "      <th>rech_days_left_8</th>\n",
       "    </tr>\n",
       "  </thead>\n",
       "  <tbody>\n",
       "    <tr>\n",
       "      <th>count</th>\n",
       "      <td>28504.00</td>\n",
       "      <td>28504.00</td>\n",
       "      <td>28504.00</td>\n",
       "      <td>28504.00</td>\n",
       "      <td>28504.00</td>\n",
       "      <td>28504.00</td>\n",
       "      <td>28504.00</td>\n",
       "      <td>28504.00</td>\n",
       "      <td>28504.00</td>\n",
       "      <td>28504.00</td>\n",
       "      <td>...</td>\n",
       "      <td>28504.00</td>\n",
       "      <td>28504.00</td>\n",
       "      <td>28504.00</td>\n",
       "      <td>28504.00</td>\n",
       "      <td>28504.00</td>\n",
       "      <td>28504.00</td>\n",
       "      <td>28504.00</td>\n",
       "      <td>28504.00</td>\n",
       "      <td>28504.00</td>\n",
       "      <td>28504.00</td>\n",
       "    </tr>\n",
       "    <tr>\n",
       "      <th>mean</th>\n",
       "      <td>7001213864.75</td>\n",
       "      <td>560.38</td>\n",
       "      <td>570.63</td>\n",
       "      <td>526.06</td>\n",
       "      <td>265.25</td>\n",
       "      <td>275.93</td>\n",
       "      <td>244.73</td>\n",
       "      <td>379.89</td>\n",
       "      <td>389.85</td>\n",
       "      <td>350.23</td>\n",
       "      <td>...</td>\n",
       "      <td>0.52</td>\n",
       "      <td>0.06</td>\n",
       "      <td>0.48</td>\n",
       "      <td>444.79</td>\n",
       "      <td>527.56</td>\n",
       "      <td>469.51</td>\n",
       "      <td>0.06</td>\n",
       "      <td>3.39</td>\n",
       "      <td>3.48</td>\n",
       "      <td>4.14</td>\n",
       "    </tr>\n",
       "    <tr>\n",
       "      <th>std</th>\n",
       "      <td>687776.04</td>\n",
       "      <td>448.96</td>\n",
       "      <td>480.08</td>\n",
       "      <td>500.75</td>\n",
       "      <td>458.72</td>\n",
       "      <td>482.67</td>\n",
       "      <td>464.02</td>\n",
       "      <td>479.25</td>\n",
       "      <td>502.60</td>\n",
       "      <td>485.65</td>\n",
       "      <td>...</td>\n",
       "      <td>0.50</td>\n",
       "      <td>0.23</td>\n",
       "      <td>0.50</td>\n",
       "      <td>1417.12</td>\n",
       "      <td>1481.60</td>\n",
       "      <td>1644.91</td>\n",
       "      <td>0.23</td>\n",
       "      <td>4.49</td>\n",
       "      <td>4.29</td>\n",
       "      <td>5.08</td>\n",
       "    </tr>\n",
       "    <tr>\n",
       "      <th>min</th>\n",
       "      <td>7000000074.00</td>\n",
       "      <td>-2258.71</td>\n",
       "      <td>-2014.05</td>\n",
       "      <td>-945.81</td>\n",
       "      <td>0.00</td>\n",
       "      <td>0.00</td>\n",
       "      <td>0.00</td>\n",
       "      <td>0.00</td>\n",
       "      <td>0.00</td>\n",
       "      <td>0.00</td>\n",
       "      <td>...</td>\n",
       "      <td>0.00</td>\n",
       "      <td>0.00</td>\n",
       "      <td>0.00</td>\n",
       "      <td>0.00</td>\n",
       "      <td>0.00</td>\n",
       "      <td>0.00</td>\n",
       "      <td>0.00</td>\n",
       "      <td>0.00</td>\n",
       "      <td>0.00</td>\n",
       "      <td>0.00</td>\n",
       "    </tr>\n",
       "    <tr>\n",
       "      <th>25%</th>\n",
       "      <td>7000622950.00</td>\n",
       "      <td>317.36</td>\n",
       "      <td>322.60</td>\n",
       "      <td>254.76</td>\n",
       "      <td>20.14</td>\n",
       "      <td>19.53</td>\n",
       "      <td>14.84</td>\n",
       "      <td>80.73</td>\n",
       "      <td>80.35</td>\n",
       "      <td>60.49</td>\n",
       "      <td>...</td>\n",
       "      <td>0.00</td>\n",
       "      <td>0.00</td>\n",
       "      <td>0.00</td>\n",
       "      <td>0.00</td>\n",
       "      <td>0.00</td>\n",
       "      <td>0.00</td>\n",
       "      <td>0.00</td>\n",
       "      <td>0.00</td>\n",
       "      <td>0.00</td>\n",
       "      <td>1.00</td>\n",
       "    </tr>\n",
       "    <tr>\n",
       "      <th>50%</th>\n",
       "      <td>7001217677.00</td>\n",
       "      <td>485.17</td>\n",
       "      <td>488.90</td>\n",
       "      <td>442.79</td>\n",
       "      <td>89.98</td>\n",
       "      <td>89.91</td>\n",
       "      <td>74.09</td>\n",
       "      <td>231.55</td>\n",
       "      <td>231.82</td>\n",
       "      <td>199.88</td>\n",
       "      <td>...</td>\n",
       "      <td>1.00</td>\n",
       "      <td>0.00</td>\n",
       "      <td>0.00</td>\n",
       "      <td>92.00</td>\n",
       "      <td>100.00</td>\n",
       "      <td>25.00</td>\n",
       "      <td>0.00</td>\n",
       "      <td>2.00</td>\n",
       "      <td>2.00</td>\n",
       "      <td>3.00</td>\n",
       "    </tr>\n",
       "    <tr>\n",
       "      <th>75%</th>\n",
       "      <td>7001806580.25</td>\n",
       "      <td>698.91</td>\n",
       "      <td>705.00</td>\n",
       "      <td>672.45</td>\n",
       "      <td>298.76</td>\n",
       "      <td>304.89</td>\n",
       "      <td>257.41</td>\n",
       "      <td>494.37</td>\n",
       "      <td>506.47</td>\n",
       "      <td>457.43</td>\n",
       "      <td>...</td>\n",
       "      <td>1.00</td>\n",
       "      <td>0.00</td>\n",
       "      <td>1.00</td>\n",
       "      <td>392.00</td>\n",
       "      <td>575.00</td>\n",
       "      <td>342.00</td>\n",
       "      <td>0.00</td>\n",
       "      <td>4.00</td>\n",
       "      <td>5.00</td>\n",
       "      <td>6.00</td>\n",
       "    </tr>\n",
       "    <tr>\n",
       "      <th>90%</th>\n",
       "      <td>7002165664.10</td>\n",
       "      <td>987.58</td>\n",
       "      <td>1001.34</td>\n",
       "      <td>991.09</td>\n",
       "      <td>760.84</td>\n",
       "      <td>801.71</td>\n",
       "      <td>688.28</td>\n",
       "      <td>898.93</td>\n",
       "      <td>931.20</td>\n",
       "      <td>844.92</td>\n",
       "      <td>...</td>\n",
       "      <td>1.00</td>\n",
       "      <td>0.00</td>\n",
       "      <td>1.00</td>\n",
       "      <td>1051.40</td>\n",
       "      <td>1374.00</td>\n",
       "      <td>1118.80</td>\n",
       "      <td>0.00</td>\n",
       "      <td>10.00</td>\n",
       "      <td>9.00</td>\n",
       "      <td>10.00</td>\n",
       "    </tr>\n",
       "    <tr>\n",
       "      <th>95%</th>\n",
       "      <td>7002285365.20</td>\n",
       "      <td>1232.63</td>\n",
       "      <td>1268.47</td>\n",
       "      <td>1267.39</td>\n",
       "      <td>1135.71</td>\n",
       "      <td>1206.17</td>\n",
       "      <td>1101.55</td>\n",
       "      <td>1256.09</td>\n",
       "      <td>1292.28</td>\n",
       "      <td>1187.34</td>\n",
       "      <td>...</td>\n",
       "      <td>1.00</td>\n",
       "      <td>1.00</td>\n",
       "      <td>1.00</td>\n",
       "      <td>2025.00</td>\n",
       "      <td>2424.00</td>\n",
       "      <td>2268.00</td>\n",
       "      <td>1.00</td>\n",
       "      <td>14.00</td>\n",
       "      <td>13.00</td>\n",
       "      <td>15.00</td>\n",
       "    </tr>\n",
       "    <tr>\n",
       "      <th>99%</th>\n",
       "      <td>7002385436.73</td>\n",
       "      <td>1955.15</td>\n",
       "      <td>1999.46</td>\n",
       "      <td>1989.92</td>\n",
       "      <td>2146.08</td>\n",
       "      <td>2220.47</td>\n",
       "      <td>2175.25</td>\n",
       "      <td>2301.03</td>\n",
       "      <td>2434.54</td>\n",
       "      <td>2219.38</td>\n",
       "      <td>...</td>\n",
       "      <td>1.00</td>\n",
       "      <td>1.00</td>\n",
       "      <td>1.00</td>\n",
       "      <td>5129.73</td>\n",
       "      <td>6219.16</td>\n",
       "      <td>5749.82</td>\n",
       "      <td>1.00</td>\n",
       "      <td>19.00</td>\n",
       "      <td>18.00</td>\n",
       "      <td>25.00</td>\n",
       "    </tr>\n",
       "    <tr>\n",
       "      <th>max</th>\n",
       "      <td>7002410905.00</td>\n",
       "      <td>27731.09</td>\n",
       "      <td>35145.83</td>\n",
       "      <td>33543.62</td>\n",
       "      <td>7376.71</td>\n",
       "      <td>8157.78</td>\n",
       "      <td>10752.56</td>\n",
       "      <td>8362.36</td>\n",
       "      <td>9667.13</td>\n",
       "      <td>14007.34</td>\n",
       "      <td>...</td>\n",
       "      <td>1.00</td>\n",
       "      <td>1.00</td>\n",
       "      <td>1.00</td>\n",
       "      <td>105644.00</td>\n",
       "      <td>55080.00</td>\n",
       "      <td>89106.50</td>\n",
       "      <td>1.00</td>\n",
       "      <td>29.00</td>\n",
       "      <td>30.00</td>\n",
       "      <td>30.00</td>\n",
       "    </tr>\n",
       "  </tbody>\n",
       "</table>\n",
       "<p>11 rows × 144 columns</p>\n",
       "</div>"
      ],
      "text/plain": [
       "       mobile_number   arpu_6   arpu_7   arpu_8  onnet_mou_6  onnet_mou_7  \\\n",
       "count       28504.00 28504.00 28504.00 28504.00     28504.00     28504.00   \n",
       "mean   7001213864.75   560.38   570.63   526.06       265.25       275.93   \n",
       "std        687776.04   448.96   480.08   500.75       458.72       482.67   \n",
       "min    7000000074.00 -2258.71 -2014.05  -945.81         0.00         0.00   \n",
       "25%    7000622950.00   317.36   322.60   254.76        20.14        19.53   \n",
       "50%    7001217677.00   485.17   488.90   442.79        89.98        89.91   \n",
       "75%    7001806580.25   698.91   705.00   672.45       298.76       304.89   \n",
       "90%    7002165664.10   987.58  1001.34   991.09       760.84       801.71   \n",
       "95%    7002285365.20  1232.63  1268.47  1267.39      1135.71      1206.17   \n",
       "99%    7002385436.73  1955.15  1999.46  1989.92      2146.08      2220.47   \n",
       "max    7002410905.00 27731.09 35145.83 33543.62      7376.71      8157.78   \n",
       "\n",
       "       onnet_mou_8  offnet_mou_6  offnet_mou_7  offnet_mou_8  ...  fb7_1.0  \\\n",
       "count     28504.00      28504.00      28504.00      28504.00  ... 28504.00   \n",
       "mean        244.73        379.89        389.85        350.23  ...     0.52   \n",
       "std         464.02        479.25        502.60        485.65  ...     0.50   \n",
       "min           0.00          0.00          0.00          0.00  ...     0.00   \n",
       "25%          14.84         80.73         80.35         60.49  ...     0.00   \n",
       "50%          74.09        231.55        231.82        199.88  ...     1.00   \n",
       "75%         257.41        494.37        506.47        457.43  ...     1.00   \n",
       "90%         688.28        898.93        931.20        844.92  ...     1.00   \n",
       "95%        1101.55       1256.09       1292.28       1187.34  ...     1.00   \n",
       "99%        2175.25       2301.03       2434.54       2219.38  ...     1.00   \n",
       "max       10752.56       8362.36       9667.13      14007.34  ...     1.00   \n",
       "\n",
       "       fb8_0.0  fb8_1.0  total_rech_data_amt_6  total_rech_data_amt_7  \\\n",
       "count 28504.00 28504.00               28504.00               28504.00   \n",
       "mean      0.06     0.48                 444.79                 527.56   \n",
       "std       0.23     0.50                1417.12                1481.60   \n",
       "min       0.00     0.00                   0.00                   0.00   \n",
       "25%       0.00     0.00                   0.00                   0.00   \n",
       "50%       0.00     0.00                  92.00                 100.00   \n",
       "75%       0.00     1.00                 392.00                 575.00   \n",
       "90%       0.00     1.00                1051.40                1374.00   \n",
       "95%       1.00     1.00                2025.00                2424.00   \n",
       "99%       1.00     1.00                5129.73                6219.16   \n",
       "max       1.00     1.00              105644.00               55080.00   \n",
       "\n",
       "       total_rech_data_amt_8    churn  rech_days_left_6  rech_days_left_7  \\\n",
       "count               28504.00 28504.00          28504.00          28504.00   \n",
       "mean                  469.51     0.06              3.39              3.48   \n",
       "std                  1644.91     0.23              4.49              4.29   \n",
       "min                     0.00     0.00              0.00              0.00   \n",
       "25%                     0.00     0.00              0.00              0.00   \n",
       "50%                    25.00     0.00              2.00              2.00   \n",
       "75%                   342.00     0.00              4.00              5.00   \n",
       "90%                  1118.80     0.00             10.00              9.00   \n",
       "95%                  2268.00     1.00             14.00             13.00   \n",
       "99%                  5749.82     1.00             19.00             18.00   \n",
       "max                 89106.50     1.00             29.00             30.00   \n",
       "\n",
       "       rech_days_left_8  \n",
       "count          28504.00  \n",
       "mean               4.14  \n",
       "std                5.08  \n",
       "min                0.00  \n",
       "25%                1.00  \n",
       "50%                3.00  \n",
       "75%                6.00  \n",
       "90%               10.00  \n",
       "95%               15.00  \n",
       "99%               25.00  \n",
       "max               30.00  \n",
       "\n",
       "[11 rows x 144 columns]"
      ]
     },
     "execution_count": 29,
     "metadata": {},
     "output_type": "execute_result"
    }
   ],
   "source": [
    "# Checking outliers at 25%,50%,75%,90%,95% and 99%\n",
    "telecom.describe(percentiles=[.25,.5,.75,.90,.95,.99])"
   ]
  },
  {
   "cell_type": "code",
   "execution_count": 30,
   "metadata": {},
   "outputs": [
    {
     "name": "stdout",
     "output_type": "stream",
     "text": [
      "Original Dataframe Shape:  (99999, 226)\n",
      "-------------------------------------------------------------------------------- \n",
      "\n",
      "Original Dataframe Info: \n",
      "\n",
      "<class 'pandas.core.frame.DataFrame'>\n",
      "RangeIndex: 99999 entries, 0 to 99998\n",
      "Columns: 226 entries, mobile_number to sep_vbc_3g\n",
      "dtypes: float64(179), int64(35), object(12)\n",
      "memory usage: 172.4+ MB\n",
      "-------------------------------------------------------------------------------- \n",
      "\n",
      "Original Dataframe Nulls: 3594931\n",
      "-------------------------------------------------------------------------------- \n",
      "\n",
      "Cleaned Dataframe Shape:  (28504, 144)\n",
      "-------------------------------------------------------------------------------- \n",
      "\n",
      "Cleaned Dataframe Info: \n",
      "\n",
      "<class 'pandas.core.frame.DataFrame'>\n",
      "Int64Index: 28504 entries, 7 to 99997\n",
      "Columns: 144 entries, mobile_number to rech_days_left_8\n",
      "dtypes: float64(105), int64(27), uint8(12)\n",
      "memory usage: 29.2 MB\n",
      "-------------------------------------------------------------------------------- \n",
      "\n",
      "Cleaned Dataframe Nulls: 0\n",
      "-------------------------------------------------------------------------------- \n",
      "\n"
     ]
    }
   ],
   "source": [
    "print('Original Dataframe Shape: ', telecom_orig.shape); print_ln();\n",
    "print(\"Original Dataframe Info: \\n\"); telecom_orig.info(); print_ln();\n",
    "print(\"Original Dataframe Nulls:\", telecom_orig.isnull().sum().sum()); print_ln();\n",
    "\n",
    "print('Cleaned Dataframe Shape: ', telecom.shape); print_ln();\n",
    "print(\"Cleaned Dataframe Info: \\n\"); telecom.info(); print_ln();\n",
    "print(\"Cleaned Dataframe Nulls:\", telecom.isnull().sum().sum()); print_ln();"
   ]
  },
  {
   "cell_type": "code",
   "execution_count": 31,
   "metadata": {},
   "outputs": [],
   "source": [
    "# write treated telecom file\n",
    "telecom.to_csv(\"telecom_churn_data_clean.csv\", sep=',', index=False)"
   ]
  },
  {
   "cell_type": "code",
   "execution_count": 32,
   "metadata": {},
   "outputs": [
    {
     "name": "stdout",
     "output_type": "stream",
     "text": [
      "Total Churn Count     = 1596\n",
      "Total Not-Churn Count = 26908\n",
      "Churn Rate            = 5.60%\n",
      "-------------------------------------------------------------------------------- \n",
      "\n"
     ]
    }
   ],
   "source": [
    "#checking whether data is imbalanced or not\n",
    "churn  = telecom[\"churn\"].value_counts()\n",
    "churn_rate = churn[1]/(churn[1] + churn[0])\n",
    "\n",
    "print(\"Total Churn Count     = {}\".format(churn[1]))\n",
    "print(\"Total Not-Churn Count = {}\".format(churn[0]))\n",
    "print(\"Churn Rate            = {:.2f}%\".format(churn_rate*100))\n",
    "print_ln()"
   ]
  },
  {
   "cell_type": "code",
   "execution_count": 33,
   "metadata": {},
   "outputs": [],
   "source": [
    "#Univariate Analysis on 'total_rech_num_6', 'total_rech_num_7', 'total_rech_num_8\n",
    "df_not_churn = telecom[telecom[\"churn\"] == 0]\n",
    "df_churn     = telecom[telecom[\"churn\"] == 1]"
   ]
  },
  {
   "cell_type": "code",
   "execution_count": 34,
   "metadata": {},
   "outputs": [
    {
     "name": "stdout",
     "output_type": "stream",
     "text": [
      "Mean:\n",
      "11.826036866359447\n",
      "14.31704260651629\n",
      "median:\n",
      "9.0\n",
      "12.0\n",
      "Quantiles:\n",
      "[ 0.  6.  9. 14.]\n",
      "[ 0.  8. 12. 18.]\n"
     ]
    }
   ],
   "source": [
    "#claculation of mean for churn or non churn\n",
    "print(\"Mean:\")\n",
    "print(np.mean(df_not_churn[\"total_rech_num_6\"]))\n",
    "print(np.mean(df_churn[\"total_rech_num_6\"]))\n",
    "print(\"median:\")\n",
    "print(np.median(df_not_churn[\"total_rech_num_6\"]))\n",
    "print(np.median(df_churn[\"total_rech_num_6\"]))\n",
    "\n",
    "print(\"Quantiles:\")\n",
    "print(np.percentile(df_not_churn[\"total_rech_num_6\"],np.arange(0,100,25)))\n",
    "print(np.percentile(df_churn[\"total_rech_num_6\"],np.arange(0,100,25)))"
   ]
  },
  {
   "cell_type": "code",
   "execution_count": 35,
   "metadata": {},
   "outputs": [
    {
     "name": "stderr",
     "output_type": "stream",
     "text": [
      "/home/sarvammittal/anaconda3/lib/python3.7/site-packages/seaborn/axisgrid.py:230: UserWarning: The `size` paramter has been renamed to `height`; please update your code.\n",
      "  warnings.warn(msg, UserWarning)\n"
     ]
    },
    {
     "data": {
      "text/plain": [
       "<seaborn.axisgrid.FacetGrid at 0x7f77672889b0>"
      ]
     },
     "execution_count": 35,
     "metadata": {},
     "output_type": "execute_result"
    },
    {
     "data": {
      "image/png": "[encoded data removed]",
      "text/plain": [
       "<Figure size 474.375x432 with 1 Axes>"
      ]
     },
     "metadata": {},
     "output_type": "display_data"
    }
   ],
   "source": [
    "#feature importance of total_rech_num_6\n",
    "#now use histogram or probability density function for univiraite analysis\n",
    "#one variable analysis\n",
    "#this is important to know feature importance in classification\n",
    "sns.set_style('whitegrid')\n",
    "sns.FacetGrid(telecom,hue='churn',size=6).map(sns.distplot,\"total_rech_num_6\").add_legend()\n",
    "\n",
    "#its difficult to know about the churning rate based on total_rech_num_6 feature as overlaped data."
   ]
  },
  {
   "cell_type": "code",
   "execution_count": 36,
   "metadata": {},
   "outputs": [
    {
     "name": "stdout",
     "output_type": "stream",
     "text": [
      "Mean:\n",
      "11.875464545859968\n",
      "13.43170426065163\n",
      "median:\n",
      "9.0\n",
      "10.0\n",
      "Quantiles:\n",
      "[ 0.  6.  9. 15.]\n",
      "[ 0.  7. 10. 17.]\n"
     ]
    }
   ],
   "source": [
    "print(\"Mean:\")\n",
    "print(np.mean(df_not_churn[\"total_rech_num_7\"]))\n",
    "print(np.mean(df_churn[\"total_rech_num_7\"]))\n",
    "print(\"median:\")\n",
    "print(np.median(df_not_churn[\"total_rech_num_7\"]))\n",
    "print(np.median(df_churn[\"total_rech_num_7\"]))\n",
    "\n",
    "print(\"Quantiles:\")\n",
    "print(np.percentile(df_not_churn[\"total_rech_num_7\"],np.arange(0,100,25)))\n",
    "print(np.percentile(df_churn[\"total_rech_num_7\"],np.arange(0,100,25)))"
   ]
  },
  {
   "cell_type": "code",
   "execution_count": 37,
   "metadata": {},
   "outputs": [
    {
     "data": {
      "text/plain": [
       "<seaborn.axisgrid.FacetGrid at 0x7f77670b8080>"
      ]
     },
     "execution_count": 37,
     "metadata": {},
     "output_type": "execute_result"
    },
    {
     "data": {
      "image/png": "[encoded data removed]",
      "text/plain": [
       "<Figure size 474.375x432 with 1 Axes>"
      ]
     },
     "metadata": {},
     "output_type": "display_data"
    }
   ],
   "source": [
    "\n",
    "#feature importance of total_rech_data_7\n",
    "#now use histogram or probability density function for univiraite analysis\n",
    "#one variable analysis\n",
    "#this is important to know feature importance in classification\n",
    "sns.set_style('whitegrid')\n",
    "sns.FacetGrid(telecom,hue='churn',size=6).map(sns.distplot,\"total_rech_num_7\").add_legend()\n",
    "\n",
    "#its difficult to know about the churning rate based on total_rech_data_7 feature as overlaped data."
   ]
  },
  {
   "cell_type": "code",
   "execution_count": 38,
   "metadata": {},
   "outputs": [
    {
     "name": "stdout",
     "output_type": "stream",
     "text": [
      "Mean:\n",
      "10.523561766017542\n",
      "7.021303258145363\n",
      "median:\n",
      "8.0\n",
      "5.0\n",
      "Quantiles:\n",
      "[ 0.  5.  8. 13.]\n",
      "[0. 3. 5. 9.]\n"
     ]
    }
   ],
   "source": [
    "print(\"Mean:\")\n",
    "print(np.mean(df_not_churn[\"total_rech_num_8\"]))\n",
    "print(np.mean(df_churn[\"total_rech_num_8\"]))\n",
    "print(\"median:\")\n",
    "print(np.median(df_not_churn[\"total_rech_num_8\"]))\n",
    "print(np.median(df_churn[\"total_rech_num_8\"]))\n",
    "\n",
    "print(\"Quantiles:\")\n",
    "print(np.percentile(df_not_churn[\"total_rech_num_8\"],np.arange(0,100,25)))\n",
    "print(np.percentile(df_churn[\"total_rech_num_8\"],np.arange(0,100,25)))"
   ]
  },
  {
   "cell_type": "code",
   "execution_count": 39,
   "metadata": {},
   "outputs": [
    {
     "data": {
      "text/plain": [
       "<seaborn.axisgrid.FacetGrid at 0x7f7767031dd8>"
      ]
     },
     "execution_count": 39,
     "metadata": {},
     "output_type": "execute_result"
    },
    {
     "data": {
      "image/png": "[encoded data removed]",
      "text/plain": [
       "<Figure size 474.375x432 with 1 Axes>"
      ]
     },
     "metadata": {},
     "output_type": "display_data"
    }
   ],
   "source": [
    "#feature importance of total_rech_amt_8\n",
    "#now use histogram or probability density function for univiraite analysis\n",
    "#one variable analysis\n",
    "#this is important to know feature importance in classification\n",
    "sns.FacetGrid(telecom,hue='churn',size=6).map(sns.distplot,\"total_rech_num_8\").add_legend()"
   ]
  },
  {
   "cell_type": "code",
   "execution_count": 40,
   "metadata": {},
   "outputs": [
    {
     "data": {
      "text/plain": [
       "<seaborn.axisgrid.FacetGrid at 0x7f7766e435f8>"
      ]
     },
     "execution_count": 40,
     "metadata": {},
     "output_type": "execute_result"
    },
    {
     "data": {
      "image/png": "[encoded data removed]",
      "text/plain": [
       "<Figure size 402.375x360 with 1 Axes>"
      ]
     },
     "metadata": {},
     "output_type": "display_data"
    }
   ],
   "source": [
    "sns.FacetGrid(telecom,hue='churn',size=5).map(plt.scatter,\"total_rech_num_6\",\"total_rech_num_7\").add_legend()"
   ]
  },
  {
   "cell_type": "code",
   "execution_count": 41,
   "metadata": {},
   "outputs": [
    {
     "data": {
      "text/plain": [
       "<seaborn.axisgrid.FacetGrid at 0x7f7766d84e48>"
      ]
     },
     "execution_count": 41,
     "metadata": {},
     "output_type": "execute_result"
    },
    {
     "data": {
      "image/png": "[encoded data removed]",
      "text/plain": [
       "<Figure size 402.375x360 with 1 Axes>"
      ]
     },
     "metadata": {},
     "output_type": "display_data"
    }
   ],
   "source": [
    "sns.FacetGrid(telecom,hue='churn',size=5).map(plt.scatter,\"total_rech_num_7\",\"total_rech_num_8\").add_legend()"
   ]
  },
  {
   "cell_type": "code",
   "execution_count": 42,
   "metadata": {},
   "outputs": [
    {
     "data": {
      "text/plain": [
       "<seaborn.axisgrid.FacetGrid at 0x7f7766cb8ac8>"
      ]
     },
     "execution_count": 42,
     "metadata": {},
     "output_type": "execute_result"
    },
    {
     "data": {
      "image/png": "[encoded data removed]",
      "text/plain": [
       "<Figure size 402.375x360 with 1 Axes>"
      ]
     },
     "metadata": {},
     "output_type": "display_data"
    }
   ],
   "source": [
    "\n",
    "sns.FacetGrid(telecom,hue='churn',size=5).map(plt.scatter,\"total_rech_num_6\",\"total_rech_num_8\").add_legend()"
   ]
  },
  {
   "cell_type": "code",
   "execution_count": 43,
   "metadata": {},
   "outputs": [
    {
     "name": "stdout",
     "output_type": "stream",
     "text": [
      "Mean:\n",
      "656.1418537237996\n",
      "786.3007518796992\n",
      "median:\n",
      "564.0\n",
      "669.0\n",
      "Quantiles:\n",
      "[  0. 366. 564. 820.]\n",
      "[  0. 450. 669. 984.]\n"
     ]
    }
   ],
   "source": [
    "print(\"Mean:\")\n",
    "print(np.mean(df_not_churn[\"total_rech_amt_6\"]))\n",
    "print(np.mean(df_churn[\"total_rech_amt_6\"]))\n",
    "print(\"median:\")\n",
    "print(np.median(df_not_churn[\"total_rech_amt_6\"]))\n",
    "print(np.median(df_churn[\"total_rech_amt_6\"]))\n",
    "\n",
    "print(\"Quantiles:\")\n",
    "print(np.percentile(df_not_churn[\"total_rech_amt_6\"],np.arange(0,100,25)))\n",
    "print(np.percentile(df_churn[\"total_rech_amt_6\"],np.arange(0,100,25)))"
   ]
  },
  {
   "cell_type": "code",
   "execution_count": 44,
   "metadata": {},
   "outputs": [
    {
     "data": {
      "text/plain": [
       "<seaborn.axisgrid.FacetGrid at 0x7f7766c3f278>"
      ]
     },
     "execution_count": 44,
     "metadata": {},
     "output_type": "execute_result"
    },
    {
     "data": {
      "image/png": "[encoded data removed]",
      "text/plain": [
       "<Figure size 474.375x432 with 1 Axes>"
      ]
     },
     "metadata": {},
     "output_type": "display_data"
    }
   ],
   "source": [
    "#feature importance of total_rech_num_6\n",
    "#now use histogram or probability density function for univiraite analysis\n",
    "#one variable analysis\n",
    "#this is important to know feature importance in classification\n",
    "sns.FacetGrid(telecom,hue='churn',size=6).map(sns.distplot,\"total_rech_amt_6\").add_legend()"
   ]
  },
  {
   "cell_type": "code",
   "execution_count": 45,
   "metadata": {},
   "outputs": [
    {
     "name": "stdout",
     "output_type": "stream",
     "text": [
      "Mean:\n",
      "668.5358257767207\n",
      "733.1115288220551\n",
      "median:\n",
      "570.0\n",
      "616.0\n",
      "Quantiles:\n",
      "[  0. 366. 570. 833.]\n",
      "[  0.   382.75 616.   939.25]\n"
     ]
    }
   ],
   "source": [
    "print(\"Mean:\")\n",
    "print(np.mean(df_not_churn[\"total_rech_amt_7\"]))\n",
    "print(np.mean(df_churn[\"total_rech_amt_7\"]))\n",
    "print(\"median:\")\n",
    "print(np.median(df_not_churn[\"total_rech_amt_7\"]))\n",
    "print(np.median(df_churn[\"total_rech_amt_7\"]))\n",
    "\n",
    "print(\"Quantiles:\")\n",
    "print(np.percentile(df_not_churn[\"total_rech_amt_7\"],np.arange(0,100,25)))\n",
    "print(np.percentile(df_churn[\"total_rech_amt_7\"],np.arange(0,100,25)))"
   ]
  },
  {
   "cell_type": "code",
   "execution_count": 46,
   "metadata": {},
   "outputs": [
    {
     "data": {
      "text/plain": [
       "<seaborn.axisgrid.FacetGrid at 0x7f7766ac4400>"
      ]
     },
     "execution_count": 46,
     "metadata": {},
     "output_type": "execute_result"
    },
    {
     "data": {
      "image/png": "[encoded data removed]",
      "text/plain": [
       "<Figure size 474.375x432 with 1 Axes>"
      ]
     },
     "metadata": {},
     "output_type": "display_data"
    }
   ],
   "source": [
    "#feature importance of total_rech_num_6\n",
    "#now use histogram or probability density function for univiraite analysis\n",
    "#one variable analysis\n",
    "#this is important to know feature importance in classification\n",
    "sns.FacetGrid(telecom,hue='churn',size=6).map(sns.distplot,\"total_rech_amt_7\").add_legend()"
   ]
  },
  {
   "cell_type": "code",
   "execution_count": 47,
   "metadata": {},
   "outputs": [
    {
     "name": "stdout",
     "output_type": "stream",
     "text": [
      "Mean:\n",
      "619.713691095585\n",
      "352.98809523809524\n",
      "median:\n",
      "518.0\n",
      "190.0\n",
      "Quantiles:\n",
      "[  0. 288. 518. 800.]\n",
      "[  0.    16.5  190.   506.25]\n"
     ]
    }
   ],
   "source": [
    "print(\"Mean:\")\n",
    "print(np.mean(df_not_churn[\"total_rech_amt_8\"]))\n",
    "print(np.mean(df_churn[\"total_rech_amt_8\"]))\n",
    "print(\"median:\")\n",
    "print(np.median(df_not_churn[\"total_rech_amt_8\"]))\n",
    "print(np.median(df_churn[\"total_rech_amt_8\"]))\n",
    "\n",
    "print(\"Quantiles:\")\n",
    "print(np.percentile(df_not_churn[\"total_rech_amt_8\"],np.arange(0,100,25)))\n",
    "print(np.percentile(df_churn[\"total_rech_amt_8\"],np.arange(0,100,25)))"
   ]
  },
  {
   "cell_type": "code",
   "execution_count": 48,
   "metadata": {},
   "outputs": [
    {
     "data": {
      "text/plain": [
       "<seaborn.axisgrid.FacetGrid at 0x7f7766958d30>"
      ]
     },
     "execution_count": 48,
     "metadata": {},
     "output_type": "execute_result"
    },
    {
     "data": {
      "image/png": "[encoded data removed]",
      "text/plain": [
       "<Figure size 474.375x432 with 1 Axes>"
      ]
     },
     "metadata": {},
     "output_type": "display_data"
    }
   ],
   "source": [
    "#feature importance of total_rech_num_6\n",
    "#now use histogram or probability density function for univiraite analysis\n",
    "#one variable analysis\n",
    "#this is important to know feature importance in classification\n",
    "sns.FacetGrid(telecom,hue='churn',size=6).map(sns.distplot,\"total_rech_amt_8\").add_legend()"
   ]
  },
  {
   "cell_type": "code",
   "execution_count": 49,
   "metadata": {},
   "outputs": [
    {
     "data": {
      "text/plain": [
       "<seaborn.axisgrid.FacetGrid at 0x7f7766820e10>"
      ]
     },
     "execution_count": 49,
     "metadata": {},
     "output_type": "execute_result"
    },
    {
     "data": {
      "image/png": "[encoded data removed]",
      "text/plain": [
       "<Figure size 402.375x360 with 1 Axes>"
      ]
     },
     "metadata": {},
     "output_type": "display_data"
    }
   ],
   "source": [
    "sns.FacetGrid(telecom,hue='churn',size=5).map(plt.scatter,\"total_rech_amt_6\",\"total_rech_amt_7\").add_legend()"
   ]
  },
  {
   "cell_type": "code",
   "execution_count": 50,
   "metadata": {},
   "outputs": [
    {
     "data": {
      "text/plain": [
       "<seaborn.axisgrid.FacetGrid at 0x7f7766784160>"
      ]
     },
     "execution_count": 50,
     "metadata": {},
     "output_type": "execute_result"
    },
    {
     "data": {
      "image/png": "[encoded data removed]",
      "text/plain": [
       "<Figure size 402.375x360 with 1 Axes>"
      ]
     },
     "metadata": {},
     "output_type": "display_data"
    }
   ],
   "source": [
    "\n",
    "sns.FacetGrid(telecom,hue='churn',size=5).map(plt.scatter,\"total_rech_amt_6\",\"total_rech_amt_8\").add_legend()"
   ]
  },
  {
   "cell_type": "code",
   "execution_count": 51,
   "metadata": {},
   "outputs": [
    {
     "data": {
      "text/plain": [
       "<seaborn.axisgrid.FacetGrid at 0x7f7766756cc0>"
      ]
     },
     "execution_count": 51,
     "metadata": {},
     "output_type": "execute_result"
    },
    {
     "data": {
      "image/png": "[encoded data removed]",
      "text/plain": [
       "<Figure size 402.375x360 with 1 Axes>"
      ]
     },
     "metadata": {},
     "output_type": "display_data"
    }
   ],
   "source": [
    "\n",
    "sns.FacetGrid(telecom,hue='churn',size=5).map(plt.scatter,\"total_rech_amt_7\",\"total_rech_amt_8\").add_legend()"
   ]
  },
  {
   "cell_type": "code",
   "execution_count": 52,
   "metadata": {},
   "outputs": [
    {
     "name": "stdout",
     "output_type": "stream",
     "text": [
      "Mean:\n",
      "168.3110227441653\n",
      "158.79761904761904\n",
      "median:\n",
      "120.0\n",
      "110.0\n",
      "Quantiles:\n",
      "[  0. 110. 120. 200.]\n",
      "[  0. 100. 110. 154.]\n"
     ]
    }
   ],
   "source": [
    "print(\"Mean:\")\n",
    "print(np.mean(df_not_churn[\"max_rech_amt_6\"]))\n",
    "print(np.mean(df_churn[\"max_rech_amt_6\"]))\n",
    "print(\"median:\")\n",
    "print(np.median(df_not_churn[\"max_rech_amt_6\"]))\n",
    "print(np.median(df_churn[\"max_rech_amt_6\"]))\n",
    "\n",
    "print(\"Quantiles:\")\n",
    "print(np.percentile(df_not_churn[\"max_rech_amt_6\"],np.arange(0,100,25)))\n",
    "print(np.percentile(df_churn[\"max_rech_amt_6\"],np.arange(0,100,25)))"
   ]
  },
  {
   "cell_type": "code",
   "execution_count": 53,
   "metadata": {},
   "outputs": [
    {
     "data": {
      "text/plain": [
       "<seaborn.axisgrid.FacetGrid at 0x7f7766671518>"
      ]
     },
     "execution_count": 53,
     "metadata": {},
     "output_type": "execute_result"
    },
    {
     "data": {
      "image/png": "[encoded data removed]",
      "text/plain": [
       "<Figure size 474.375x432 with 1 Axes>"
      ]
     },
     "metadata": {},
     "output_type": "display_data"
    }
   ],
   "source": [
    "sns.FacetGrid(telecom,hue='churn',size=6).map(sns.distplot,\"max_rech_amt_6\").add_legend()"
   ]
  },
  {
   "cell_type": "code",
   "execution_count": 54,
   "metadata": {},
   "outputs": [
    {
     "name": "stdout",
     "output_type": "stream",
     "text": [
      "Mean:\n",
      "171.94440315147912\n",
      "159.51629072681703\n",
      "median:\n",
      "130.0\n",
      "110.0\n",
      "Quantiles:\n",
      "[  0. 110. 130. 200.]\n",
      "[  0.  98. 110. 154.]\n"
     ]
    }
   ],
   "source": [
    "print(\"Mean:\")\n",
    "print(np.mean(df_not_churn[\"max_rech_amt_7\"]))\n",
    "print(np.mean(df_churn[\"max_rech_amt_7\"]))\n",
    "print(\"median:\")\n",
    "print(np.median(df_not_churn[\"max_rech_amt_7\"]))\n",
    "print(np.median(df_churn[\"max_rech_amt_7\"]))\n",
    "\n",
    "print(\"Quantiles:\")\n",
    "print(np.percentile(df_not_churn[\"max_rech_amt_7\"],np.arange(0,100,25)))\n",
    "print(np.percentile(df_churn[\"max_rech_amt_7\"],np.arange(0,100,25)))"
   ]
  },
  {
   "cell_type": "code",
   "execution_count": 55,
   "metadata": {},
   "outputs": [
    {
     "data": {
      "text/plain": [
       "<seaborn.axisgrid.FacetGrid at 0x7f7766499f60>"
      ]
     },
     "execution_count": 55,
     "metadata": {},
     "output_type": "execute_result"
    },
    {
     "data": {
      "image/png": "[encoded data removed]",
      "text/plain": [
       "<Figure size 474.375x432 with 1 Axes>"
      ]
     },
     "metadata": {},
     "output_type": "display_data"
    }
   ],
   "source": [
    "sns.FacetGrid(telecom,hue='churn',size=6).map(sns.distplot,\"max_rech_amt_7\").add_legend()"
   ]
  },
  {
   "cell_type": "code",
   "execution_count": 56,
   "metadata": {},
   "outputs": [
    {
     "name": "stdout",
     "output_type": "stream",
     "text": [
      "Mean:\n",
      "166.4161959268619\n",
      "111.0983709273183\n",
      "median:\n",
      "144.0\n",
      "56.0\n",
      "Quantiles:\n",
      "[  0.  70. 144. 198.]\n",
      "[  0.  10.  56. 130.]\n"
     ]
    }
   ],
   "source": [
    "print(\"Mean:\")\n",
    "print(np.mean(df_not_churn[\"max_rech_amt_8\"]))\n",
    "print(np.mean(df_churn[\"max_rech_amt_8\"]))\n",
    "print(\"median:\")\n",
    "print(np.median(df_not_churn[\"max_rech_amt_8\"]))\n",
    "print(np.median(df_churn[\"max_rech_amt_8\"]))\n",
    "\n",
    "print(\"Quantiles:\")\n",
    "print(np.percentile(df_not_churn[\"max_rech_amt_8\"],np.arange(0,100,25)))\n",
    "print(np.percentile(df_churn[\"max_rech_amt_8\"],np.arange(0,100,25)))"
   ]
  },
  {
   "cell_type": "code",
   "execution_count": 57,
   "metadata": {},
   "outputs": [
    {
     "data": {
      "text/plain": [
       "<seaborn.axisgrid.FacetGrid at 0x7f77663cf128>"
      ]
     },
     "execution_count": 57,
     "metadata": {},
     "output_type": "execute_result"
    },
    {
     "data": {
      "image/png": "[encoded data removed]",
      "text/plain": [
       "<Figure size 474.375x432 with 1 Axes>"
      ]
     },
     "metadata": {},
     "output_type": "display_data"
    }
   ],
   "source": [
    "sns.FacetGrid(telecom,hue='churn',size=6).map(sns.distplot,\"max_rech_amt_8\").add_legend()"
   ]
  },
  {
   "cell_type": "code",
   "execution_count": 58,
   "metadata": {},
   "outputs": [
    {
     "data": {
      "text/plain": [
       "<seaborn.axisgrid.FacetGrid at 0x7f7766269400>"
      ]
     },
     "execution_count": 58,
     "metadata": {},
     "output_type": "execute_result"
    },
    {
     "data": {
      "image/png": "[encoded data removed]",
      "text/plain": [
       "<Figure size 402.375x360 with 1 Axes>"
      ]
     },
     "metadata": {},
     "output_type": "display_data"
    }
   ],
   "source": [
    "sns.FacetGrid(telecom,hue='churn',size=5).map(plt.scatter,\"max_rech_amt_6\",\"max_rech_amt_7\").add_legend()"
   ]
  },
  {
   "cell_type": "code",
   "execution_count": 59,
   "metadata": {},
   "outputs": [
    {
     "data": {
      "text/plain": [
       "<seaborn.axisgrid.FacetGrid at 0x7f77661bd828>"
      ]
     },
     "execution_count": 59,
     "metadata": {},
     "output_type": "execute_result"
    },
    {
     "data": {
      "image/png": "[encoded data removed]",
      "text/plain": [
       "<Figure size 402.375x360 with 1 Axes>"
      ]
     },
     "metadata": {},
     "output_type": "display_data"
    }
   ],
   "source": [
    "sns.FacetGrid(telecom,hue='churn',size=5).map(plt.scatter,\"max_rech_amt_7\",\"max_rech_amt_8\").add_legend()"
   ]
  },
  {
   "cell_type": "code",
   "execution_count": 60,
   "metadata": {},
   "outputs": [
    {
     "data": {
      "text/plain": [
       "<seaborn.axisgrid.FacetGrid at 0x7f776614f4e0>"
      ]
     },
     "execution_count": 60,
     "metadata": {},
     "output_type": "execute_result"
    },
    {
     "data": {
      "image/png": "[encoded data removed]",
      "text/plain": [
       "<Figure size 402.375x360 with 1 Axes>"
      ]
     },
     "metadata": {},
     "output_type": "display_data"
    }
   ],
   "source": [
    "sns.FacetGrid(telecom,hue='churn',size=5).map(plt.scatter,\"max_rech_amt_6\",\"max_rech_amt_8\").add_legend()"
   ]
  },
  {
   "cell_type": "code",
   "execution_count": 61,
   "metadata": {},
   "outputs": [],
   "source": [
    "telecom2 = telecom.drop(['mobile_number', 'churn'], axis=1)"
   ]
  },
  {
   "cell_type": "code",
   "execution_count": 62,
   "metadata": {},
   "outputs": [
    {
     "name": "stdout",
     "output_type": "stream",
     "text": [
      "HIGHLY CORRELATED FEATURES IN DATA SET:36\n",
      "\n",
      "['onnet_mou_8', 'loc_og_t2t_mou_8', 'loc_og_t2m_mou_8', 'loc_og_t2f_mou_7', 'loc_og_mou_6', 'loc_og_mou_7', 'loc_og_mou_8', 'std_og_t2t_mou_6', 'std_og_t2t_mou_7', 'std_og_t2t_mou_8', 'std_og_t2m_mou_6', 'std_og_t2m_mou_7', 'std_og_t2m_mou_8', 'isd_og_mou_7', 'isd_og_mou_8', 'total_og_mou_6', 'total_og_mou_7', 'total_og_mou_8', 'loc_ic_t2t_mou_7', 'loc_ic_t2t_mou_8', 'loc_ic_t2m_mou_8', 'loc_ic_mou_6', 'loc_ic_mou_7', 'loc_ic_mou_8', 'std_ic_mou_6', 'std_ic_mou_7', 'std_ic_mou_8', 'total_ic_mou_6', 'total_ic_mou_7', 'total_ic_mou_8', 'total_rech_amt_6', 'total_rech_amt_7', 'total_rech_amt_8', 'fb6_1.0', 'fb7_1.0', 'fb8_1.0']\n"
     ]
    }
   ],
   "source": [
    "# Create correlation matrix\n",
    "corr_matrix = telecom2.corr().abs()\n",
    "\n",
    "# Select upper triangle of correlation matrix\n",
    "upper = corr_matrix.where(np.triu(np.ones(corr_matrix.shape), k=1).astype(np.bool))\n",
    "\n",
    "# Find index of feature columns with correlation greater than 0.80\n",
    "high_corr_features = [column for column in upper.columns if any(upper[column] > 0.80)]\n",
    "\n",
    "print(\"HIGHLY CORRELATED FEATURES IN DATA SET:{}\\n\\n{}\".format(len(high_corr_features), high_corr_features))"
   ]
  },
  {
   "cell_type": "code",
   "execution_count": null,
   "metadata": {},
   "outputs": [],
   "source": []
  },
  {
   "cell_type": "code",
   "execution_count": 63,
   "metadata": {},
   "outputs": [],
   "source": [
    "# Importing train-test-split \n",
    "from sklearn.model_selection import train_test_split"
   ]
  },
  {
   "cell_type": "code",
   "execution_count": 64,
   "metadata": {},
   "outputs": [],
   "source": [
    "# Putting feature variable to X\n",
    "X = telecom.drop('churn',axis=1)\n",
    "\n",
    "# Putting response variable to y\n",
    "y = telecom['churn']"
   ]
  },
  {
   "cell_type": "code",
   "execution_count": 65,
   "metadata": {},
   "outputs": [
    {
     "data": {
      "text/html": [
       "<div>\n",
       "<style scoped>\n",
       "    .dataframe tbody tr th:only-of-type {\n",
       "        vertical-align: middle;\n",
       "    }\n",
       "\n",
       "    .dataframe tbody tr th {\n",
       "        vertical-align: top;\n",
       "    }\n",
       "\n",
       "    .dataframe thead th {\n",
       "        text-align: right;\n",
       "    }\n",
       "</style>\n",
       "<table border=\"1\" class=\"dataframe\">\n",
       "  <thead>\n",
       "    <tr style=\"text-align: right;\">\n",
       "      <th></th>\n",
       "      <th>mobile_number</th>\n",
       "      <th>arpu_6</th>\n",
       "      <th>arpu_7</th>\n",
       "      <th>arpu_8</th>\n",
       "      <th>onnet_mou_6</th>\n",
       "      <th>onnet_mou_7</th>\n",
       "      <th>onnet_mou_8</th>\n",
       "      <th>offnet_mou_6</th>\n",
       "      <th>offnet_mou_7</th>\n",
       "      <th>offnet_mou_8</th>\n",
       "      <th>...</th>\n",
       "      <th>fb7_0.0</th>\n",
       "      <th>fb7_1.0</th>\n",
       "      <th>fb8_0.0</th>\n",
       "      <th>fb8_1.0</th>\n",
       "      <th>total_rech_data_amt_6</th>\n",
       "      <th>total_rech_data_amt_7</th>\n",
       "      <th>total_rech_data_amt_8</th>\n",
       "      <th>rech_days_left_6</th>\n",
       "      <th>rech_days_left_7</th>\n",
       "      <th>rech_days_left_8</th>\n",
       "    </tr>\n",
       "  </thead>\n",
       "  <tbody>\n",
       "    <tr>\n",
       "      <th>36531</th>\n",
       "      <td>7002179476</td>\n",
       "      <td>532.55</td>\n",
       "      <td>435.05</td>\n",
       "      <td>421.63</td>\n",
       "      <td>826.34</td>\n",
       "      <td>527.81</td>\n",
       "      <td>295.84</td>\n",
       "      <td>72.78</td>\n",
       "      <td>267.46</td>\n",
       "      <td>53.04</td>\n",
       "      <td>...</td>\n",
       "      <td>0</td>\n",
       "      <td>0</td>\n",
       "      <td>0</td>\n",
       "      <td>0</td>\n",
       "      <td>0.00</td>\n",
       "      <td>0.00</td>\n",
       "      <td>0.00</td>\n",
       "      <td>0.00</td>\n",
       "      <td>0.00</td>\n",
       "      <td>0.00</td>\n",
       "    </tr>\n",
       "    <tr>\n",
       "      <th>89172</th>\n",
       "      <td>7000622689</td>\n",
       "      <td>403.89</td>\n",
       "      <td>506.86</td>\n",
       "      <td>447.43</td>\n",
       "      <td>26.31</td>\n",
       "      <td>64.63</td>\n",
       "      <td>14.08</td>\n",
       "      <td>326.91</td>\n",
       "      <td>341.98</td>\n",
       "      <td>319.63</td>\n",
       "      <td>...</td>\n",
       "      <td>0</td>\n",
       "      <td>0</td>\n",
       "      <td>0</td>\n",
       "      <td>0</td>\n",
       "      <td>0.00</td>\n",
       "      <td>0.00</td>\n",
       "      <td>0.00</td>\n",
       "      <td>6.00</td>\n",
       "      <td>3.00</td>\n",
       "      <td>0.00</td>\n",
       "    </tr>\n",
       "    <tr>\n",
       "      <th>89748</th>\n",
       "      <td>7001761227</td>\n",
       "      <td>785.48</td>\n",
       "      <td>731.96</td>\n",
       "      <td>726.15</td>\n",
       "      <td>1325.58</td>\n",
       "      <td>1349.84</td>\n",
       "      <td>1160.68</td>\n",
       "      <td>56.19</td>\n",
       "      <td>31.54</td>\n",
       "      <td>130.21</td>\n",
       "      <td>...</td>\n",
       "      <td>0</td>\n",
       "      <td>0</td>\n",
       "      <td>0</td>\n",
       "      <td>0</td>\n",
       "      <td>0.00</td>\n",
       "      <td>0.00</td>\n",
       "      <td>0.00</td>\n",
       "      <td>0.00</td>\n",
       "      <td>0.00</td>\n",
       "      <td>0.00</td>\n",
       "    </tr>\n",
       "    <tr>\n",
       "      <th>64670</th>\n",
       "      <td>7000837248</td>\n",
       "      <td>658.03</td>\n",
       "      <td>521.59</td>\n",
       "      <td>53.10</td>\n",
       "      <td>71.78</td>\n",
       "      <td>82.86</td>\n",
       "      <td>11.91</td>\n",
       "      <td>1521.94</td>\n",
       "      <td>1042.01</td>\n",
       "      <td>39.48</td>\n",
       "      <td>...</td>\n",
       "      <td>0</td>\n",
       "      <td>0</td>\n",
       "      <td>0</td>\n",
       "      <td>0</td>\n",
       "      <td>0.00</td>\n",
       "      <td>0.00</td>\n",
       "      <td>0.00</td>\n",
       "      <td>1.00</td>\n",
       "      <td>0.00</td>\n",
       "      <td>9.00</td>\n",
       "    </tr>\n",
       "    <tr>\n",
       "      <th>4001</th>\n",
       "      <td>7000826223</td>\n",
       "      <td>471.57</td>\n",
       "      <td>446.59</td>\n",
       "      <td>420.69</td>\n",
       "      <td>59.81</td>\n",
       "      <td>97.78</td>\n",
       "      <td>55.51</td>\n",
       "      <td>316.66</td>\n",
       "      <td>394.28</td>\n",
       "      <td>329.91</td>\n",
       "      <td>...</td>\n",
       "      <td>0</td>\n",
       "      <td>0</td>\n",
       "      <td>0</td>\n",
       "      <td>0</td>\n",
       "      <td>0.00</td>\n",
       "      <td>0.00</td>\n",
       "      <td>0.00</td>\n",
       "      <td>5.00</td>\n",
       "      <td>0.00</td>\n",
       "      <td>3.00</td>\n",
       "    </tr>\n",
       "  </tbody>\n",
       "</table>\n",
       "<p>5 rows × 143 columns</p>\n",
       "</div>"
      ],
      "text/plain": [
       "       mobile_number  arpu_6  arpu_7  arpu_8  onnet_mou_6  onnet_mou_7  \\\n",
       "36531     7002179476  532.55  435.05  421.63       826.34       527.81   \n",
       "89172     7000622689  403.89  506.86  447.43        26.31        64.63   \n",
       "89748     7001761227  785.48  731.96  726.15      1325.58      1349.84   \n",
       "64670     7000837248  658.03  521.59   53.10        71.78        82.86   \n",
       "4001      7000826223  471.57  446.59  420.69        59.81        97.78   \n",
       "\n",
       "       onnet_mou_8  offnet_mou_6  offnet_mou_7  offnet_mou_8  ...  fb7_0.0  \\\n",
       "36531       295.84         72.78        267.46         53.04  ...        0   \n",
       "89172        14.08        326.91        341.98        319.63  ...        0   \n",
       "89748      1160.68         56.19         31.54        130.21  ...        0   \n",
       "64670        11.91       1521.94       1042.01         39.48  ...        0   \n",
       "4001         55.51        316.66        394.28        329.91  ...        0   \n",
       "\n",
       "       fb7_1.0  fb8_0.0  fb8_1.0  total_rech_data_amt_6  \\\n",
       "36531        0        0        0                   0.00   \n",
       "89172        0        0        0                   0.00   \n",
       "89748        0        0        0                   0.00   \n",
       "64670        0        0        0                   0.00   \n",
       "4001         0        0        0                   0.00   \n",
       "\n",
       "       total_rech_data_amt_7  total_rech_data_amt_8  rech_days_left_6  \\\n",
       "36531                   0.00                   0.00              0.00   \n",
       "89172                   0.00                   0.00              6.00   \n",
       "89748                   0.00                   0.00              0.00   \n",
       "64670                   0.00                   0.00              1.00   \n",
       "4001                    0.00                   0.00              5.00   \n",
       "\n",
       "       rech_days_left_7  rech_days_left_8  \n",
       "36531              0.00              0.00  \n",
       "89172              3.00              0.00  \n",
       "89748              0.00              0.00  \n",
       "64670              0.00              9.00  \n",
       "4001               0.00              3.00  \n",
       "\n",
       "[5 rows x 143 columns]"
      ]
     },
     "execution_count": 65,
     "metadata": {},
     "output_type": "execute_result"
    }
   ],
   "source": [
    "# Splitting the data into train and test\n",
    "X_train, X_test, y_train, y_test = train_test_split(X, y, \n",
    "                                                    test_size=0.30, \n",
    "                                                    random_state = 99)\n",
    "X_train.head()"
   ]
  },
  {
   "cell_type": "code",
   "execution_count": 66,
   "metadata": {},
   "outputs": [
    {
     "data": {
      "text/plain": [
       "DecisionTreeClassifier(class_weight=None, criterion='gini', max_depth=5,\n",
       "                       max_features=None, max_leaf_nodes=None,\n",
       "                       min_impurity_decrease=0.0, min_impurity_split=None,\n",
       "                       min_samples_leaf=1, min_samples_split=2,\n",
       "                       min_weight_fraction_leaf=0.0, presort=False,\n",
       "                       random_state=None, splitter='best')"
      ]
     },
     "execution_count": 66,
     "metadata": {},
     "output_type": "execute_result"
    }
   ],
   "source": [
    "# Importing decision tree classifier from sklearn library\n",
    "from sklearn.tree import DecisionTreeClassifier\n",
    "\n",
    "# Fitting the decision tree with default hyperparameters, apart from\n",
    "# max_depth which is 5 so that we can plot and read the tree.\n",
    "dt_default = DecisionTreeClassifier(max_depth=5)\n",
    "dt_default.fit(X_train, y_train)"
   ]
  },
  {
   "cell_type": "code",
   "execution_count": 67,
   "metadata": {},
   "outputs": [
    {
     "name": "stdout",
     "output_type": "stream",
     "text": [
      "              precision    recall  f1-score   support\n",
      "\n",
      "           0       0.96      0.98      0.97      8055\n",
      "           1       0.52      0.35      0.42       497\n",
      "\n",
      "    accuracy                           0.94      8552\n",
      "   macro avg       0.74      0.66      0.69      8552\n",
      "weighted avg       0.94      0.94      0.94      8552\n",
      "\n"
     ]
    }
   ],
   "source": [
    "# Let's check the evaluation metrics of our default model\n",
    "\n",
    "# Importing classification report and confusion matrix from sklearn metrics\n",
    "from sklearn.metrics import classification_report, confusion_matrix\n",
    "\n",
    "# Making predictions\n",
    "y_pred_default = dt_default.predict(X_test)\n",
    "\n",
    "# Printing classification report\n",
    "print(classification_report(y_test, y_pred_default))"
   ]
  },
  {
   "cell_type": "code",
   "execution_count": 68,
   "metadata": {},
   "outputs": [
    {
     "name": "stdout",
     "output_type": "stream",
     "text": [
      "[[7899  156]\n",
      " [ 325  172]]\n"
     ]
    }
   ],
   "source": [
    "# Printing confusion matrix and accuracy\n",
    "print(confusion_matrix(y_test,y_pred_default))\n"
   ]
  },
  {
   "cell_type": "code",
   "execution_count": 69,
   "metadata": {},
   "outputs": [
    {
     "name": "stderr",
     "output_type": "stream",
     "text": [
      "/home/sarvammittal/anaconda3/lib/python3.7/site-packages/sklearn/externals/six.py:31: DeprecationWarning: The module is deprecated in version 0.21 and will be removed in version 0.23 since we've dropped support for Python 2.7. Please rely on the official version of six (https://pypi.org/project/six/).\n",
      "  \"(https://pypi.org/project/six/).\", DeprecationWarning)\n"
     ]
    },
    {
     "data": {
      "text/plain": [
       "['arpu_6',\n",
       " 'arpu_7',\n",
       " 'arpu_8',\n",
       " 'onnet_mou_6',\n",
       " 'onnet_mou_7',\n",
       " 'onnet_mou_8',\n",
       " 'offnet_mou_6',\n",
       " 'offnet_mou_7',\n",
       " 'offnet_mou_8',\n",
       " 'roam_ic_mou_6',\n",
       " 'roam_ic_mou_7',\n",
       " 'roam_ic_mou_8',\n",
       " 'roam_og_mou_6',\n",
       " 'roam_og_mou_7',\n",
       " 'roam_og_mou_8',\n",
       " 'loc_og_t2t_mou_6',\n",
       " 'loc_og_t2t_mou_7',\n",
       " 'loc_og_t2t_mou_8',\n",
       " 'loc_og_t2m_mou_6',\n",
       " 'loc_og_t2m_mou_7',\n",
       " 'loc_og_t2m_mou_8',\n",
       " 'loc_og_t2f_mou_6',\n",
       " 'loc_og_t2f_mou_7',\n",
       " 'loc_og_t2f_mou_8',\n",
       " 'loc_og_t2c_mou_6',\n",
       " 'loc_og_t2c_mou_7',\n",
       " 'loc_og_t2c_mou_8',\n",
       " 'loc_og_mou_6',\n",
       " 'loc_og_mou_7',\n",
       " 'loc_og_mou_8',\n",
       " 'std_og_t2t_mou_6',\n",
       " 'std_og_t2t_mou_7',\n",
       " 'std_og_t2t_mou_8',\n",
       " 'std_og_t2m_mou_6',\n",
       " 'std_og_t2m_mou_7',\n",
       " 'std_og_t2m_mou_8',\n",
       " 'std_og_t2f_mou_6',\n",
       " 'std_og_t2f_mou_7',\n",
       " 'std_og_t2f_mou_8',\n",
       " 'std_og_mou_6',\n",
       " 'std_og_mou_7',\n",
       " 'std_og_mou_8',\n",
       " 'isd_og_mou_6',\n",
       " 'isd_og_mou_7',\n",
       " 'isd_og_mou_8',\n",
       " 'spl_og_mou_6',\n",
       " 'spl_og_mou_7',\n",
       " 'spl_og_mou_8',\n",
       " 'og_others_6',\n",
       " 'og_others_7',\n",
       " 'og_others_8',\n",
       " 'total_og_mou_6',\n",
       " 'total_og_mou_7',\n",
       " 'total_og_mou_8',\n",
       " 'loc_ic_t2t_mou_6',\n",
       " 'loc_ic_t2t_mou_7',\n",
       " 'loc_ic_t2t_mou_8',\n",
       " 'loc_ic_t2m_mou_6',\n",
       " 'loc_ic_t2m_mou_7',\n",
       " 'loc_ic_t2m_mou_8',\n",
       " 'loc_ic_t2f_mou_6',\n",
       " 'loc_ic_t2f_mou_7',\n",
       " 'loc_ic_t2f_mou_8',\n",
       " 'loc_ic_mou_6',\n",
       " 'loc_ic_mou_7',\n",
       " 'loc_ic_mou_8',\n",
       " 'std_ic_t2t_mou_6',\n",
       " 'std_ic_t2t_mou_7',\n",
       " 'std_ic_t2t_mou_8',\n",
       " 'std_ic_t2m_mou_6',\n",
       " 'std_ic_t2m_mou_7',\n",
       " 'std_ic_t2m_mou_8',\n",
       " 'std_ic_t2f_mou_6',\n",
       " 'std_ic_t2f_mou_7',\n",
       " 'std_ic_t2f_mou_8',\n",
       " 'std_ic_mou_6',\n",
       " 'std_ic_mou_7',\n",
       " 'std_ic_mou_8',\n",
       " 'total_ic_mou_6',\n",
       " 'total_ic_mou_7',\n",
       " 'total_ic_mou_8',\n",
       " 'spl_ic_mou_6',\n",
       " 'spl_ic_mou_7',\n",
       " 'spl_ic_mou_8',\n",
       " 'isd_ic_mou_6',\n",
       " 'isd_ic_mou_7',\n",
       " 'isd_ic_mou_8',\n",
       " 'ic_others_6',\n",
       " 'ic_others_7',\n",
       " 'ic_others_8',\n",
       " 'total_rech_num_6',\n",
       " 'total_rech_num_7',\n",
       " 'total_rech_num_8',\n",
       " 'total_rech_amt_6',\n",
       " 'total_rech_amt_7',\n",
       " 'total_rech_amt_8',\n",
       " 'max_rech_amt_6',\n",
       " 'max_rech_amt_7',\n",
       " 'max_rech_amt_8',\n",
       " 'last_day_rch_amt_6',\n",
       " 'last_day_rch_amt_7',\n",
       " 'last_day_rch_amt_8',\n",
       " 'vol_2g_mb_6',\n",
       " 'vol_2g_mb_7',\n",
       " 'vol_2g_mb_8',\n",
       " 'vol_3g_mb_6',\n",
       " 'vol_3g_mb_7',\n",
       " 'vol_3g_mb_8',\n",
       " 'monthly_2g_6',\n",
       " 'monthly_2g_7',\n",
       " 'monthly_2g_8',\n",
       " 'sachet_2g_6',\n",
       " 'sachet_2g_7',\n",
       " 'sachet_2g_8',\n",
       " 'monthly_3g_6',\n",
       " 'monthly_3g_7',\n",
       " 'monthly_3g_8',\n",
       " 'sachet_3g_6',\n",
       " 'sachet_3g_7',\n",
       " 'sachet_3g_8',\n",
       " 'aon',\n",
       " 'aug_vbc_3g',\n",
       " 'jul_vbc_3g',\n",
       " 'jun_vbc_3g',\n",
       " 'night6_0.0',\n",
       " 'night6_1.0',\n",
       " 'night7_0.0',\n",
       " 'night7_1.0',\n",
       " 'night8_0.0',\n",
       " 'night8_1.0',\n",
       " 'fb6_0.0',\n",
       " 'fb6_1.0',\n",
       " 'fb7_0.0',\n",
       " 'fb7_1.0',\n",
       " 'fb8_0.0',\n",
       " 'fb8_1.0',\n",
       " 'total_rech_data_amt_6',\n",
       " 'total_rech_data_amt_7',\n",
       " 'total_rech_data_amt_8',\n",
       " 'churn',\n",
       " 'rech_days_left_6',\n",
       " 'rech_days_left_7',\n",
       " 'rech_days_left_8']"
      ]
     },
     "execution_count": 69,
     "metadata": {},
     "output_type": "execute_result"
    }
   ],
   "source": [
    "# Importing required packages for visualization\n",
    "from IPython.display import Image  \n",
    "from sklearn.externals.six import StringIO  \n",
    "from sklearn.tree import export_graphviz\n",
    "import pydotplus, graphviz\n",
    "\n",
    "# Putting features\n",
    "features = list(telecom.columns[1:])\n",
    "features"
   ]
  },
  {
   "cell_type": "code",
   "execution_count": 70,
   "metadata": {},
   "outputs": [
    {
     "data": {
      "image/png": "[encoded data removed]",
      "text/plain": [
       "<IPython.core.display.Image object>"
      ]
     },
     "execution_count": 70,
     "metadata": {},
     "output_type": "execute_result"
    }
   ],
   "source": [
    "# plotting tree with max_depth=3\n",
    "dot_data = StringIO()  \n",
    "export_graphviz(dt_default, out_file=dot_data,\n",
    "                feature_names=features, filled=True,rounded=True)\n",
    "\n",
    "graph = pydotplus.graph_from_dot_data(dot_data.getvalue())  \n",
    "Image(graph.create_png())"
   ]
  },
  {
   "cell_type": "code",
   "execution_count": 71,
   "metadata": {},
   "outputs": [
    {
     "data": {
      "text/plain": [
       "GridSearchCV(cv=5, error_score='raise-deprecating',\n",
       "             estimator=DecisionTreeClassifier(class_weight=None,\n",
       "                                              criterion='gini', max_depth=None,\n",
       "                                              max_features=None,\n",
       "                                              max_leaf_nodes=None,\n",
       "                                              min_impurity_decrease=0.0,\n",
       "                                              min_impurity_split=None,\n",
       "                                              min_samples_leaf=1,\n",
       "                                              min_samples_split=2,\n",
       "                                              min_weight_fraction_leaf=0.0,\n",
       "                                              presort=False, random_state=100,\n",
       "                                              splitter='best'),\n",
       "             iid='warn', n_jobs=None, param_grid={'max_depth': range(1, 40)},\n",
       "             pre_dispatch='2*n_jobs', refit=True, return_train_score=True,\n",
       "             scoring='accuracy', verbose=0)"
      ]
     },
     "execution_count": 71,
     "metadata": {},
     "output_type": "execute_result"
    }
   ],
   "source": [
    "# GridSearchCV to find optimal max_depth\n",
    "from sklearn.model_selection import KFold\n",
    "from sklearn.model_selection import GridSearchCV\n",
    "\n",
    "\n",
    "# specify number of folds for k-fold CV\n",
    "n_folds = 5\n",
    "\n",
    "# parameters to build the model on\n",
    "parameters = {'max_depth': range(1, 40)}\n",
    "\n",
    "# instantiate the model\n",
    "dtree = DecisionTreeClassifier(criterion = \"gini\", \n",
    "                               random_state = 100)\n",
    "\n",
    "# fit tree on training data\n",
    "tree = GridSearchCV(dtree, parameters, cv=n_folds,return_train_score=True,scoring=\"accuracy\")\n",
    "\n",
    "tree.fit(X_train, y_train)"
   ]
  },
  {
   "cell_type": "code",
   "execution_count": 72,
   "metadata": {},
   "outputs": [
    {
     "data": {
      "text/html": [
       "<div>\n",
       "<style scoped>\n",
       "    .dataframe tbody tr th:only-of-type {\n",
       "        vertical-align: middle;\n",
       "    }\n",
       "\n",
       "    .dataframe tbody tr th {\n",
       "        vertical-align: top;\n",
       "    }\n",
       "\n",
       "    .dataframe thead th {\n",
       "        text-align: right;\n",
       "    }\n",
       "</style>\n",
       "<table border=\"1\" class=\"dataframe\">\n",
       "  <thead>\n",
       "    <tr style=\"text-align: right;\">\n",
       "      <th></th>\n",
       "      <th>mean_fit_time</th>\n",
       "      <th>std_fit_time</th>\n",
       "      <th>mean_score_time</th>\n",
       "      <th>std_score_time</th>\n",
       "      <th>param_max_depth</th>\n",
       "      <th>params</th>\n",
       "      <th>split0_test_score</th>\n",
       "      <th>split1_test_score</th>\n",
       "      <th>split2_test_score</th>\n",
       "      <th>split3_test_score</th>\n",
       "      <th>...</th>\n",
       "      <th>mean_test_score</th>\n",
       "      <th>std_test_score</th>\n",
       "      <th>rank_test_score</th>\n",
       "      <th>split0_train_score</th>\n",
       "      <th>split1_train_score</th>\n",
       "      <th>split2_train_score</th>\n",
       "      <th>split3_train_score</th>\n",
       "      <th>split4_train_score</th>\n",
       "      <th>mean_train_score</th>\n",
       "      <th>std_train_score</th>\n",
       "    </tr>\n",
       "  </thead>\n",
       "  <tbody>\n",
       "    <tr>\n",
       "      <th>0</th>\n",
       "      <td>0.11</td>\n",
       "      <td>0.01</td>\n",
       "      <td>0.00</td>\n",
       "      <td>0.00</td>\n",
       "      <td>1</td>\n",
       "      <td>{'max_depth': 1}</td>\n",
       "      <td>0.94</td>\n",
       "      <td>0.95</td>\n",
       "      <td>0.95</td>\n",
       "      <td>0.94</td>\n",
       "      <td>...</td>\n",
       "      <td>0.94</td>\n",
       "      <td>0.00</td>\n",
       "      <td>5</td>\n",
       "      <td>0.94</td>\n",
       "      <td>0.95</td>\n",
       "      <td>0.95</td>\n",
       "      <td>0.95</td>\n",
       "      <td>0.95</td>\n",
       "      <td>0.95</td>\n",
       "      <td>0.00</td>\n",
       "    </tr>\n",
       "    <tr>\n",
       "      <th>1</th>\n",
       "      <td>0.21</td>\n",
       "      <td>0.01</td>\n",
       "      <td>0.00</td>\n",
       "      <td>0.00</td>\n",
       "      <td>2</td>\n",
       "      <td>{'max_depth': 2}</td>\n",
       "      <td>0.95</td>\n",
       "      <td>0.95</td>\n",
       "      <td>0.95</td>\n",
       "      <td>0.95</td>\n",
       "      <td>...</td>\n",
       "      <td>0.95</td>\n",
       "      <td>0.00</td>\n",
       "      <td>2</td>\n",
       "      <td>0.95</td>\n",
       "      <td>0.95</td>\n",
       "      <td>0.95</td>\n",
       "      <td>0.95</td>\n",
       "      <td>0.95</td>\n",
       "      <td>0.95</td>\n",
       "      <td>0.00</td>\n",
       "    </tr>\n",
       "    <tr>\n",
       "      <th>2</th>\n",
       "      <td>0.33</td>\n",
       "      <td>0.05</td>\n",
       "      <td>0.00</td>\n",
       "      <td>0.00</td>\n",
       "      <td>3</td>\n",
       "      <td>{'max_depth': 3}</td>\n",
       "      <td>0.95</td>\n",
       "      <td>0.95</td>\n",
       "      <td>0.95</td>\n",
       "      <td>0.95</td>\n",
       "      <td>...</td>\n",
       "      <td>0.95</td>\n",
       "      <td>0.00</td>\n",
       "      <td>1</td>\n",
       "      <td>0.95</td>\n",
       "      <td>0.95</td>\n",
       "      <td>0.95</td>\n",
       "      <td>0.95</td>\n",
       "      <td>0.95</td>\n",
       "      <td>0.95</td>\n",
       "      <td>0.00</td>\n",
       "    </tr>\n",
       "    <tr>\n",
       "      <th>3</th>\n",
       "      <td>0.63</td>\n",
       "      <td>0.22</td>\n",
       "      <td>0.00</td>\n",
       "      <td>0.00</td>\n",
       "      <td>4</td>\n",
       "      <td>{'max_depth': 4}</td>\n",
       "      <td>0.95</td>\n",
       "      <td>0.95</td>\n",
       "      <td>0.95</td>\n",
       "      <td>0.95</td>\n",
       "      <td>...</td>\n",
       "      <td>0.95</td>\n",
       "      <td>0.00</td>\n",
       "      <td>3</td>\n",
       "      <td>0.95</td>\n",
       "      <td>0.95</td>\n",
       "      <td>0.95</td>\n",
       "      <td>0.95</td>\n",
       "      <td>0.95</td>\n",
       "      <td>0.95</td>\n",
       "      <td>0.00</td>\n",
       "    </tr>\n",
       "    <tr>\n",
       "      <th>4</th>\n",
       "      <td>0.48</td>\n",
       "      <td>0.00</td>\n",
       "      <td>0.00</td>\n",
       "      <td>0.00</td>\n",
       "      <td>5</td>\n",
       "      <td>{'max_depth': 5}</td>\n",
       "      <td>0.95</td>\n",
       "      <td>0.94</td>\n",
       "      <td>0.94</td>\n",
       "      <td>0.95</td>\n",
       "      <td>...</td>\n",
       "      <td>0.95</td>\n",
       "      <td>0.00</td>\n",
       "      <td>4</td>\n",
       "      <td>0.95</td>\n",
       "      <td>0.95</td>\n",
       "      <td>0.95</td>\n",
       "      <td>0.95</td>\n",
       "      <td>0.95</td>\n",
       "      <td>0.95</td>\n",
       "      <td>0.00</td>\n",
       "    </tr>\n",
       "  </tbody>\n",
       "</table>\n",
       "<p>5 rows × 21 columns</p>\n",
       "</div>"
      ],
      "text/plain": [
       "   mean_fit_time  std_fit_time  mean_score_time  std_score_time  \\\n",
       "0           0.11          0.01             0.00            0.00   \n",
       "1           0.21          0.01             0.00            0.00   \n",
       "2           0.33          0.05             0.00            0.00   \n",
       "3           0.63          0.22             0.00            0.00   \n",
       "4           0.48          0.00             0.00            0.00   \n",
       "\n",
       "  param_max_depth            params  split0_test_score  split1_test_score  \\\n",
       "0               1  {'max_depth': 1}               0.94               0.95   \n",
       "1               2  {'max_depth': 2}               0.95               0.95   \n",
       "2               3  {'max_depth': 3}               0.95               0.95   \n",
       "3               4  {'max_depth': 4}               0.95               0.95   \n",
       "4               5  {'max_depth': 5}               0.95               0.94   \n",
       "\n",
       "   split2_test_score  split3_test_score  ...  mean_test_score  std_test_score  \\\n",
       "0               0.95               0.94  ...             0.94            0.00   \n",
       "1               0.95               0.95  ...             0.95            0.00   \n",
       "2               0.95               0.95  ...             0.95            0.00   \n",
       "3               0.95               0.95  ...             0.95            0.00   \n",
       "4               0.94               0.95  ...             0.95            0.00   \n",
       "\n",
       "   rank_test_score  split0_train_score  split1_train_score  \\\n",
       "0                5                0.94                0.95   \n",
       "1                2                0.95                0.95   \n",
       "2                1                0.95                0.95   \n",
       "3                3                0.95                0.95   \n",
       "4                4                0.95                0.95   \n",
       "\n",
       "   split2_train_score  split3_train_score  split4_train_score  \\\n",
       "0                0.95                0.95                0.95   \n",
       "1                0.95                0.95                0.95   \n",
       "2                0.95                0.95                0.95   \n",
       "3                0.95                0.95                0.95   \n",
       "4                0.95                0.95                0.95   \n",
       "\n",
       "   mean_train_score  std_train_score  \n",
       "0              0.95             0.00  \n",
       "1              0.95             0.00  \n",
       "2              0.95             0.00  \n",
       "3              0.95             0.00  \n",
       "4              0.95             0.00  \n",
       "\n",
       "[5 rows x 21 columns]"
      ]
     },
     "execution_count": 72,
     "metadata": {},
     "output_type": "execute_result"
    }
   ],
   "source": [
    "# scores of GridSearch CV\n",
    "scores = tree.cv_results_\n",
    "pd.DataFrame(scores).head()"
   ]
  },
  {
   "cell_type": "code",
   "execution_count": 73,
   "metadata": {},
   "outputs": [
    {
     "data": {
      "image/png": "[encoded data removed]",
      "text/plain": [
       "<Figure size 432x288 with 1 Axes>"
      ]
     },
     "metadata": {},
     "output_type": "display_data"
    }
   ],
   "source": [
    "# plotting accuracies with max_depth\n",
    "plt.figure()\n",
    "plt.plot(scores[\"param_max_depth\"], \n",
    "         scores[\"mean_train_score\"], \n",
    "         label=\"training accuracy\")\n",
    "plt.plot(scores[\"param_max_depth\"], \n",
    "         scores[\"mean_test_score\"], \n",
    "         label=\"test accuracy\")\n",
    "plt.xlabel(\"max_depth\")\n",
    "plt.ylabel(\"Accuracy\")\n",
    "plt.legend()\n",
    "plt.show()\n"
   ]
  },
  {
   "cell_type": "code",
   "execution_count": 74,
   "metadata": {},
   "outputs": [
    {
     "data": {
      "text/plain": [
       "GridSearchCV(cv=5, error_score='raise-deprecating',\n",
       "             estimator=DecisionTreeClassifier(class_weight=None,\n",
       "                                              criterion='gini', max_depth=None,\n",
       "                                              max_features=None,\n",
       "                                              max_leaf_nodes=None,\n",
       "                                              min_impurity_decrease=0.0,\n",
       "                                              min_impurity_split=None,\n",
       "                                              min_samples_leaf=1,\n",
       "                                              min_samples_split=2,\n",
       "                                              min_weight_fraction_leaf=0.0,\n",
       "                                              presort=False, random_state=100,\n",
       "                                              splitter='best'),\n",
       "             iid='warn', n_jobs=None,\n",
       "             param_grid={'min_samples_leaf': range(5, 200, 20)},\n",
       "             pre_dispatch='2*n_jobs', refit=True, return_train_score=True,\n",
       "             scoring='accuracy', verbose=0)"
      ]
     },
     "execution_count": 74,
     "metadata": {},
     "output_type": "execute_result"
    }
   ],
   "source": [
    "# GridSearchCV to find optimal max_depth\n",
    "from sklearn.model_selection import KFold\n",
    "from sklearn.model_selection import GridSearchCV\n",
    "\n",
    "\n",
    "# specify number of folds for k-fold CV\n",
    "n_folds = 5\n",
    "\n",
    "# parameters to build the model on\n",
    "parameters = {'min_samples_leaf': range(5, 200, 20)}\n",
    "\n",
    "# instantiate the model\n",
    "dtree = DecisionTreeClassifier(criterion = \"gini\", \n",
    "                               random_state = 100)\n",
    "\n",
    "# fit tree on training data\n",
    "tree = GridSearchCV(dtree, parameters, \n",
    "                    cv=n_folds, return_train_score=True,\n",
    "                   scoring=\"accuracy\")\n",
    "tree.fit(X_train, y_train)"
   ]
  },
  {
   "cell_type": "code",
   "execution_count": 75,
   "metadata": {},
   "outputs": [
    {
     "data": {
      "text/html": [
       "<div>\n",
       "<style scoped>\n",
       "    .dataframe tbody tr th:only-of-type {\n",
       "        vertical-align: middle;\n",
       "    }\n",
       "\n",
       "    .dataframe tbody tr th {\n",
       "        vertical-align: top;\n",
       "    }\n",
       "\n",
       "    .dataframe thead th {\n",
       "        text-align: right;\n",
       "    }\n",
       "</style>\n",
       "<table border=\"1\" class=\"dataframe\">\n",
       "  <thead>\n",
       "    <tr style=\"text-align: right;\">\n",
       "      <th></th>\n",
       "      <th>mean_fit_time</th>\n",
       "      <th>std_fit_time</th>\n",
       "      <th>mean_score_time</th>\n",
       "      <th>std_score_time</th>\n",
       "      <th>param_min_samples_leaf</th>\n",
       "      <th>params</th>\n",
       "      <th>split0_test_score</th>\n",
       "      <th>split1_test_score</th>\n",
       "      <th>split2_test_score</th>\n",
       "      <th>split3_test_score</th>\n",
       "      <th>...</th>\n",
       "      <th>mean_test_score</th>\n",
       "      <th>std_test_score</th>\n",
       "      <th>rank_test_score</th>\n",
       "      <th>split0_train_score</th>\n",
       "      <th>split1_train_score</th>\n",
       "      <th>split2_train_score</th>\n",
       "      <th>split3_train_score</th>\n",
       "      <th>split4_train_score</th>\n",
       "      <th>mean_train_score</th>\n",
       "      <th>std_train_score</th>\n",
       "    </tr>\n",
       "  </thead>\n",
       "  <tbody>\n",
       "    <tr>\n",
       "      <th>0</th>\n",
       "      <td>2.70</td>\n",
       "      <td>0.22</td>\n",
       "      <td>0.01</td>\n",
       "      <td>0.00</td>\n",
       "      <td>5</td>\n",
       "      <td>{'min_samples_leaf': 5}</td>\n",
       "      <td>0.94</td>\n",
       "      <td>0.93</td>\n",
       "      <td>0.93</td>\n",
       "      <td>0.93</td>\n",
       "      <td>...</td>\n",
       "      <td>0.93</td>\n",
       "      <td>0.00</td>\n",
       "      <td>10</td>\n",
       "      <td>0.98</td>\n",
       "      <td>0.98</td>\n",
       "      <td>0.98</td>\n",
       "      <td>0.98</td>\n",
       "      <td>0.98</td>\n",
       "      <td>0.98</td>\n",
       "      <td>0.00</td>\n",
       "    </tr>\n",
       "    <tr>\n",
       "      <th>1</th>\n",
       "      <td>2.30</td>\n",
       "      <td>0.50</td>\n",
       "      <td>0.01</td>\n",
       "      <td>0.00</td>\n",
       "      <td>25</td>\n",
       "      <td>{'min_samples_leaf': 25}</td>\n",
       "      <td>0.95</td>\n",
       "      <td>0.95</td>\n",
       "      <td>0.95</td>\n",
       "      <td>0.95</td>\n",
       "      <td>...</td>\n",
       "      <td>0.95</td>\n",
       "      <td>0.00</td>\n",
       "      <td>8</td>\n",
       "      <td>0.96</td>\n",
       "      <td>0.96</td>\n",
       "      <td>0.96</td>\n",
       "      <td>0.96</td>\n",
       "      <td>0.96</td>\n",
       "      <td>0.96</td>\n",
       "      <td>0.00</td>\n",
       "    </tr>\n",
       "    <tr>\n",
       "      <th>2</th>\n",
       "      <td>1.95</td>\n",
       "      <td>0.33</td>\n",
       "      <td>0.01</td>\n",
       "      <td>0.00</td>\n",
       "      <td>45</td>\n",
       "      <td>{'min_samples_leaf': 45}</td>\n",
       "      <td>0.95</td>\n",
       "      <td>0.95</td>\n",
       "      <td>0.94</td>\n",
       "      <td>0.94</td>\n",
       "      <td>...</td>\n",
       "      <td>0.95</td>\n",
       "      <td>0.00</td>\n",
       "      <td>9</td>\n",
       "      <td>0.96</td>\n",
       "      <td>0.96</td>\n",
       "      <td>0.96</td>\n",
       "      <td>0.95</td>\n",
       "      <td>0.95</td>\n",
       "      <td>0.95</td>\n",
       "      <td>0.00</td>\n",
       "    </tr>\n",
       "    <tr>\n",
       "      <th>3</th>\n",
       "      <td>2.23</td>\n",
       "      <td>0.33</td>\n",
       "      <td>0.01</td>\n",
       "      <td>0.00</td>\n",
       "      <td>65</td>\n",
       "      <td>{'min_samples_leaf': 65}</td>\n",
       "      <td>0.95</td>\n",
       "      <td>0.95</td>\n",
       "      <td>0.95</td>\n",
       "      <td>0.95</td>\n",
       "      <td>...</td>\n",
       "      <td>0.95</td>\n",
       "      <td>0.00</td>\n",
       "      <td>3</td>\n",
       "      <td>0.95</td>\n",
       "      <td>0.95</td>\n",
       "      <td>0.95</td>\n",
       "      <td>0.95</td>\n",
       "      <td>0.95</td>\n",
       "      <td>0.95</td>\n",
       "      <td>0.00</td>\n",
       "    </tr>\n",
       "    <tr>\n",
       "      <th>4</th>\n",
       "      <td>1.70</td>\n",
       "      <td>0.16</td>\n",
       "      <td>0.00</td>\n",
       "      <td>0.00</td>\n",
       "      <td>85</td>\n",
       "      <td>{'min_samples_leaf': 85}</td>\n",
       "      <td>0.95</td>\n",
       "      <td>0.95</td>\n",
       "      <td>0.95</td>\n",
       "      <td>0.95</td>\n",
       "      <td>...</td>\n",
       "      <td>0.95</td>\n",
       "      <td>0.00</td>\n",
       "      <td>6</td>\n",
       "      <td>0.95</td>\n",
       "      <td>0.95</td>\n",
       "      <td>0.95</td>\n",
       "      <td>0.95</td>\n",
       "      <td>0.95</td>\n",
       "      <td>0.95</td>\n",
       "      <td>0.00</td>\n",
       "    </tr>\n",
       "  </tbody>\n",
       "</table>\n",
       "<p>5 rows × 21 columns</p>\n",
       "</div>"
      ],
      "text/plain": [
       "   mean_fit_time  std_fit_time  mean_score_time  std_score_time  \\\n",
       "0           2.70          0.22             0.01            0.00   \n",
       "1           2.30          0.50             0.01            0.00   \n",
       "2           1.95          0.33             0.01            0.00   \n",
       "3           2.23          0.33             0.01            0.00   \n",
       "4           1.70          0.16             0.00            0.00   \n",
       "\n",
       "  param_min_samples_leaf                    params  split0_test_score  \\\n",
       "0                      5   {'min_samples_leaf': 5}               0.94   \n",
       "1                     25  {'min_samples_leaf': 25}               0.95   \n",
       "2                     45  {'min_samples_leaf': 45}               0.95   \n",
       "3                     65  {'min_samples_leaf': 65}               0.95   \n",
       "4                     85  {'min_samples_leaf': 85}               0.95   \n",
       "\n",
       "   split1_test_score  split2_test_score  split3_test_score  ...  \\\n",
       "0               0.93               0.93               0.93  ...   \n",
       "1               0.95               0.95               0.95  ...   \n",
       "2               0.95               0.94               0.94  ...   \n",
       "3               0.95               0.95               0.95  ...   \n",
       "4               0.95               0.95               0.95  ...   \n",
       "\n",
       "   mean_test_score  std_test_score  rank_test_score  split0_train_score  \\\n",
       "0             0.93            0.00               10                0.98   \n",
       "1             0.95            0.00                8                0.96   \n",
       "2             0.95            0.00                9                0.96   \n",
       "3             0.95            0.00                3                0.95   \n",
       "4             0.95            0.00                6                0.95   \n",
       "\n",
       "   split1_train_score  split2_train_score  split3_train_score  \\\n",
       "0                0.98                0.98                0.98   \n",
       "1                0.96                0.96                0.96   \n",
       "2                0.96                0.96                0.95   \n",
       "3                0.95                0.95                0.95   \n",
       "4                0.95                0.95                0.95   \n",
       "\n",
       "   split4_train_score  mean_train_score  std_train_score  \n",
       "0                0.98              0.98             0.00  \n",
       "1                0.96              0.96             0.00  \n",
       "2                0.95              0.95             0.00  \n",
       "3                0.95              0.95             0.00  \n",
       "4                0.95              0.95             0.00  \n",
       "\n",
       "[5 rows x 21 columns]"
      ]
     },
     "execution_count": 75,
     "metadata": {},
     "output_type": "execute_result"
    }
   ],
   "source": [
    "# scores of GridSearch CV\n",
    "scores = tree.cv_results_\n",
    "pd.DataFrame(scores).head()"
   ]
  },
  {
   "cell_type": "code",
   "execution_count": 76,
   "metadata": {},
   "outputs": [
    {
     "data": {
      "image/png": "[encoded data removed]",
      "text/plain": [
       "<Figure size 432x288 with 1 Axes>"
      ]
     },
     "metadata": {},
     "output_type": "display_data"
    }
   ],
   "source": [
    "# plotting accuracies with min_samples_leaf\n",
    "plt.figure()\n",
    "plt.plot(scores[\"param_min_samples_leaf\"], \n",
    "         scores[\"mean_train_score\"], \n",
    "         label=\"training accuracy\")\n",
    "plt.plot(scores[\"param_min_samples_leaf\"], \n",
    "         scores[\"mean_test_score\"], \n",
    "         label=\"test accuracy\")\n",
    "plt.xlabel(\"min_samples_leaf\")\n",
    "plt.ylabel(\"Accuracy\")\n",
    "plt.legend()\n",
    "plt.show()\n"
   ]
  },
  {
   "cell_type": "code",
   "execution_count": null,
   "metadata": {},
   "outputs": [],
   "source": [
    "# GridSearchCV to find optimal min_samples_split\n",
    "from sklearn.model_selection import KFold\n",
    "from sklearn.model_selection import GridSearchCV\n",
    "\n",
    "\n",
    "# specify number of folds for k-fold CV\n",
    "n_folds = 5\n",
    "\n",
    "# parameters to build the model on\n",
    "parameters = {'min_samples_split': range(5, 200, 20)}\n",
    "\n",
    "# instantiate the model\n",
    "dtree = DecisionTreeClassifier(criterion = \"gini\", \n",
    "                               random_state = 100)\n",
    "\n",
    "# fit tree on training data\n",
    "tree = GridSearchCV(dtree, parameters, \n",
    "                    cv=n_folds, return_train_score=True,\n",
    "                   scoring=\"accuracy\")\n",
    "tree.fit(X_train, y_train)"
   ]
  },
  {
   "cell_type": "code",
   "execution_count": null,
   "metadata": {},
   "outputs": [],
   "source": [
    "# scores of GridSearch CV\n",
    "scores = tree.cv_results_\n",
    "pd.DataFrame(scores).head()"
   ]
  },
  {
   "cell_type": "code",
   "execution_count": null,
   "metadata": {},
   "outputs": [],
   "source": [
    "# plotting accuracies with min_samples_leaf\n",
    "plt.figure()\n",
    "plt.plot(scores[\"param_min_samples_split\"], \n",
    "         scores[\"mean_train_score\"], \n",
    "         label=\"training accuracy\")\n",
    "plt.plot(scores[\"param_min_samples_split\"], \n",
    "         scores[\"mean_test_score\"], \n",
    "         label=\"test accuracy\")\n",
    "plt.xlabel(\"min_samples_split\")\n",
    "plt.ylabel(\"Accuracy\")\n",
    "plt.legend()\n",
    "plt.show()"
   ]
  },
  {
   "cell_type": "markdown",
   "metadata": {},
   "source": [
    "#### Grid Search to Find Optimal Hyperparameters"
   ]
  },
  {
   "cell_type": "code",
   "execution_count": null,
   "metadata": {},
   "outputs": [],
   "source": [
    "# Create the parameter grid \n",
    "param_grid = {\n",
    "    'max_depth': range(5, 15, 5),\n",
    "    'min_samples_leaf': range(50, 150, 50),\n",
    "    'min_samples_split': range(50, 150, 50),\n",
    "    'criterion': [\"entropy\", \"gini\"]\n",
    "}\n",
    "\n",
    "n_folds = 5\n",
    "\n",
    "# Instantiate the grid search model\n",
    "dtree = DecisionTreeClassifier()\n",
    "grid_search = GridSearchCV(estimator = dtree, param_grid = param_grid, \n",
    "                          cv = n_folds, verbose = 1,return_train_score=True)\n",
    "\n",
    "# Fit the grid search to the data\n",
    "grid_search.fit(X_train,y_train)"
   ]
  },
  {
   "cell_type": "code",
   "execution_count": null,
   "metadata": {},
   "outputs": [],
   "source": [
    "# cv results\n",
    "cv_results = pd.DataFrame(grid_search.cv_results_)\n",
    "cv_results"
   ]
  },
  {
   "cell_type": "code",
   "execution_count": null,
   "metadata": {},
   "outputs": [],
   "source": [
    "# printing the optimal accuracy score and hyperparameters\n",
    "print(\"best accuracy\", grid_search.best_score_)\n",
    "print(grid_search.best_estimator_)"
   ]
  },
  {
   "cell_type": "markdown",
   "metadata": {},
   "source": [
    "#### Running the model with best parameters obtained from grid search."
   ]
  },
  {
   "cell_type": "code",
   "execution_count": null,
   "metadata": {},
   "outputs": [],
   "source": [
    "# model with optimal hyperparameters\n",
    "clf_gini = DecisionTreeClassifier(criterion = \"gini\", \n",
    "                                  random_state = 100,\n",
    "                                  max_depth=10, \n",
    "                                  min_samples_leaf=50,\n",
    "                                  min_samples_split=50)\n",
    "clf_gini.fit(X_train, y_train)"
   ]
  },
  {
   "cell_type": "code",
   "execution_count": null,
   "metadata": {},
   "outputs": [],
   "source": [
    "# accuracy score\n",
    "clf_gini.score(X_test,y_test)"
   ]
  },
  {
   "cell_type": "code",
   "execution_count": null,
   "metadata": {},
   "outputs": [],
   "source": [
    "# plotting the tree\n",
    "dot_data = StringIO()  \n",
    "export_graphviz(clf_gini, out_file=dot_data,feature_names=features,filled=True,rounded=True)\n",
    "\n",
    "graph = pydotplus.graph_from_dot_data(dot_data.getvalue())  \n",
    "Image(graph.create_png())"
   ]
  },
  {
   "cell_type": "code",
   "execution_count": null,
   "metadata": {},
   "outputs": [],
   "source": [
    "# tree with max_depth = 3\n",
    "clf_gini = DecisionTreeClassifier(criterion = \"gini\", \n",
    "                                  random_state = 100,\n",
    "                                  max_depth=3, \n",
    "                                  min_samples_leaf=50,\n",
    "                                  min_samples_split=50)\n",
    "clf_gini.fit(X_train, y_train)\n",
    "\n",
    "# score\n",
    "print(clf_gini.score(X_test,y_test))"
   ]
  },
  {
   "cell_type": "code",
   "execution_count": null,
   "metadata": {},
   "outputs": [],
   "source": [
    "# plotting tree with max_depth=3\n",
    "dot_data = StringIO()  \n",
    "export_graphviz(clf_gini, out_file=dot_data,feature_names=features,filled=True,rounded=True)\n",
    "\n",
    "graph = pydotplus.graph_from_dot_data(dot_data.getvalue())  \n",
    "Image(graph.create_png())"
   ]
  },
  {
   "cell_type": "code",
   "execution_count": null,
   "metadata": {},
   "outputs": [],
   "source": [
    "# classification metrics\n",
    "from sklearn.metrics import classification_report,confusion_matrix\n",
    "y_pred = clf_gini.predict(X_test)\n",
    "print(classification_report(y_test, y_pred))"
   ]
  },
  {
   "cell_type": "code",
   "execution_count": null,
   "metadata": {},
   "outputs": [],
   "source": [
    "# confusion matrix\n",
    "print(confusion_matrix(y_test,y_pred))"
   ]
  },
  {
   "cell_type": "code",
   "execution_count": null,
   "metadata": {},
   "outputs": [],
   "source": []
  }
 ],
 "metadata": {
  "kernelspec": {
   "display_name": "Python 3",
   "language": "python",
   "name": "python3"
  },
  "language_info": {
   "codemirror_mode": {
    "name": "ipython",
    "version": 3
   },
   "file_extension": ".py",
   "mimetype": "text/x-python",
   "name": "python",
   "nbconvert_exporter": "python",
   "pygments_lexer": "ipython3",
   "version": "3.7.3"
  }
 },
 "nbformat": 4,
 "nbformat_minor": 2
}
