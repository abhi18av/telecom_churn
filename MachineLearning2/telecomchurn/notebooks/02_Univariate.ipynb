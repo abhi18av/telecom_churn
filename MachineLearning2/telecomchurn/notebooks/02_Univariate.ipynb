{
 "cells": [
  {
   "cell_type": "markdown",
   "source": [
    "## Data Analysis"
   ],
   "metadata": {
    "collapsed": false
   }
  },
  {
   "cell_type": "markdown",
   "source": [
    "## Univariate Analysis\n"
   ],
   "metadata": {
    "collapsed": false
   }
  },
  {
   "cell_type": "code",
   "execution_count": null,
   "outputs": [],
   "source": [
    "# # Load csv data file\n",
    "telecom_orig = pd.read_csv('../data/processed/01_EDA.csv', low_memory=False)\n",
    "telecom = telecom_orig.copy()"
   ],
   "metadata": {
    "collapsed": false,
    "pycharm": {
     "name": "#%%\n"
    }
   }
  },
  {
   "cell_type": "markdown",
   "source": [
    "##### Dependent Variable: check data imbalance"
   ],
   "metadata": {
    "collapsed": false
   }
  },
  {
   "cell_type": "code",
   "execution_count": null,
   "outputs": [],
   "source": [
    "#checking whether data is imbalanced or not\n",
    "churn  = telecom[\"churn\"].value_counts()\n",
    "churn_rate = churn[1]/(churn[1] + churn[0])\n",
    "\n",
    "print(\"Total Churn Count     = {}\".format(churn[1]))\n",
    "print(\"Total Not-Churn Count = {}\".format(churn[0]))\n",
    "print(\"Churn Rate            = {:.2f}%\".format(churn_rate*100))\n",
    "print_ln()"
   ],
   "metadata": {
    "collapsed": false,
    "pycharm": {
     "name": "#%%\n"
    }
   }
  },
  {
   "cell_type": "markdown",
   "source": [
    "### Data is highly imbalanced, we need to balance it before we can create the model"
   ],
   "metadata": {
    "collapsed": false
   }
  },
  {
   "cell_type": "markdown",
   "source": [
    "#### Univariate Analysis on 'total_rech_num_6', 'total_rech_num_7', 'total_rech_num_8'"
   ],
   "metadata": {
    "collapsed": false
   }
  },
  {
   "cell_type": "code",
   "execution_count": null,
   "outputs": [],
   "source": [
    "df_not_churn = telecom[telecom[\"churn\"] == 0]\n",
    "df_churn     = telecom[telecom[\"churn\"] == 1]"
   ],
   "metadata": {
    "collapsed": false,
    "pycharm": {
     "name": "#%%\n"
    }
   }
  },
  {
   "cell_type": "code",
   "execution_count": null,
   "outputs": [],
   "source": [
    "#calculation of mean for churn or non churn\n",
    "print(\"Mean:\")\n",
    "print(np.mean(df_not_churn[\"total_rech_num_6\"]))\n",
    "print(np.mean(df_churn[\"total_rech_num_6\"]))\n",
    "\n",
    "print(\"Median:\")\n",
    "print(np.median(df_not_churn[\"total_rech_num_6\"]))\n",
    "print(np.median(df_churn[\"total_rech_num_6\"]))\n",
    "\n",
    "print(\"Quantiles:\")\n",
    "print(np.percentile(df_not_churn[\"total_rech_num_6\"],np.arange(0,100,25)))\n",
    "print(np.percentile(df_churn[\"total_rech_num_6\"],np.arange(0,100,25)))"
   ],
   "metadata": {
    "collapsed": false,
    "pycharm": {
     "name": "#%%\n"
    }
   }
  },
  {
   "cell_type": "code",
   "execution_count": null,
   "outputs": [],
   "source": [
    "sns.set_style('whitegrid')\n",
    "sns.FacetGrid(telecom,hue='churn',size=6).map(sns.distplot,\"total_rech_num_6\").add_legend()\n",
    "\n",
    "#its difficult to know about the churning rate based on total_rech_num_6 feature as overlaped data."
   ],
   "metadata": {
    "collapsed": false,
    "pycharm": {
     "name": "#%%\n"
    }
   }
  },
  {
   "cell_type": "code",
   "execution_count": null,
   "outputs": [],
   "source": [
    "print(\"Mean:\")\n",
    "print(np.mean(df_not_churn[\"total_rech_num_7\"]))\n",
    "print(np.mean(df_churn[\"total_rech_num_7\"]))\n",
    "\n",
    "print(\"Median:\")\n",
    "print(np.median(df_not_churn[\"total_rech_num_7\"]))\n",
    "print(np.median(df_churn[\"total_rech_num_7\"]))\n",
    "\n",
    "print(\"Quantiles:\")\n",
    "print(np.percentile(df_not_churn[\"total_rech_num_7\"],np.arange(0,100,25)))\n",
    "print(np.percentile(df_churn[\"total_rech_num_7\"],np.arange(0,100,25)))"
   ],
   "metadata": {
    "collapsed": false,
    "pycharm": {
     "name": "#%%\n"
    }
   }
  },
  {
   "cell_type": "code",
   "execution_count": null,
   "outputs": [],
   "source": [
    "#feature importance of total_rech_data_7\n",
    "#now use histogram or probability density function for univiraite analysis\n",
    "#one variable analysis\n",
    "#this is important to know feature importance in classification\n",
    "sns.set_style('whitegrid')\n",
    "sns.FacetGrid(telecom,hue='churn',size=6).map(sns.distplot,\"total_rech_num_7\").add_legend()\n",
    "\n",
    "#its difficult to know about the churning rate based on total_rech_data_7 feature as overlaped data."
   ],
   "metadata": {
    "collapsed": false,
    "pycharm": {
     "name": "#%%\n"
    }
   }
  },
  {
   "cell_type": "code",
   "execution_count": null,
   "outputs": [],
   "source": [
    "print(\"Mean:\")\n",
    "print(np.mean(df_not_churn[\"total_rech_num_8\"]))\n",
    "print(np.mean(df_churn[\"total_rech_num_8\"]))\n",
    "\n",
    "print(\"Median:\")\n",
    "print(np.median(df_not_churn[\"total_rech_num_8\"]))\n",
    "print(np.median(df_churn[\"total_rech_num_8\"]))\n",
    "\n",
    "print(\"Quantiles:\")\n",
    "print(np.percentile(df_not_churn[\"total_rech_num_8\"],np.arange(0,100,25)))\n",
    "print(np.percentile(df_churn[\"total_rech_num_8\"],np.arange(0,100,25)))"
   ],
   "metadata": {
    "collapsed": false,
    "pycharm": {
     "name": "#%%\n"
    }
   }
  },
  {
   "cell_type": "markdown",
   "source": [
    "### Now we use histogram or probability density function for univariate analysis, to know feature importance in classification"
   ],
   "metadata": {
    "collapsed": false
   }
  },
  {
   "cell_type": "code",
   "execution_count": null,
   "outputs": [],
   "source": [
    "sns.FacetGrid(telecom,hue='churn',size=6).map(sns.distplot,\"total_rech_num_8\").add_legend()"
   ],
   "metadata": {
    "collapsed": false,
    "pycharm": {
     "name": "#%%\n"
    }
   }
  },
  {
   "cell_type": "code",
   "execution_count": null,
   "outputs": [],
   "source": [
    "sns.FacetGrid(telecom,hue='churn',size=5).map(plt.scatter,\"total_rech_num_6\",\"total_rech_num_7\").add_legend()"
   ],
   "metadata": {
    "collapsed": false,
    "pycharm": {
     "name": "#%%\n"
    }
   }
  },
  {
   "cell_type": "code",
   "execution_count": null,
   "outputs": [],
   "source": [
    "sns.FacetGrid(telecom,hue='churn',size=5).map(plt.scatter,\"total_rech_num_7\",\"total_rech_num_8\").add_legend()"
   ],
   "metadata": {
    "collapsed": false,
    "pycharm": {
     "name": "#%%\n"
    }
   }
  },
  {
   "cell_type": "code",
   "execution_count": null,
   "outputs": [],
   "source": [
    "sns.FacetGrid(telecom,hue='churn',size=5).map(plt.scatter,\"total_rech_num_6\",\"total_rech_num_8\").add_legend()"
   ],
   "metadata": {
    "collapsed": false,
    "pycharm": {
     "name": "#%%\n"
    }
   }
  },
  {
   "cell_type": "markdown",
   "source": [
    "##### Univariate Analysis on 'total_rech_amt_6', 'total_rech_amt_7', 'total_rech_amt_8',"
   ],
   "metadata": {
    "collapsed": false
   }
  },
  {
   "cell_type": "code",
   "execution_count": null,
   "outputs": [],
   "source": [
    "print(\"Mean:\")\n",
    "print(np.mean(df_not_churn[\"total_rech_amt_6\"]))\n",
    "print(np.mean(df_churn[\"total_rech_amt_6\"]))\n",
    "\n",
    "print(\"Median:\")\n",
    "print(np.median(df_not_churn[\"total_rech_amt_6\"]))\n",
    "print(np.median(df_churn[\"total_rech_amt_6\"]))\n",
    "\n",
    "print(\"Quantiles:\")\n",
    "print(np.percentile(df_not_churn[\"total_rech_amt_6\"],np.arange(0,100,25)))\n",
    "print(np.percentile(df_churn[\"total_rech_amt_6\"],np.arange(0,100,25)))"
   ],
   "metadata": {
    "collapsed": false,
    "pycharm": {
     "name": "#%%\n"
    }
   }
  },
  {
   "cell_type": "markdown",
   "source": [
    "### Doing the  histogram or probability density function for univariate analysis on this feature"
   ],
   "metadata": {
    "collapsed": false
   }
  },
  {
   "cell_type": "code",
   "execution_count": null,
   "outputs": [],
   "source": [
    "sns.FacetGrid(telecom,hue='churn',size=6).map(sns.distplot,\"total_rech_amt_6\").add_legend()"
   ],
   "metadata": {
    "collapsed": false,
    "pycharm": {
     "name": "#%%\n"
    }
   }
  },
  {
   "cell_type": "code",
   "execution_count": null,
   "outputs": [],
   "source": [
    "print(\"Mean:\")\n",
    "print(np.mean(df_not_churn[\"total_rech_amt_7\"]))\n",
    "print(np.mean(df_churn[\"total_rech_amt_7\"]))\n",
    "\n",
    "print(\"Median:\")\n",
    "print(np.median(df_not_churn[\"total_rech_amt_7\"]))\n",
    "print(np.median(df_churn[\"total_rech_amt_7\"]))\n",
    "\n",
    "print(\"Quantiles:\")\n",
    "print(np.percentile(df_not_churn[\"total_rech_amt_7\"],np.arange(0,100,25)))\n",
    "print(np.percentile(df_churn[\"total_rech_amt_7\"],np.arange(0,100,25)))"
   ],
   "metadata": {
    "collapsed": false,
    "pycharm": {
     "name": "#%%\n"
    }
   }
  },
  {
   "cell_type": "markdown",
   "source": [
    "### Doing the  histogram or probability density function for univariate analysis on this feature"
   ],
   "metadata": {
    "collapsed": false
   }
  },
  {
   "cell_type": "code",
   "execution_count": null,
   "outputs": [],
   "source": [
    "sns.FacetGrid(telecom,hue='churn',size=6).map(sns.distplot,\"total_rech_amt_7\").add_legend()"
   ],
   "metadata": {
    "collapsed": false,
    "pycharm": {
     "name": "#%%\n"
    }
   }
  },
  {
   "cell_type": "code",
   "execution_count": null,
   "outputs": [],
   "source": [
    "print(\"Mean:\")\n",
    "print(np.mean(df_not_churn[\"total_rech_amt_8\"]))\n",
    "print(np.mean(df_churn[\"total_rech_amt_8\"]))\n",
    "\n",
    "print(\"Median:\")\n",
    "print(np.median(df_not_churn[\"total_rech_amt_8\"]))\n",
    "print(np.median(df_churn[\"total_rech_amt_8\"]))\n",
    "\n",
    "print(\"Quantiles:\")\n",
    "print(np.percentile(df_not_churn[\"total_rech_amt_8\"],np.arange(0,100,25)))\n",
    "print(np.percentile(df_churn[\"total_rech_amt_8\"],np.arange(0,100,25)))"
   ],
   "metadata": {
    "collapsed": false,
    "pycharm": {
     "name": "#%%\n"
    }
   }
  },
  {
   "cell_type": "code",
   "execution_count": null,
   "outputs": [],
   "source": [
    "sns.FacetGrid(telecom,hue='churn',size=6).map(sns.distplot,\"total_rech_amt_8\").add_legend()"
   ],
   "metadata": {
    "collapsed": false,
    "pycharm": {
     "name": "#%%\n"
    }
   }
  },
  {
   "cell_type": "code",
   "execution_count": null,
   "outputs": [],
   "source": [
    "sns.FacetGrid(telecom,hue='churn',size=5).map(plt.scatter,\"total_rech_amt_6\",\"total_rech_amt_7\").add_legend()"
   ],
   "metadata": {
    "collapsed": false,
    "pycharm": {
     "name": "#%%\n"
    }
   }
  },
  {
   "cell_type": "code",
   "execution_count": null,
   "outputs": [],
   "source": [
    "\n",
    "sns.FacetGrid(telecom,hue='churn',size=5).map(plt.scatter,\"total_rech_amt_6\",\"total_rech_amt_8\").add_legend()"
   ],
   "metadata": {
    "collapsed": false,
    "pycharm": {
     "name": "#%%\n"
    }
   }
  },
  {
   "cell_type": "code",
   "execution_count": null,
   "outputs": [],
   "source": [
    "sns.FacetGrid(telecom,hue='churn',size=5).map(plt.scatter,\"total_rech_amt_7\",\"total_rech_amt_8\").add_legend()"
   ],
   "metadata": {
    "collapsed": false,
    "pycharm": {
     "name": "#%%\n"
    }
   }
  },
  {
   "cell_type": "markdown",
   "source": [
    "#### Univariate Analysis on max_rech_amt_6', 'max_rech_amt_7', 'max_rech_amt_8',"
   ],
   "metadata": {
    "collapsed": false
   }
  },
  {
   "cell_type": "code",
   "execution_count": null,
   "outputs": [],
   "source": [
    "print(\"Mean:\")\n",
    "print(np.mean(df_not_churn[\"max_rech_amt_6\"]))\n",
    "print(np.mean(df_churn[\"max_rech_amt_6\"]))\n",
    "\n",
    "print(\"Median:\")\n",
    "print(np.median(df_not_churn[\"max_rech_amt_6\"]))\n",
    "print(np.median(df_churn[\"max_rech_amt_6\"]))\n",
    "\n",
    "print(\"Quantiles:\")\n",
    "print(np.percentile(df_not_churn[\"max_rech_amt_6\"],np.arange(0,100,25)))\n",
    "print(np.percentile(df_churn[\"max_rech_amt_6\"],np.arange(0,100,25)))"
   ],
   "metadata": {
    "collapsed": false,
    "pycharm": {
     "name": "#%%\n"
    }
   }
  },
  {
   "cell_type": "code",
   "execution_count": null,
   "outputs": [],
   "source": [
    "sns.FacetGrid(telecom,hue='churn',size=6).map(sns.distplot,\"max_rech_amt_6\").add_legend()"
   ],
   "metadata": {
    "collapsed": false,
    "pycharm": {
     "name": "#%%\n"
    }
   }
  },
  {
   "cell_type": "code",
   "execution_count": null,
   "outputs": [],
   "source": [
    "\n",
    "print(\"Mean:\")\n",
    "print(np.mean(df_not_churn[\"max_rech_amt_7\"]))\n",
    "print(np.mean(df_churn[\"max_rech_amt_7\"]))\n",
    "\n",
    "print(\"Median:\")\n",
    "print(np.median(df_not_churn[\"max_rech_amt_7\"]))\n",
    "print(np.median(df_churn[\"max_rech_amt_7\"]))\n",
    "\n",
    "print(\"Quantiles:\")\n",
    "print(np.percentile(df_not_churn[\"max_rech_amt_7\"],np.arange(0,100,25)))\n",
    "print(np.percentile(df_churn[\"max_rech_amt_7\"],np.arange(0,100,25)))"
   ],
   "metadata": {
    "collapsed": false,
    "pycharm": {
     "name": "#%%\n"
    }
   }
  },
  {
   "cell_type": "code",
   "execution_count": null,
   "outputs": [],
   "source": [
    "sns.FacetGrid(telecom,hue='churn',size=6).map(sns.distplot,\"max_rech_amt_7\").add_legend()"
   ],
   "metadata": {
    "collapsed": false,
    "pycharm": {
     "name": "#%%\n"
    }
   }
  },
  {
   "cell_type": "code",
   "execution_count": null,
   "outputs": [],
   "source": [
    "print(\"Mean:\")\n",
    "print(np.mean(df_not_churn[\"max_rech_amt_8\"]))\n",
    "print(np.mean(df_churn[\"max_rech_amt_8\"]))\n",
    "\n",
    "print(\"Median:\")\n",
    "print(np.median(df_not_churn[\"max_rech_amt_8\"]))\n",
    "print(np.median(df_churn[\"max_rech_amt_8\"]))\n",
    "\n",
    "print(\"Quantiles:\")\n",
    "print(np.percentile(df_not_churn[\"max_rech_amt_8\"],np.arange(0,100,25)))\n",
    "print(np.percentile(df_churn[\"max_rech_amt_8\"],np.arange(0,100,25)))"
   ],
   "metadata": {
    "collapsed": false,
    "pycharm": {
     "name": "#%%\n"
    }
   }
  },
  {
   "cell_type": "code",
   "execution_count": null,
   "outputs": [],
   "source": [
    "sns.FacetGrid(telecom,hue='churn',size=6).map(sns.distplot,\"max_rech_amt_8\").add_legend()"
   ],
   "metadata": {
    "collapsed": false,
    "pycharm": {
     "name": "#%%\n"
    }
   }
  },
  {
   "cell_type": "code",
   "execution_count": null,
   "outputs": [],
   "source": [
    "sns.FacetGrid(telecom,hue='churn',size=5).map(plt.scatter,\"max_rech_amt_6\",\"max_rech_amt_7\").add_legend()"
   ],
   "metadata": {
    "collapsed": false,
    "pycharm": {
     "name": "#%%\n"
    }
   }
  },
  {
   "cell_type": "code",
   "execution_count": null,
   "outputs": [],
   "source": [
    "\n",
    "sns.FacetGrid(telecom,hue='churn',size=5).map(plt.scatter,\"max_rech_amt_7\",\"max_rech_amt_8\").add_legend()"
   ],
   "metadata": {
    "collapsed": false,
    "pycharm": {
     "name": "#%%\n"
    }
   }
  },
  {
   "cell_type": "code",
   "execution_count": null,
   "outputs": [],
   "source": [
    "sns.FacetGrid(telecom,hue='churn',size=5).map(plt.scatter,\"max_rech_amt_6\",\"max_rech_amt_8\").add_legend()"
   ],
   "metadata": {
    "collapsed": false,
    "pycharm": {
     "name": "#%%\n"
    }
   }
  },
  {
   "cell_type": "code",
   "execution_count": null,
   "outputs": [],
   "source": [
    "telecom2 = telecom.drop(['mobile_number', 'churn'], axis=1)"
   ],
   "metadata": {
    "collapsed": false,
    "pycharm": {
     "name": "#%%\n"
    }
   }
  },
  {
   "cell_type": "code",
   "execution_count": null,
   "outputs": [],
   "source": [
    "telecom2.to_csv(\"../data/processed/02_Univariate.csv\", sep=',', index=False)\n"
   ],
   "metadata": {
    "collapsed": false,
    "pycharm": {
     "name": "#%%\n"
    }
   }
  }
 ],
 "metadata": {
  "kernelspec": {
   "display_name": "Python 3",
   "language": "python",
   "name": "python3"
  },
  "language_info": {
   "codemirror_mode": {
    "name": "ipython",
    "version": 3
   },
   "file_extension": ".py",
   "mimetype": "text/x-python",
   "name": "python",
   "nbconvert_exporter": "python",
   "pygments_lexer": "ipython3",
   "version": "3.7.3"
  },
  "pycharm": {
   "stem_cell": {
    "cell_type": "raw",
    "source": [],
    "metadata": {
     "collapsed": false
    }
   }
  }
 },
 "nbformat": 4,
 "nbformat_minor": 2
}