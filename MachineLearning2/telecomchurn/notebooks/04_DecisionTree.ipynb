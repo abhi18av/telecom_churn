{
 "cells": [
  {
   "cell_type": "markdown",
   "source": [
    "### OBSERVATIONS:\n",
    "\n",
    "- Data is higly imbalanced only 6.34% data is churn & remaining is non_churn\n",
    "- From univariate analysis some relationship is emerging to the churn, but no clear relationship found.\n",
    "- There are many highly correlated features, found 89 features with more then 0.8 correlation.\n",
    "\n",
    "### INFERENCES:\n",
    "\n",
    "- We will be using Random Forest technique since the data is imbalanced data and multi-collinearity. The below links are the references\n",
    "\n",
    "https://datascience.stackexchange.com/a/33565\n",
    "\n",
    "https://towardsdatascience.com/methods-for-dealing-with-imbalanced-data-5b761be45a18\n",
    "\n",
    "\n",
    "### NEXT STEPS:\n",
    "\n",
    "- Need to balance the data, apply suitable data-balancing method\n",
    "- Features are highly correlated, use feture reduction methods before modelling\n"
   ],
   "metadata": {
    "collapsed": false
   }
  },
  {
   "cell_type": "code",
   "execution_count": null,
   "outputs": [],
   "source": [
    "telecom.head()"
   ],
   "metadata": {
    "collapsed": false,
    "pycharm": {
     "name": "#%%\n"
    }
   }
  },
  {
   "cell_type": "code",
   "execution_count": null,
   "outputs": [],
   "source": [
    "df_categorical = telecom.select_dtypes(include=['object'])\n",
    "df_categorical.head()"
   ],
   "metadata": {
    "collapsed": false,
    "pycharm": {
     "name": "#%%\n"
    }
   }
  },
  {
   "cell_type": "code",
   "execution_count": null,
   "outputs": [],
   "source": [],
   "metadata": {
    "collapsed": false,
    "pycharm": {
     "name": "#%%\n"
    }
   }
  }
 ],
 "metadata": {
  "kernelspec": {
   "display_name": "Python 3",
   "language": "python",
   "name": "python3"
  },
  "language_info": {
   "codemirror_mode": {
    "name": "ipython",
    "version": 2
   },
   "file_extension": ".py",
   "mimetype": "text/x-python",
   "name": "python",
   "nbconvert_exporter": "python",
   "pygments_lexer": "ipython2",
   "version": "2.7.6"
  },
  "pycharm": {
   "stem_cell": {
    "cell_type": "raw",
    "source": [
     "\n",
     "\n",
     "\n",
     "k"
    ],
    "metadata": {
     "collapsed": false
    }
   }
  }
 },
 "nbformat": 4,
 "nbformat_minor": 0
}