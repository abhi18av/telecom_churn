{
 "cells": [
  {
   "cell_type": "markdown",
   "source": [
    "# Problem description\n",
    "\n",
    "In the telecom industry, customers are able to choose from multiple service providers and actively switch from one operator to another. In this highly competitive market, the telecommunications industry experiences an average of 15-25% annual churn rate. Given the fact that it costs 5-10 times more to acquire a new customer than to retain an existing one, customer retention has now become even more important than customer acquisition.\n",
    "\n",
    "For many incumbent operators, retaining high profitable customers is the number one business goal. To reduce customer churn, telecom companies need to predict which customers are at high risk of churn.\n",
    "\n",
    "## Definition of churn\n",
    "\n",
    "There are two main models of payment in the telecom industry - postpaid (customers pay a monthly/annual bill after using the services) and prepaid (customers pay/recharge with a certain amount in advance and then use the services).\n",
    "\n",
    "In the Indian and the southeast Asian market, approximately 80% of revenue comes from the top 20% customers (called high-value customers). Thus, if we can reduce churn of the high-value customers, we will be able to reduce significant revenue leakage.\n",
    "\n",
    "## Goal of the analysis\n",
    " \n",
    "\n",
    "Define high-value customers based on a certain metric (mentioned later below) and predict churn only on high-value customers."
   ],
   "metadata": {
    "collapsed": false
   }
  },
  {
   "cell_type": "markdown",
   "source": [
    "### Import the analysis libraries"
   ],
   "metadata": {
    "collapsed": false
   }
  },
  {
   "cell_type": "code",
   "execution_count": 9,
   "outputs": [],
   "source": [
    "\n",
    "import numpy as np\n",
    "import pandas as pd\n",
    "import matplotlib.pyplot as plt\n",
    "import seaborn as sns\n",
    "import warnings\n",
    "warnings.filterwarnings('ignore')\n",
    "\n",
    "\n",
    "# matplotlib output formatting\n",
    "%matplotlib inline\n",
    "\n",
    "# pandas output formatting\n",
    "pd.options.display.float_format = '{:.2f}'.format\n",
    "\n",
    "\n",
    "# Utility fuction: line seperator\n",
    "def print_ln():\n",
    "    print('-'*80, '\\n')\n",
    "\n"
   ],
   "metadata": {
    "collapsed": false,
    "pycharm": {
     "name": "#%%\n",
     "is_executing": false
    }
   }
  },
  {
   "cell_type": "markdown",
   "source": [
    "### Load the dataset"
   ],
   "metadata": {
    "collapsed": false
   }
  },
  {
   "cell_type": "code",
   "execution_count": 10,
   "outputs": [
    {
     "data": {
      "text/plain": "   mobile_number  circle_id  loc_og_t2o_mou  std_og_t2o_mou  loc_ic_t2o_mou  \\\n0     7000842753        109            0.00            0.00            0.00   \n1     7001865778        109            0.00            0.00            0.00   \n2     7001625959        109            0.00            0.00            0.00   \n3     7001204172        109            0.00            0.00            0.00   \n4     7000142493        109            0.00            0.00            0.00   \n\n  last_date_of_month_6 last_date_of_month_7 last_date_of_month_8  \\\n0            6/30/2014            7/31/2014            8/31/2014   \n1            6/30/2014            7/31/2014            8/31/2014   \n2            6/30/2014            7/31/2014            8/31/2014   \n3            6/30/2014            7/31/2014            8/31/2014   \n4            6/30/2014            7/31/2014            8/31/2014   \n\n  last_date_of_month_9  arpu_6  ...  sachet_3g_9  fb_user_6  fb_user_7  \\\n0            9/30/2014  197.38  ...            0       1.00       1.00   \n1            9/30/2014   34.05  ...            0        nan       1.00   \n2            9/30/2014  167.69  ...            0        nan        nan   \n3            9/30/2014  221.34  ...            0        nan        nan   \n4            9/30/2014  261.64  ...            0       0.00        nan   \n\n   fb_user_8  fb_user_9   aon  aug_vbc_3g  jul_vbc_3g  jun_vbc_3g  sep_vbc_3g  \n0       1.00        nan   968       30.40        0.00      101.20        3.58  \n1       1.00        nan  1006        0.00        0.00        0.00        0.00  \n2        nan       1.00  1103        0.00        0.00        4.17        0.00  \n3        nan        nan  2491        0.00        0.00        0.00        0.00  \n4        nan        nan  1526        0.00        0.00        0.00        0.00  \n\n[5 rows x 226 columns]",
      "text/html": "<div>\n<style scoped>\n    .dataframe tbody tr th:only-of-type {\n        vertical-align: middle;\n    }\n\n    .dataframe tbody tr th {\n        vertical-align: top;\n    }\n\n    .dataframe thead th {\n        text-align: right;\n    }\n</style>\n<table border=\"1\" class=\"dataframe\">\n  <thead>\n    <tr style=\"text-align: right;\">\n      <th></th>\n      <th>mobile_number</th>\n      <th>circle_id</th>\n      <th>loc_og_t2o_mou</th>\n      <th>std_og_t2o_mou</th>\n      <th>loc_ic_t2o_mou</th>\n      <th>last_date_of_month_6</th>\n      <th>last_date_of_month_7</th>\n      <th>last_date_of_month_8</th>\n      <th>last_date_of_month_9</th>\n      <th>arpu_6</th>\n      <th>...</th>\n      <th>sachet_3g_9</th>\n      <th>fb_user_6</th>\n      <th>fb_user_7</th>\n      <th>fb_user_8</th>\n      <th>fb_user_9</th>\n      <th>aon</th>\n      <th>aug_vbc_3g</th>\n      <th>jul_vbc_3g</th>\n      <th>jun_vbc_3g</th>\n      <th>sep_vbc_3g</th>\n    </tr>\n  </thead>\n  <tbody>\n    <tr>\n      <th>0</th>\n      <td>7000842753</td>\n      <td>109</td>\n      <td>0.00</td>\n      <td>0.00</td>\n      <td>0.00</td>\n      <td>6/30/2014</td>\n      <td>7/31/2014</td>\n      <td>8/31/2014</td>\n      <td>9/30/2014</td>\n      <td>197.38</td>\n      <td>...</td>\n      <td>0</td>\n      <td>1.00</td>\n      <td>1.00</td>\n      <td>1.00</td>\n      <td>nan</td>\n      <td>968</td>\n      <td>30.40</td>\n      <td>0.00</td>\n      <td>101.20</td>\n      <td>3.58</td>\n    </tr>\n    <tr>\n      <th>1</th>\n      <td>7001865778</td>\n      <td>109</td>\n      <td>0.00</td>\n      <td>0.00</td>\n      <td>0.00</td>\n      <td>6/30/2014</td>\n      <td>7/31/2014</td>\n      <td>8/31/2014</td>\n      <td>9/30/2014</td>\n      <td>34.05</td>\n      <td>...</td>\n      <td>0</td>\n      <td>nan</td>\n      <td>1.00</td>\n      <td>1.00</td>\n      <td>nan</td>\n      <td>1006</td>\n      <td>0.00</td>\n      <td>0.00</td>\n      <td>0.00</td>\n      <td>0.00</td>\n    </tr>\n    <tr>\n      <th>2</th>\n      <td>7001625959</td>\n      <td>109</td>\n      <td>0.00</td>\n      <td>0.00</td>\n      <td>0.00</td>\n      <td>6/30/2014</td>\n      <td>7/31/2014</td>\n      <td>8/31/2014</td>\n      <td>9/30/2014</td>\n      <td>167.69</td>\n      <td>...</td>\n      <td>0</td>\n      <td>nan</td>\n      <td>nan</td>\n      <td>nan</td>\n      <td>1.00</td>\n      <td>1103</td>\n      <td>0.00</td>\n      <td>0.00</td>\n      <td>4.17</td>\n      <td>0.00</td>\n    </tr>\n    <tr>\n      <th>3</th>\n      <td>7001204172</td>\n      <td>109</td>\n      <td>0.00</td>\n      <td>0.00</td>\n      <td>0.00</td>\n      <td>6/30/2014</td>\n      <td>7/31/2014</td>\n      <td>8/31/2014</td>\n      <td>9/30/2014</td>\n      <td>221.34</td>\n      <td>...</td>\n      <td>0</td>\n      <td>nan</td>\n      <td>nan</td>\n      <td>nan</td>\n      <td>nan</td>\n      <td>2491</td>\n      <td>0.00</td>\n      <td>0.00</td>\n      <td>0.00</td>\n      <td>0.00</td>\n    </tr>\n    <tr>\n      <th>4</th>\n      <td>7000142493</td>\n      <td>109</td>\n      <td>0.00</td>\n      <td>0.00</td>\n      <td>0.00</td>\n      <td>6/30/2014</td>\n      <td>7/31/2014</td>\n      <td>8/31/2014</td>\n      <td>9/30/2014</td>\n      <td>261.64</td>\n      <td>...</td>\n      <td>0</td>\n      <td>0.00</td>\n      <td>nan</td>\n      <td>nan</td>\n      <td>nan</td>\n      <td>1526</td>\n      <td>0.00</td>\n      <td>0.00</td>\n      <td>0.00</td>\n      <td>0.00</td>\n    </tr>\n  </tbody>\n</table>\n<p>5 rows × 226 columns</p>\n</div>"
     },
     "metadata": {},
     "output_type": "execute_result",
     "execution_count": 10
    }
   ],
   "source": [
    "# Load csv data file\n",
    "telecom_orig = pd.read_csv('../data/raw/telecom_churn_data.csv', low_memory=False)\n",
    "telecom_orig.head(5)"
   ],
   "metadata": {
    "collapsed": false,
    "pycharm": {
     "name": "#%%\n",
     "is_executing": false
    }
   }
  },
  {
   "cell_type": "markdown",
   "source": [
    "### Describe the dataset features"
   ],
   "metadata": {
    "collapsed": false
   }
  },
  {
   "cell_type": "code",
   "execution_count": 11,
   "outputs": [
    {
     "data": {
      "text/plain": "       mobile_number  circle_id  loc_og_t2o_mou  std_og_t2o_mou  \\\ncount       99999.00   99999.00        98981.00        98981.00   \nmean   7001207270.39     109.00            0.00            0.00   \nstd        695669.39       0.00            0.00            0.00   \nmin    7000000074.00     109.00            0.00            0.00   \n25%    7000606232.50     109.00            0.00            0.00   \n50%    7001204632.00     109.00            0.00            0.00   \n75%    7001812030.50     109.00            0.00            0.00   \nmax    7002410905.00     109.00            0.00            0.00   \n\n       loc_ic_t2o_mou   arpu_6   arpu_7   arpu_8   arpu_9  onnet_mou_6  ...  \\\ncount        98981.00 99999.00 99999.00 99999.00 99999.00     96062.00  ...   \nmean             0.00   282.99   278.54   279.15   261.65       132.40  ...   \nstd              0.00   328.44   338.16   344.47   342.00       297.21  ...   \nmin              0.00 -2258.71 -2014.05  -945.81 -1899.51         0.00  ...   \n25%              0.00    93.41    86.98    84.13    62.69         7.38  ...   \n50%              0.00   197.70   191.64   192.08   176.85        34.31  ...   \n75%              0.00   371.06   365.34   369.37   353.47       118.74  ...   \nmax              0.00 27731.09 35145.83 33543.62 38805.62      7376.71  ...   \n\n       sachet_3g_9  fb_user_6  fb_user_7  fb_user_8  fb_user_9      aon  \\\ncount     99999.00   25153.00   25571.00   26339.00   25922.00 99999.00   \nmean          0.08       0.91       0.91       0.89       0.86  1219.85   \nstd           0.65       0.28       0.29       0.31       0.35   954.73   \nmin           0.00       0.00       0.00       0.00       0.00   180.00   \n25%           0.00       1.00       1.00       1.00       1.00   467.00   \n50%           0.00       1.00       1.00       1.00       1.00   863.00   \n75%           0.00       1.00       1.00       1.00       1.00  1807.50   \nmax          49.00       1.00       1.00       1.00       1.00  4337.00   \n\n       aug_vbc_3g  jul_vbc_3g  jun_vbc_3g  sep_vbc_3g  \ncount    99999.00    99999.00    99999.00    99999.00  \nmean        68.17       66.84       60.02        3.30  \nstd        267.58      271.20      253.94       32.41  \nmin          0.00        0.00        0.00        0.00  \n25%          0.00        0.00        0.00        0.00  \n50%          0.00        0.00        0.00        0.00  \n75%          0.00        0.00        0.00        0.00  \nmax      12916.22     9165.60    11166.21     2618.57  \n\n[8 rows x 214 columns]",
      "text/html": "<div>\n<style scoped>\n    .dataframe tbody tr th:only-of-type {\n        vertical-align: middle;\n    }\n\n    .dataframe tbody tr th {\n        vertical-align: top;\n    }\n\n    .dataframe thead th {\n        text-align: right;\n    }\n</style>\n<table border=\"1\" class=\"dataframe\">\n  <thead>\n    <tr style=\"text-align: right;\">\n      <th></th>\n      <th>mobile_number</th>\n      <th>circle_id</th>\n      <th>loc_og_t2o_mou</th>\n      <th>std_og_t2o_mou</th>\n      <th>loc_ic_t2o_mou</th>\n      <th>arpu_6</th>\n      <th>arpu_7</th>\n      <th>arpu_8</th>\n      <th>arpu_9</th>\n      <th>onnet_mou_6</th>\n      <th>...</th>\n      <th>sachet_3g_9</th>\n      <th>fb_user_6</th>\n      <th>fb_user_7</th>\n      <th>fb_user_8</th>\n      <th>fb_user_9</th>\n      <th>aon</th>\n      <th>aug_vbc_3g</th>\n      <th>jul_vbc_3g</th>\n      <th>jun_vbc_3g</th>\n      <th>sep_vbc_3g</th>\n    </tr>\n  </thead>\n  <tbody>\n    <tr>\n      <th>count</th>\n      <td>99999.00</td>\n      <td>99999.00</td>\n      <td>98981.00</td>\n      <td>98981.00</td>\n      <td>98981.00</td>\n      <td>99999.00</td>\n      <td>99999.00</td>\n      <td>99999.00</td>\n      <td>99999.00</td>\n      <td>96062.00</td>\n      <td>...</td>\n      <td>99999.00</td>\n      <td>25153.00</td>\n      <td>25571.00</td>\n      <td>26339.00</td>\n      <td>25922.00</td>\n      <td>99999.00</td>\n      <td>99999.00</td>\n      <td>99999.00</td>\n      <td>99999.00</td>\n      <td>99999.00</td>\n    </tr>\n    <tr>\n      <th>mean</th>\n      <td>7001207270.39</td>\n      <td>109.00</td>\n      <td>0.00</td>\n      <td>0.00</td>\n      <td>0.00</td>\n      <td>282.99</td>\n      <td>278.54</td>\n      <td>279.15</td>\n      <td>261.65</td>\n      <td>132.40</td>\n      <td>...</td>\n      <td>0.08</td>\n      <td>0.91</td>\n      <td>0.91</td>\n      <td>0.89</td>\n      <td>0.86</td>\n      <td>1219.85</td>\n      <td>68.17</td>\n      <td>66.84</td>\n      <td>60.02</td>\n      <td>3.30</td>\n    </tr>\n    <tr>\n      <th>std</th>\n      <td>695669.39</td>\n      <td>0.00</td>\n      <td>0.00</td>\n      <td>0.00</td>\n      <td>0.00</td>\n      <td>328.44</td>\n      <td>338.16</td>\n      <td>344.47</td>\n      <td>342.00</td>\n      <td>297.21</td>\n      <td>...</td>\n      <td>0.65</td>\n      <td>0.28</td>\n      <td>0.29</td>\n      <td>0.31</td>\n      <td>0.35</td>\n      <td>954.73</td>\n      <td>267.58</td>\n      <td>271.20</td>\n      <td>253.94</td>\n      <td>32.41</td>\n    </tr>\n    <tr>\n      <th>min</th>\n      <td>7000000074.00</td>\n      <td>109.00</td>\n      <td>0.00</td>\n      <td>0.00</td>\n      <td>0.00</td>\n      <td>-2258.71</td>\n      <td>-2014.05</td>\n      <td>-945.81</td>\n      <td>-1899.51</td>\n      <td>0.00</td>\n      <td>...</td>\n      <td>0.00</td>\n      <td>0.00</td>\n      <td>0.00</td>\n      <td>0.00</td>\n      <td>0.00</td>\n      <td>180.00</td>\n      <td>0.00</td>\n      <td>0.00</td>\n      <td>0.00</td>\n      <td>0.00</td>\n    </tr>\n    <tr>\n      <th>25%</th>\n      <td>7000606232.50</td>\n      <td>109.00</td>\n      <td>0.00</td>\n      <td>0.00</td>\n      <td>0.00</td>\n      <td>93.41</td>\n      <td>86.98</td>\n      <td>84.13</td>\n      <td>62.69</td>\n      <td>7.38</td>\n      <td>...</td>\n      <td>0.00</td>\n      <td>1.00</td>\n      <td>1.00</td>\n      <td>1.00</td>\n      <td>1.00</td>\n      <td>467.00</td>\n      <td>0.00</td>\n      <td>0.00</td>\n      <td>0.00</td>\n      <td>0.00</td>\n    </tr>\n    <tr>\n      <th>50%</th>\n      <td>7001204632.00</td>\n      <td>109.00</td>\n      <td>0.00</td>\n      <td>0.00</td>\n      <td>0.00</td>\n      <td>197.70</td>\n      <td>191.64</td>\n      <td>192.08</td>\n      <td>176.85</td>\n      <td>34.31</td>\n      <td>...</td>\n      <td>0.00</td>\n      <td>1.00</td>\n      <td>1.00</td>\n      <td>1.00</td>\n      <td>1.00</td>\n      <td>863.00</td>\n      <td>0.00</td>\n      <td>0.00</td>\n      <td>0.00</td>\n      <td>0.00</td>\n    </tr>\n    <tr>\n      <th>75%</th>\n      <td>7001812030.50</td>\n      <td>109.00</td>\n      <td>0.00</td>\n      <td>0.00</td>\n      <td>0.00</td>\n      <td>371.06</td>\n      <td>365.34</td>\n      <td>369.37</td>\n      <td>353.47</td>\n      <td>118.74</td>\n      <td>...</td>\n      <td>0.00</td>\n      <td>1.00</td>\n      <td>1.00</td>\n      <td>1.00</td>\n      <td>1.00</td>\n      <td>1807.50</td>\n      <td>0.00</td>\n      <td>0.00</td>\n      <td>0.00</td>\n      <td>0.00</td>\n    </tr>\n    <tr>\n      <th>max</th>\n      <td>7002410905.00</td>\n      <td>109.00</td>\n      <td>0.00</td>\n      <td>0.00</td>\n      <td>0.00</td>\n      <td>27731.09</td>\n      <td>35145.83</td>\n      <td>33543.62</td>\n      <td>38805.62</td>\n      <td>7376.71</td>\n      <td>...</td>\n      <td>49.00</td>\n      <td>1.00</td>\n      <td>1.00</td>\n      <td>1.00</td>\n      <td>1.00</td>\n      <td>4337.00</td>\n      <td>12916.22</td>\n      <td>9165.60</td>\n      <td>11166.21</td>\n      <td>2618.57</td>\n    </tr>\n  </tbody>\n</table>\n<p>8 rows × 214 columns</p>\n</div>"
     },
     "metadata": {},
     "output_type": "execute_result",
     "execution_count": 11
    }
   ],
   "source": [
    "telecom_orig.describe()\n"
   ],
   "metadata": {
    "collapsed": false,
    "pycharm": {
     "name": "#%%\n",
     "is_executing": false
    }
   }
  },
  {
   "cell_type": "markdown",
   "source": [
    "### Understand the properties of loaded dataframe"
   ],
   "metadata": {
    "collapsed": false
   }
  },
  {
   "cell_type": "code",
   "execution_count": 12,
   "outputs": [
    {
     "name": "stdout",
     "text": [
      "Dataframe Shape:  (99999, 226)\n-------------------------------------------------------------------------------- \n\nDataframe Info: \n\n<class 'pandas.core.frame.DataFrame'>\nRangeIndex: 99999 entries, 0 to 99998\nColumns: 226 entries, mobile_number to sep_vbc_3g\ndtypes: float64(179), int64(35), object(12)\nmemory usage: 172.4+ MB\n-------------------------------------------------------------------------------- \n\n"
     ],
     "output_type": "stream"
    },
    {
     "data": {
      "text/plain": "   mobile_number  circle_id  loc_og_t2o_mou  std_og_t2o_mou  loc_ic_t2o_mou  \\\n0     7000842753        109            0.00            0.00            0.00   \n1     7001865778        109            0.00            0.00            0.00   \n2     7001625959        109            0.00            0.00            0.00   \n3     7001204172        109            0.00            0.00            0.00   \n4     7000142493        109            0.00            0.00            0.00   \n\n  last_date_of_month_6 last_date_of_month_7 last_date_of_month_8  \\\n0            6/30/2014            7/31/2014            8/31/2014   \n1            6/30/2014            7/31/2014            8/31/2014   \n2            6/30/2014            7/31/2014            8/31/2014   \n3            6/30/2014            7/31/2014            8/31/2014   \n4            6/30/2014            7/31/2014            8/31/2014   \n\n  last_date_of_month_9  arpu_6  ...  sachet_3g_9  fb_user_6  fb_user_7  \\\n0            9/30/2014  197.38  ...            0       1.00       1.00   \n1            9/30/2014   34.05  ...            0        nan       1.00   \n2            9/30/2014  167.69  ...            0        nan        nan   \n3            9/30/2014  221.34  ...            0        nan        nan   \n4            9/30/2014  261.64  ...            0       0.00        nan   \n\n   fb_user_8  fb_user_9   aon  aug_vbc_3g  jul_vbc_3g  jun_vbc_3g  sep_vbc_3g  \n0       1.00        nan   968       30.40        0.00      101.20        3.58  \n1       1.00        nan  1006        0.00        0.00        0.00        0.00  \n2        nan       1.00  1103        0.00        0.00        4.17        0.00  \n3        nan        nan  2491        0.00        0.00        0.00        0.00  \n4        nan        nan  1526        0.00        0.00        0.00        0.00  \n\n[5 rows x 226 columns]",
      "text/html": "<div>\n<style scoped>\n    .dataframe tbody tr th:only-of-type {\n        vertical-align: middle;\n    }\n\n    .dataframe tbody tr th {\n        vertical-align: top;\n    }\n\n    .dataframe thead th {\n        text-align: right;\n    }\n</style>\n<table border=\"1\" class=\"dataframe\">\n  <thead>\n    <tr style=\"text-align: right;\">\n      <th></th>\n      <th>mobile_number</th>\n      <th>circle_id</th>\n      <th>loc_og_t2o_mou</th>\n      <th>std_og_t2o_mou</th>\n      <th>loc_ic_t2o_mou</th>\n      <th>last_date_of_month_6</th>\n      <th>last_date_of_month_7</th>\n      <th>last_date_of_month_8</th>\n      <th>last_date_of_month_9</th>\n      <th>arpu_6</th>\n      <th>...</th>\n      <th>sachet_3g_9</th>\n      <th>fb_user_6</th>\n      <th>fb_user_7</th>\n      <th>fb_user_8</th>\n      <th>fb_user_9</th>\n      <th>aon</th>\n      <th>aug_vbc_3g</th>\n      <th>jul_vbc_3g</th>\n      <th>jun_vbc_3g</th>\n      <th>sep_vbc_3g</th>\n    </tr>\n  </thead>\n  <tbody>\n    <tr>\n      <th>0</th>\n      <td>7000842753</td>\n      <td>109</td>\n      <td>0.00</td>\n      <td>0.00</td>\n      <td>0.00</td>\n      <td>6/30/2014</td>\n      <td>7/31/2014</td>\n      <td>8/31/2014</td>\n      <td>9/30/2014</td>\n      <td>197.38</td>\n      <td>...</td>\n      <td>0</td>\n      <td>1.00</td>\n      <td>1.00</td>\n      <td>1.00</td>\n      <td>nan</td>\n      <td>968</td>\n      <td>30.40</td>\n      <td>0.00</td>\n      <td>101.20</td>\n      <td>3.58</td>\n    </tr>\n    <tr>\n      <th>1</th>\n      <td>7001865778</td>\n      <td>109</td>\n      <td>0.00</td>\n      <td>0.00</td>\n      <td>0.00</td>\n      <td>6/30/2014</td>\n      <td>7/31/2014</td>\n      <td>8/31/2014</td>\n      <td>9/30/2014</td>\n      <td>34.05</td>\n      <td>...</td>\n      <td>0</td>\n      <td>nan</td>\n      <td>1.00</td>\n      <td>1.00</td>\n      <td>nan</td>\n      <td>1006</td>\n      <td>0.00</td>\n      <td>0.00</td>\n      <td>0.00</td>\n      <td>0.00</td>\n    </tr>\n    <tr>\n      <th>2</th>\n      <td>7001625959</td>\n      <td>109</td>\n      <td>0.00</td>\n      <td>0.00</td>\n      <td>0.00</td>\n      <td>6/30/2014</td>\n      <td>7/31/2014</td>\n      <td>8/31/2014</td>\n      <td>9/30/2014</td>\n      <td>167.69</td>\n      <td>...</td>\n      <td>0</td>\n      <td>nan</td>\n      <td>nan</td>\n      <td>nan</td>\n      <td>1.00</td>\n      <td>1103</td>\n      <td>0.00</td>\n      <td>0.00</td>\n      <td>4.17</td>\n      <td>0.00</td>\n    </tr>\n    <tr>\n      <th>3</th>\n      <td>7001204172</td>\n      <td>109</td>\n      <td>0.00</td>\n      <td>0.00</td>\n      <td>0.00</td>\n      <td>6/30/2014</td>\n      <td>7/31/2014</td>\n      <td>8/31/2014</td>\n      <td>9/30/2014</td>\n      <td>221.34</td>\n      <td>...</td>\n      <td>0</td>\n      <td>nan</td>\n      <td>nan</td>\n      <td>nan</td>\n      <td>nan</td>\n      <td>2491</td>\n      <td>0.00</td>\n      <td>0.00</td>\n      <td>0.00</td>\n      <td>0.00</td>\n    </tr>\n    <tr>\n      <th>4</th>\n      <td>7000142493</td>\n      <td>109</td>\n      <td>0.00</td>\n      <td>0.00</td>\n      <td>0.00</td>\n      <td>6/30/2014</td>\n      <td>7/31/2014</td>\n      <td>8/31/2014</td>\n      <td>9/30/2014</td>\n      <td>261.64</td>\n      <td>...</td>\n      <td>0</td>\n      <td>0.00</td>\n      <td>nan</td>\n      <td>nan</td>\n      <td>nan</td>\n      <td>1526</td>\n      <td>0.00</td>\n      <td>0.00</td>\n      <td>0.00</td>\n      <td>0.00</td>\n    </tr>\n  </tbody>\n</table>\n<p>5 rows × 226 columns</p>\n</div>"
     },
     "metadata": {},
     "output_type": "execute_result",
     "execution_count": 12
    }
   ],
   "source": [
    "telecom = telecom_orig.copy()\n",
    "print('Dataframe Shape: ', telecom.shape); print_ln();\n",
    "print(\"Dataframe Info: \\n\"); telecom.info(); print_ln();\n",
    "telecom.head(5)\n"
   ],
   "metadata": {
    "collapsed": false,
    "pycharm": {
     "name": "#%%\n",
     "is_executing": false
    }
   }
  },
  {
   "cell_type": "code",
   "execution_count": 13,
   "outputs": [
    {
     "name": "stdout",
     "text": [
      "categorical_features : Index(['last_date_of_month_6', 'last_date_of_month_7', 'last_date_of_month_8',\n       'last_date_of_month_9', 'date_of_last_rech_6', 'date_of_last_rech_7',\n       'date_of_last_rech_8', 'date_of_last_rech_9',\n       'date_of_last_rech_data_6', 'date_of_last_rech_data_7',\n       'date_of_last_rech_data_8', 'date_of_last_rech_data_9'],\n      dtype='object')\n-------------------------------------------------------------------------------- \n\nnumerical_features: Index(['mobile_number', 'circle_id', 'loc_og_t2o_mou', 'std_og_t2o_mou',\n       'loc_ic_t2o_mou', 'arpu_6', 'arpu_7', 'arpu_8', 'arpu_9', 'onnet_mou_6',\n       ...\n       'sachet_3g_9', 'fb_user_6', 'fb_user_7', 'fb_user_8', 'fb_user_9',\n       'aon', 'aug_vbc_3g', 'jul_vbc_3g', 'jun_vbc_3g', 'sep_vbc_3g'],\n      dtype='object', length=214)\n-------------------------------------------------------------------------------- \n\n"
     ],
     "output_type": "stream"
    }
   ],
   "source": [
    "def type_features(data):\n",
    "    categorical_features = data.select_dtypes(include = [\"object\"]).columns\n",
    "    numerical_features = data.select_dtypes(exclude = [\"object\"]).columns\n",
    "    print( \"categorical_features :\",categorical_features)\n",
    "    print_ln()\n",
    "    print(\"numerical_features:\",numerical_features)\n",
    "    print_ln()\n",
    "    return categorical_features, numerical_features\n",
    "\n",
    "telecom_cat_features, telecom_num_features =  type_features(telecom)\n",
    "\n"
   ],
   "metadata": {
    "collapsed": false,
    "pycharm": {
     "name": "#%%\n",
     "is_executing": false
    }
   }
  },
  {
   "cell_type": "markdown",
   "source": [
    "###  Missing Value Analysis (column wise)\n",
    "\n",
    "- summing up the missing values (column-wise)\n",
    "\n"
   ],
   "metadata": {
    "collapsed": false
   }
  },
  {
   "cell_type": "code",
   "execution_count": 14,
   "outputs": [
    {
     "data": {
      "text/plain": "count_rech_2g_6             74846\ndate_of_last_rech_data_6    74846\ncount_rech_3g_6             74846\nav_rech_amt_data_6          74846\nmax_rech_data_6             74846\n                            ...  \nlast_day_rch_amt_6              0\nlast_day_rch_amt_7              0\nlast_day_rch_amt_8              0\nlast_day_rch_amt_9              0\nmobile_number                   0\nLength: 226, dtype: int64"
     },
     "metadata": {},
     "output_type": "execute_result",
     "execution_count": 14
    }
   ],
   "source": [
    "telecom.isnull().sum().sort_values(ascending = False)\n"
   ],
   "metadata": {
    "collapsed": false,
    "pycharm": {
     "name": "#%%\n",
     "is_executing": false
    }
   }
  },
  {
   "cell_type": "markdown",
   "source": [
    "### Percentage of missing values (column-wise)\n",
    "\n"
   ],
   "metadata": {
    "collapsed": false
   }
  },
  {
   "cell_type": "code",
   "execution_count": 15,
   "outputs": [
    {
     "data": {
      "text/plain": "count_rech_2g_6            74.85\ndate_of_last_rech_data_6   74.85\ncount_rech_3g_6            74.85\nav_rech_amt_data_6         74.85\nmax_rech_data_6            74.85\n                            ... \nlast_day_rch_amt_6          0.00\nlast_day_rch_amt_7          0.00\nlast_day_rch_amt_8          0.00\nlast_day_rch_amt_9          0.00\nmobile_number               0.00\nLength: 226, dtype: float64"
     },
     "metadata": {},
     "output_type": "execute_result",
     "execution_count": 15
    }
   ],
   "source": [
    "round(100*(telecom.isnull().sum().sort_values(ascending=False)/len(telecom.index)), 2)"
   ],
   "metadata": {
    "collapsed": false,
    "pycharm": {
     "name": "#%%\n",
     "is_executing": false
    }
   }
  },
  {
   "cell_type": "markdown",
   "source": [
    "### Columns with more than 70% missing values"
   ],
   "metadata": {
    "collapsed": false
   }
  },
  {
   "cell_type": "code",
   "execution_count": 16,
   "outputs": [],
   "source": [
    "def getMissingValues(missingCutoff):\n",
    "    # Function to retun the columns with more than missingCutoff% missing values.\n",
    "    # argument: missingCutoff, % values threshold for missing values\n",
    "    missing = round(100*(telecom.isnull().sum()/telecom.shape[0]))\n",
    "    print(\"There are {} features having more than {}% missing values\".format(len(missing.loc[missing > missingCutoff]),missingCutoff))\n",
    "    return missing.loc[missing > missingCutoff]"
   ],
   "metadata": {
    "collapsed": false,
    "pycharm": {
     "name": "#%%\n",
     "is_executing": false
    }
   }
  },
  {
   "cell_type": "code",
   "execution_count": 19,
   "outputs": [
    {
     "name": "stdout",
     "text": [
      "There are 40 features having more than 70% missing values\n"
     ],
     "output_type": "stream"
    },
    {
     "data": {
      "text/plain": "date_of_last_rech_data_6   75.00\ndate_of_last_rech_data_7   74.00\ndate_of_last_rech_data_8   74.00\ndate_of_last_rech_data_9   74.00\ntotal_rech_data_6          75.00\ntotal_rech_data_7          74.00\ntotal_rech_data_8          74.00\ntotal_rech_data_9          74.00\nmax_rech_data_6            75.00\nmax_rech_data_7            74.00\nmax_rech_data_8            74.00\nmax_rech_data_9            74.00\ncount_rech_2g_6            75.00\ncount_rech_2g_7            74.00\ncount_rech_2g_8            74.00\ncount_rech_2g_9            74.00\ncount_rech_3g_6            75.00\ncount_rech_3g_7            74.00\ncount_rech_3g_8            74.00\ncount_rech_3g_9            74.00\nav_rech_amt_data_6         75.00\nav_rech_amt_data_7         74.00\nav_rech_amt_data_8         74.00\nav_rech_amt_data_9         74.00\narpu_3g_6                  75.00\narpu_3g_7                  74.00\narpu_3g_8                  74.00\narpu_3g_9                  74.00\narpu_2g_6                  75.00\narpu_2g_7                  74.00\narpu_2g_8                  74.00\narpu_2g_9                  74.00\nnight_pck_user_6           75.00\nnight_pck_user_7           74.00\nnight_pck_user_8           74.00\nnight_pck_user_9           74.00\nfb_user_6                  75.00\nfb_user_7                  74.00\nfb_user_8                  74.00\nfb_user_9                  74.00\ndtype: float64"
     },
     "metadata": {},
     "output_type": "execute_result",
     "execution_count": 19
    }
   ],
   "source": [
    "getMissingValues(70)\n"
   ],
   "metadata": {
    "collapsed": false,
    "pycharm": {
     "name": "#%%\n",
     "is_executing": false
    }
   }
  },
  {
   "cell_type": "markdown",
   "source": [
    "## Defining what a customer `churn` means for the analysis.\n",
    "\n",
    "We say that the customer has churned if a customer has not used any of the core services over a period of time.\n",
    "\n",
    "## Customer churn lifecycle \n",
    "\n",
    "We are working over a four-month window, the first two months are the ‘good’ phase, the third month is the ‘action’ phase, while the fourth month is the ‘churn’ phase. \n",
    "\n",
    "Churn period in consideration is from the month of `June` (6) till the month of `September` (9).\n",
    "\n",
    "- `Good phase` \n",
    "\n",
    "The customer is happy with the service and behaves as usual\n",
    "\n",
    "- `Action phase` \n",
    "\n",
    "The customer experience starts to sore in this phase, for e.g. he/she gets a compelling offer from a  competitor, faces unjust charges, becomes unhappy with service quality etc. In this phase, the customer usually shows different behaviour than the ‘good’ months\n",
    "\n",
    "- `Churn phase` \n",
    "\n",
    "The customer has already churned in this phase\n",
    "\n",
    "\n",
    "## High-value Churn\n",
    "\n",
    "In the Indian and the southeast Asian market, approximately 80% of revenue comes from the top 20% customers (called high-value customers). Thus, if we can reduce churn of the high-value customers, we will be able to reduce significant revenue leakage.\n",
    "\n",
    "We need to predict churn for only the `high value customers` which could be judged from the following 4 columns ( during good phase)\n",
    "\n",
    "\n",
    "- total_rech_data_6\n",
    "- total_rech_data_7\n",
    "- av_rech_amt_data_6\n",
    "- av_rech_amt_data_7\n",
    "\n",
    "However, all of the above columns have more than 70% missing data.\n",
    " "
   ],
   "metadata": {
    "collapsed": false
   }
  },
  {
   "cell_type": "markdown",
   "source": [
    "# Data Preparation\n",
    "\n",
    "Building upon the analysis of the features during the `good-phase`"
   ],
   "metadata": {
    "collapsed": false,
    "pycharm": {
     "name": "#%% md\n"
    }
   }
  },
  {
   "cell_type": "code",
   "execution_count": 18,
   "outputs": [
    {
     "name": "stdout",
     "text": [
      "count   25153.00\nmean        2.46\nstd         2.79\nmin         1.00\n25%         1.00\n50%         1.00\n75%         3.00\nmax        61.00\nName: total_rech_data_6, dtype: float64\n-------------------------------------------------------------------------------- \n\ncount   25571.00\nmean        2.67\nstd         3.03\nmin         1.00\n25%         1.00\n50%         1.00\n75%         3.00\nmax        54.00\nName: total_rech_data_7, dtype: float64\n-------------------------------------------------------------------------------- \n\ncount   25153.00\nmean      192.60\nstd       192.65\nmin         1.00\n25%        82.00\n50%       154.00\n75%       252.00\nmax      7546.00\nName: av_rech_amt_data_6, dtype: float64\n-------------------------------------------------------------------------------- \n\ncount   25571.00\nmean      200.98\nstd       196.79\nmin         0.50\n25%        92.00\n50%       154.00\n75%       252.00\nmax      4365.00\nName: av_rech_amt_data_7, dtype: float64\n-------------------------------------------------------------------------------- \n\n"
     ],
     "output_type": "stream"
    }
   ],
   "source": [
    "print(telecom.total_rech_data_6.describe()); print_ln()\n",
    "print(telecom.total_rech_data_7.describe()); print_ln()\n",
    "print(telecom.av_rech_amt_data_6.describe()); print_ln()\n",
    "print(telecom.av_rech_amt_data_7.describe()); print_ln()\n"
   ],
   "metadata": {
    "collapsed": false,
    "pycharm": {
     "name": "#%%\n",
     "is_executing": false
    }
   }
  },
  {
   "cell_type": "code",
   "execution_count": null,
   "outputs": [],
   "source": [
    "# total_rech_data_6\n",
    "\n",
    "plt.figure(1)\n",
    "fig, ax = plt.subplots(figsize=(10,10))\n",
    "plt.subplot(2,2,1)\n",
    "plt.title(\"total_rech_data_6\")\n",
    "plt.hist(telecom.total_rech_data_6.dropna(),bins=25)\n",
    "\n",
    "# total_rech_data_7\n",
    "\n",
    "plt.subplot(2,2,2)\n",
    "plt.title(\"total_rech_data_7\")\n",
    "plt.hist(telecom.total_rech_data_7.dropna(),bins=25)\n",
    "\n",
    "# av_rech_amt_data_6\n",
    "\n",
    "plt.subplot(2,2,3)\n",
    "plt.title(\"av_rech_amt_data_6\")\n",
    "plt.hist(telecom.av_rech_amt_data_6.dropna(),bins=25)\n",
    "\n",
    "# total_rech_data_7\n",
    "\n",
    "plt.subplot(2,2,4)\n",
    "plt.title(\"av_rech_amt_data_7\")\n",
    "plt.hist(telecom.av_rech_amt_data_7.dropna(),bins=25)"
   ],
   "metadata": {
    "collapsed": false,
    "pycharm": {
     "name": "#%%\n"
    }
   }
  },
  {
   "cell_type": "markdown",
   "source": [
    "### Insights from the distribution graphs\n",
    "\n",
    "- Variables are numeric.\n",
    "- The minimum value is 1, and not zero,\n",
    "- Missing ( indicating that no recharge was done in this month.)\n",
    "\n",
    "\n",
    "Thus, missing values can be imputed with 0."
   ],
   "metadata": {
    "collapsed": false
   }
  },
  {
   "cell_type": "code",
   "execution_count": null,
   "outputs": [],
   "source": [
    "# imputing the total values\n",
    "telecom.total_rech_data_6.fillna(value=0, inplace=True)\n",
    "telecom.total_rech_data_7.fillna(value=0, inplace=True)\n",
    "telecom.total_rech_data_8.fillna(value=0, inplace=True)\n",
    "telecom.total_rech_data_9.fillna(value=0, inplace=True)\n",
    "\n",
    "# imputing the average values\n",
    "telecom.av_rech_amt_data_6.fillna(value=0, inplace=True)\n",
    "telecom.av_rech_amt_data_7.fillna(value=0, inplace=True)\n",
    "telecom.av_rech_amt_data_8.fillna(value=0, inplace=True)\n",
    "telecom.av_rech_amt_data_9.fillna(value=0, inplace=True)"
   ],
   "metadata": {
    "collapsed": false,
    "pycharm": {
     "name": "#%%\n"
    }
   }
  },
  {
   "cell_type": "markdown",
   "source": [
    "### Further on in the analysis, we can choose to impute missing values of these columns with 0.\n",
    "- av_rech_amt_data\n",
    "- arpu_2g\n",
    "- arpu_3g\n",
    "- count_rech_2g\n",
    "- count_rech_3g\n",
    "- max_rech_data\n",
    "- total_rech_data\n",
    "- fb_user\n",
    "- night_pck_user\n",
    "\n"
   ],
   "metadata": {
    "collapsed": false
   }
  },
  {
   "cell_type": "code",
   "execution_count": null,
   "outputs": [],
   "source": [
    "# Since av_rech_amt_data_* features are important for getting the high-value customers,\n",
    "#lets impute the missing av_rech_amt_data_* with 0\n",
    "\n",
    "def imputeNan(data,imputeColList=False,missingColList=False):\n",
    "    # Function impute the nan with 0\n",
    "    # argument: colList, list of columns for which nan is to be replaced with 0\n",
    "\n",
    "    if imputeColList:\n",
    "        for col in [y + s for s in ['_6','_7','_8','_9'] for y in imputeColList]:\n",
    "            data[col].fillna(0, inplace=True)\n",
    "    else:\n",
    "        for col in missingColList:\n",
    "            data[col].fillna(0, inplace=True)"
   ],
   "metadata": {
    "collapsed": false,
    "pycharm": {
     "name": "#%%\n"
    }
   }
  },
  {
   "cell_type": "code",
   "execution_count": null,
   "outputs": [],
   "source": [
    "imputeCol = ['av_rech_amt_data', 'arpu_2g', 'arpu_3g', 'count_rech_2g', 'count_rech_3g',\n",
    "             'max_rech_data', 'total_rech_data','fb_user','night_pck_user']\n",
    "imputeNan(telecom,imputeCol)"
   ],
   "metadata": {
    "collapsed": false,
    "pycharm": {
     "name": "#%%\n"
    }
   }
  },
  {
   "cell_type": "markdown",
   "source": [
    "\n",
    "### Columns with more than 50% missing values"
   ],
   "metadata": {
    "collapsed": false
   }
  },
  {
   "cell_type": "code",
   "execution_count": null,
   "outputs": [],
   "source": [
    "\n",
    "colmns_missing_data = round(100*(telecom.isnull().sum()/len(telecom.index)), 2)\n",
    "colmns_missing_data[colmns_missing_data >= 50]"
   ],
   "metadata": {
    "collapsed": false,
    "pycharm": {
     "name": "#%%\n"
    }
   }
  },
  {
   "cell_type": "code",
   "execution_count": null,
   "outputs": [],
   "source": [
    "drop_data_columns = ['date_of_last_rech_data_6','date_of_last_rech_data_7','date_of_last_rech_data_8','date_of_last_rech_data_9']\n",
    "\n",
    "telecom.drop(drop_data_columns, axis=1, inplace=True)\n"
   ],
   "metadata": {
    "collapsed": false,
    "pycharm": {
     "name": "#%%\n"
    }
   }
  },
  {
   "cell_type": "markdown",
   "source": [
    "### The featureset is missing the data for the month of september(9)."
   ],
   "metadata": {
    "collapsed": false
   }
  },
  {
   "cell_type": "markdown",
   "source": [
    "We can choose to impute these values with 0 as they are large data and dropping them would lead us to lack of data for analysis"
   ],
   "metadata": {
    "collapsed": false
   }
  },
  {
   "cell_type": "code",
   "execution_count": null,
   "outputs": [],
   "source": [
    "telecom.update(telecom[['onnet_mou_9', 'offnet_mou_9', 'roam_ic_mou_9', 'roam_og_mou_9', 'loc_og_t2t_mou_9', 'loc_og_t2m_mou_9', 'loc_og_t2f_mou_9', 'loc_og_t2c_mou_9', 'loc_og_mou_9', 'std_og_t2t_mou_9', 'std_og_t2m_mou_9', 'std_og_t2f_mou_9', 'std_og_t2c_mou_9', 'std_og_mou_9', 'isd_og_mou_9', 'spl_og_mou_9', 'og_others_9', 'loc_ic_t2t_mou_9', 'loc_ic_t2m_mou_9', 'loc_ic_t2f_mou_9', 'loc_ic_mou_9', 'std_ic_t2t_mou_9', 'std_ic_t2m_mou_9', 'std_ic_t2f_mou_9', 'std_ic_t2o_mou_9', 'std_ic_mou_9', 'spl_ic_mou_9', 'isd_ic_mou_9', 'ic_others_9']].fillna(0))"
   ],
   "metadata": {
    "collapsed": false,
    "pycharm": {
     "name": "#%%\n"
    }
   }
  },
  {
   "cell_type": "code",
   "execution_count": null,
   "outputs": [],
   "source": [
    "# Missing values per column expressed as % of total number of values\n",
    "getMissingValues(2)"
   ],
   "metadata": {
    "collapsed": false,
    "pycharm": {
     "name": "#%%\n"
    }
   }
  },
  {
   "cell_type": "markdown",
   "source": [
    "### Let's drop these customers from the data."
   ],
   "metadata": {
    "collapsed": false
   }
  },
  {
   "cell_type": "code",
   "execution_count": null,
   "outputs": [],
   "source": [
    "missingcol = list(getMissingValues(2).index)\n",
    "telecom=telecom[~telecom[missingcol].isnull().all(axis=1)]\n",
    "telecom.shape"
   ],
   "metadata": {
    "collapsed": false,
    "pycharm": {
     "name": "#%%\n"
    }
   }
  },
  {
   "cell_type": "markdown",
   "source": [
    "### For other customers where these missing values are spread out, let's impute them with 0. "
   ],
   "metadata": {
    "collapsed": false
   }
  },
  {
   "cell_type": "code",
   "execution_count": null,
   "outputs": [],
   "source": [
    "missingcol.remove('date_of_last_rech_8')\n",
    "missingcol.remove('date_of_last_rech_9')\n",
    "\n",
    "imputeNan(telecom,missingColList=missingcol)\n"
   ],
   "metadata": {
    "collapsed": false,
    "pycharm": {
     "name": "#%%\n"
    }
   }
  },
  {
   "cell_type": "markdown",
   "source": [
    "### Some of these features take only one value. Lets impute their missing values in these features with the `mode` of the distribution"
   ],
   "metadata": {
    "collapsed": false
   }
  },
  {
   "cell_type": "code",
   "execution_count": null,
   "outputs": [],
   "source": [
    "\n",
    "col = ['loc_og_t2o_mou','std_og_t2o_mou','loc_ic_t2o_mou','last_date_of_month_7','last_date_of_month_8','last_date_of_month_9']\n",
    "for c in col:\n",
    "    telecom[c].fillna(telecom[c].mode()[0], inplace=True)\n",
    "\n",
    "\n"
   ],
   "metadata": {
    "collapsed": false,
    "pycharm": {
     "name": "#%%\n"
    }
   }
  }
 ],
 "metadata": {
  "kernelspec": {
   "display_name": "Python 3",
   "language": "python",
   "name": "python3"
  },
  "language_info": {
   "codemirror_mode": {
    "name": "ipython",
    "version": 2
   },
   "file_extension": ".py",
   "mimetype": "text/x-python",
   "name": "python",
   "nbconvert_exporter": "python",
   "pygments_lexer": "ipython2",
   "version": "2.7.6"
  },
  "pycharm": {
   "stem_cell": {
    "cell_type": "raw",
    "source": [],
    "metadata": {
     "collapsed": false
    }
   }
  }
 },
 "nbformat": 4,
 "nbformat_minor": 0
}